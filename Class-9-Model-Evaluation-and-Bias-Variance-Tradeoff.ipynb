{
 "cells": [
  {
   "cell_type": "code",
   "id": "initial_id",
   "metadata": {
    "collapsed": true,
    "ExecuteTime": {
     "end_time": "2025-06-22T16:29:25.001139Z",
     "start_time": "2025-06-22T16:29:24.961858Z"
    }
   },
   "source": [
    "\"\"\" Class 9. Model Evaluation and Bias Variance Tradeoff\n",
    "\"\"\"\n",
    "\n",
    "import numpy as np\n",
    "import os\n",
    "import pandas as pd\n",
    "import matplotlib.pyplot as plt\n",
    "\n",
    "%matplotlib notebook\n",
    "plt.style.use('E:\\\\PyCharmProjects\\\\pythonProject\\\\test\\\\deeplearning.mplstyle')"
   ],
   "outputs": [],
   "execution_count": 47
  },
  {
   "metadata": {
    "ExecuteTime": {
     "end_time": "2025-06-22T16:29:25.031808Z",
     "start_time": "2025-06-22T16:29:25.023776Z"
    }
   },
   "cell_type": "code",
   "source": [
    "\"\"\" Define the task: House price prediction with multiple inputs using linear regression\n",
    "\n",
    "y_pred = w * x + b where x is a real number i.e. 8.6\n",
    "y_pred = w * X + b where X = [x1, x2, ..., xn] X = [1.2, 1.5, 2.6, ....]\n",
    "\n",
    "x1, x2, x3 = (2, 4, 5)\n",
    "y_pred = w1 * x1 + w2 * x2 + w3 * x3 + b\n",
    "       = [w1, w2, w3] x [x1, x2, x3] + b\n",
    "       = W * X + b\n",
    "\n",
    "Objective: \n",
    "   1. Define the task\n",
    "   2. Data Cleaning and Preprocessing\n",
    "   3. Data Splitting\n",
    "   4. Model Training\n",
    "\"\"\"\n",
    "\n",
    "ROOT_DIR = \"E:\\\\PyCharmProjects\\\\pythonProject\"\n",
    "DATA_DIR = os.path.join(ROOT_DIR, \"data\")\n",
    "DATASET_PATH = os.path.join(DATA_DIR, \"housing.csv\")"
   ],
   "id": "a28f23b0ebd42eaf",
   "outputs": [],
   "execution_count": 48
  },
  {
   "metadata": {
    "ExecuteTime": {
     "end_time": "2025-06-22T16:29:25.156965Z",
     "start_time": "2025-06-22T16:29:25.121426Z"
    }
   },
   "cell_type": "code",
   "source": [
    "housing_dataset = pd.read_csv(DATASET_PATH)\n",
    "housing_dataset.head()"
   ],
   "id": "a72d46ed93bce663",
   "outputs": [
    {
     "data": {
      "text/plain": [
       "      price  area  bedrooms  bathrooms  stories mainroad guestroom basement  \\\n",
       "0  13300000  7420         4          2        3      yes        no       no   \n",
       "1  12250000  8960         4          4        4      yes        no       no   \n",
       "2  12250000  9960         3          2        2      yes        no      yes   \n",
       "3  12215000  7500         4          2        2      yes        no      yes   \n",
       "4  11410000  7420         4          1        2      yes       yes      yes   \n",
       "\n",
       "  hotwaterheating airconditioning  parking prefarea furnishingstatus  \n",
       "0              no             yes        2      yes        furnished  \n",
       "1              no             yes        3       no        furnished  \n",
       "2              no              no        2      yes   semi-furnished  \n",
       "3              no             yes        3      yes        furnished  \n",
       "4              no             yes        2       no        furnished  "
      ],
      "text/html": [
       "<div>\n",
       "<style scoped>\n",
       "    .dataframe tbody tr th:only-of-type {\n",
       "        vertical-align: middle;\n",
       "    }\n",
       "\n",
       "    .dataframe tbody tr th {\n",
       "        vertical-align: top;\n",
       "    }\n",
       "\n",
       "    .dataframe thead th {\n",
       "        text-align: right;\n",
       "    }\n",
       "</style>\n",
       "<table border=\"1\" class=\"dataframe\">\n",
       "  <thead>\n",
       "    <tr style=\"text-align: right;\">\n",
       "      <th></th>\n",
       "      <th>price</th>\n",
       "      <th>area</th>\n",
       "      <th>bedrooms</th>\n",
       "      <th>bathrooms</th>\n",
       "      <th>stories</th>\n",
       "      <th>mainroad</th>\n",
       "      <th>guestroom</th>\n",
       "      <th>basement</th>\n",
       "      <th>hotwaterheating</th>\n",
       "      <th>airconditioning</th>\n",
       "      <th>parking</th>\n",
       "      <th>prefarea</th>\n",
       "      <th>furnishingstatus</th>\n",
       "    </tr>\n",
       "  </thead>\n",
       "  <tbody>\n",
       "    <tr>\n",
       "      <th>0</th>\n",
       "      <td>13300000</td>\n",
       "      <td>7420</td>\n",
       "      <td>4</td>\n",
       "      <td>2</td>\n",
       "      <td>3</td>\n",
       "      <td>yes</td>\n",
       "      <td>no</td>\n",
       "      <td>no</td>\n",
       "      <td>no</td>\n",
       "      <td>yes</td>\n",
       "      <td>2</td>\n",
       "      <td>yes</td>\n",
       "      <td>furnished</td>\n",
       "    </tr>\n",
       "    <tr>\n",
       "      <th>1</th>\n",
       "      <td>12250000</td>\n",
       "      <td>8960</td>\n",
       "      <td>4</td>\n",
       "      <td>4</td>\n",
       "      <td>4</td>\n",
       "      <td>yes</td>\n",
       "      <td>no</td>\n",
       "      <td>no</td>\n",
       "      <td>no</td>\n",
       "      <td>yes</td>\n",
       "      <td>3</td>\n",
       "      <td>no</td>\n",
       "      <td>furnished</td>\n",
       "    </tr>\n",
       "    <tr>\n",
       "      <th>2</th>\n",
       "      <td>12250000</td>\n",
       "      <td>9960</td>\n",
       "      <td>3</td>\n",
       "      <td>2</td>\n",
       "      <td>2</td>\n",
       "      <td>yes</td>\n",
       "      <td>no</td>\n",
       "      <td>yes</td>\n",
       "      <td>no</td>\n",
       "      <td>no</td>\n",
       "      <td>2</td>\n",
       "      <td>yes</td>\n",
       "      <td>semi-furnished</td>\n",
       "    </tr>\n",
       "    <tr>\n",
       "      <th>3</th>\n",
       "      <td>12215000</td>\n",
       "      <td>7500</td>\n",
       "      <td>4</td>\n",
       "      <td>2</td>\n",
       "      <td>2</td>\n",
       "      <td>yes</td>\n",
       "      <td>no</td>\n",
       "      <td>yes</td>\n",
       "      <td>no</td>\n",
       "      <td>yes</td>\n",
       "      <td>3</td>\n",
       "      <td>yes</td>\n",
       "      <td>furnished</td>\n",
       "    </tr>\n",
       "    <tr>\n",
       "      <th>4</th>\n",
       "      <td>11410000</td>\n",
       "      <td>7420</td>\n",
       "      <td>4</td>\n",
       "      <td>1</td>\n",
       "      <td>2</td>\n",
       "      <td>yes</td>\n",
       "      <td>yes</td>\n",
       "      <td>yes</td>\n",
       "      <td>no</td>\n",
       "      <td>yes</td>\n",
       "      <td>2</td>\n",
       "      <td>no</td>\n",
       "      <td>furnished</td>\n",
       "    </tr>\n",
       "  </tbody>\n",
       "</table>\n",
       "</div>"
      ]
     },
     "execution_count": 49,
     "metadata": {},
     "output_type": "execute_result"
    }
   ],
   "execution_count": 49
  },
  {
   "metadata": {
    "ExecuteTime": {
     "end_time": "2025-06-22T16:29:25.172102Z",
     "start_time": "2025-06-22T16:29:25.158974Z"
    }
   },
   "cell_type": "code",
   "source": "housing_dataset.columns\n",
   "id": "e3767868510d55c6",
   "outputs": [
    {
     "data": {
      "text/plain": [
       "Index(['price', 'area', 'bedrooms', 'bathrooms', 'stories', 'mainroad',\n",
       "       'guestroom', 'basement', 'hotwaterheating', 'airconditioning',\n",
       "       'parking', 'prefarea', 'furnishingstatus'],\n",
       "      dtype='object')"
      ]
     },
     "execution_count": 50,
     "metadata": {},
     "output_type": "execute_result"
    }
   ],
   "execution_count": 50
  },
  {
   "metadata": {
    "ExecuteTime": {
     "end_time": "2025-06-22T16:29:25.219048Z",
     "start_time": "2025-06-22T16:29:25.188023Z"
    }
   },
   "cell_type": "code",
   "source": [
    "housing_dataset = housing_dataset[[\n",
    "    'area', 'bedrooms', 'bathrooms', 'stories', 'mainroad',\n",
    "    'guestroom', 'basement', 'hotwaterheating', 'airconditioning',\n",
    "    'parking', 'prefarea', 'furnishingstatus', 'price'\n",
    "]]\n",
    "\n",
    "housing_dataset.head()"
   ],
   "id": "1fa8ccafd597d910",
   "outputs": [
    {
     "data": {
      "text/plain": [
       "   area  bedrooms  bathrooms  stories mainroad guestroom basement  \\\n",
       "0  7420         4          2        3      yes        no       no   \n",
       "1  8960         4          4        4      yes        no       no   \n",
       "2  9960         3          2        2      yes        no      yes   \n",
       "3  7500         4          2        2      yes        no      yes   \n",
       "4  7420         4          1        2      yes       yes      yes   \n",
       "\n",
       "  hotwaterheating airconditioning  parking prefarea furnishingstatus     price  \n",
       "0              no             yes        2      yes        furnished  13300000  \n",
       "1              no             yes        3       no        furnished  12250000  \n",
       "2              no              no        2      yes   semi-furnished  12250000  \n",
       "3              no             yes        3      yes        furnished  12215000  \n",
       "4              no             yes        2       no        furnished  11410000  "
      ],
      "text/html": [
       "<div>\n",
       "<style scoped>\n",
       "    .dataframe tbody tr th:only-of-type {\n",
       "        vertical-align: middle;\n",
       "    }\n",
       "\n",
       "    .dataframe tbody tr th {\n",
       "        vertical-align: top;\n",
       "    }\n",
       "\n",
       "    .dataframe thead th {\n",
       "        text-align: right;\n",
       "    }\n",
       "</style>\n",
       "<table border=\"1\" class=\"dataframe\">\n",
       "  <thead>\n",
       "    <tr style=\"text-align: right;\">\n",
       "      <th></th>\n",
       "      <th>area</th>\n",
       "      <th>bedrooms</th>\n",
       "      <th>bathrooms</th>\n",
       "      <th>stories</th>\n",
       "      <th>mainroad</th>\n",
       "      <th>guestroom</th>\n",
       "      <th>basement</th>\n",
       "      <th>hotwaterheating</th>\n",
       "      <th>airconditioning</th>\n",
       "      <th>parking</th>\n",
       "      <th>prefarea</th>\n",
       "      <th>furnishingstatus</th>\n",
       "      <th>price</th>\n",
       "    </tr>\n",
       "  </thead>\n",
       "  <tbody>\n",
       "    <tr>\n",
       "      <th>0</th>\n",
       "      <td>7420</td>\n",
       "      <td>4</td>\n",
       "      <td>2</td>\n",
       "      <td>3</td>\n",
       "      <td>yes</td>\n",
       "      <td>no</td>\n",
       "      <td>no</td>\n",
       "      <td>no</td>\n",
       "      <td>yes</td>\n",
       "      <td>2</td>\n",
       "      <td>yes</td>\n",
       "      <td>furnished</td>\n",
       "      <td>13300000</td>\n",
       "    </tr>\n",
       "    <tr>\n",
       "      <th>1</th>\n",
       "      <td>8960</td>\n",
       "      <td>4</td>\n",
       "      <td>4</td>\n",
       "      <td>4</td>\n",
       "      <td>yes</td>\n",
       "      <td>no</td>\n",
       "      <td>no</td>\n",
       "      <td>no</td>\n",
       "      <td>yes</td>\n",
       "      <td>3</td>\n",
       "      <td>no</td>\n",
       "      <td>furnished</td>\n",
       "      <td>12250000</td>\n",
       "    </tr>\n",
       "    <tr>\n",
       "      <th>2</th>\n",
       "      <td>9960</td>\n",
       "      <td>3</td>\n",
       "      <td>2</td>\n",
       "      <td>2</td>\n",
       "      <td>yes</td>\n",
       "      <td>no</td>\n",
       "      <td>yes</td>\n",
       "      <td>no</td>\n",
       "      <td>no</td>\n",
       "      <td>2</td>\n",
       "      <td>yes</td>\n",
       "      <td>semi-furnished</td>\n",
       "      <td>12250000</td>\n",
       "    </tr>\n",
       "    <tr>\n",
       "      <th>3</th>\n",
       "      <td>7500</td>\n",
       "      <td>4</td>\n",
       "      <td>2</td>\n",
       "      <td>2</td>\n",
       "      <td>yes</td>\n",
       "      <td>no</td>\n",
       "      <td>yes</td>\n",
       "      <td>no</td>\n",
       "      <td>yes</td>\n",
       "      <td>3</td>\n",
       "      <td>yes</td>\n",
       "      <td>furnished</td>\n",
       "      <td>12215000</td>\n",
       "    </tr>\n",
       "    <tr>\n",
       "      <th>4</th>\n",
       "      <td>7420</td>\n",
       "      <td>4</td>\n",
       "      <td>1</td>\n",
       "      <td>2</td>\n",
       "      <td>yes</td>\n",
       "      <td>yes</td>\n",
       "      <td>yes</td>\n",
       "      <td>no</td>\n",
       "      <td>yes</td>\n",
       "      <td>2</td>\n",
       "      <td>no</td>\n",
       "      <td>furnished</td>\n",
       "      <td>11410000</td>\n",
       "    </tr>\n",
       "  </tbody>\n",
       "</table>\n",
       "</div>"
      ]
     },
     "execution_count": 51,
     "metadata": {},
     "output_type": "execute_result"
    }
   ],
   "execution_count": 51
  },
  {
   "metadata": {
    "ExecuteTime": {
     "end_time": "2025-06-22T16:29:25.235088Z",
     "start_time": "2025-06-22T16:29:25.223581Z"
    }
   },
   "cell_type": "code",
   "source": "\"\"\" Data Cleaning and Preprocessing \"\"\"",
   "id": "c2e4c1202e612cf6",
   "outputs": [
    {
     "data": {
      "text/plain": [
       "' Data Cleaning and Preprocessing '"
      ]
     },
     "execution_count": 52,
     "metadata": {},
     "output_type": "execute_result"
    }
   ],
   "execution_count": 52
  },
  {
   "metadata": {
    "ExecuteTime": {
     "end_time": "2025-06-22T16:29:25.313545Z",
     "start_time": "2025-06-22T16:29:25.286622Z"
    }
   },
   "cell_type": "code",
   "source": "housing_dataset.info()",
   "id": "2ccd6c365a860d9f",
   "outputs": [
    {
     "name": "stdout",
     "output_type": "stream",
     "text": [
      "<class 'pandas.core.frame.DataFrame'>\n",
      "RangeIndex: 545 entries, 0 to 544\n",
      "Data columns (total 13 columns):\n",
      " #   Column            Non-Null Count  Dtype \n",
      "---  ------            --------------  ----- \n",
      " 0   area              545 non-null    int64 \n",
      " 1   bedrooms          545 non-null    int64 \n",
      " 2   bathrooms         545 non-null    int64 \n",
      " 3   stories           545 non-null    int64 \n",
      " 4   mainroad          545 non-null    object\n",
      " 5   guestroom         545 non-null    object\n",
      " 6   basement          545 non-null    object\n",
      " 7   hotwaterheating   545 non-null    object\n",
      " 8   airconditioning   545 non-null    object\n",
      " 9   parking           545 non-null    int64 \n",
      " 10  prefarea          545 non-null    object\n",
      " 11  furnishingstatus  545 non-null    object\n",
      " 12  price             545 non-null    int64 \n",
      "dtypes: int64(6), object(7)\n",
      "memory usage: 55.5+ KB\n"
     ]
    }
   ],
   "execution_count": 53
  },
  {
   "metadata": {
    "ExecuteTime": {
     "end_time": "2025-06-22T16:29:25.424902Z",
     "start_time": "2025-06-22T16:29:25.410845Z"
    }
   },
   "cell_type": "code",
   "source": [
    "numerical_cols = housing_dataset.select_dtypes(include='number').columns\n",
    "\n",
    "numerical_cols"
   ],
   "id": "b80e411dba76aeef",
   "outputs": [
    {
     "data": {
      "text/plain": [
       "Index(['area', 'bedrooms', 'bathrooms', 'stories', 'parking', 'price'], dtype='object')"
      ]
     },
     "execution_count": 54,
     "metadata": {},
     "output_type": "execute_result"
    }
   ],
   "execution_count": 54
  },
  {
   "metadata": {
    "ExecuteTime": {
     "end_time": "2025-06-22T16:29:25.626390Z",
     "start_time": "2025-06-22T16:29:25.612350Z"
    }
   },
   "cell_type": "code",
   "source": [
    "categorical_cols = housing_dataset.select_dtypes(include='object').columns\n",
    "categorical_cols"
   ],
   "id": "7e71a4928f76e217",
   "outputs": [
    {
     "data": {
      "text/plain": [
       "Index(['mainroad', 'guestroom', 'basement', 'hotwaterheating',\n",
       "       'airconditioning', 'prefarea', 'furnishingstatus'],\n",
       "      dtype='object')"
      ]
     },
     "execution_count": 55,
     "metadata": {},
     "output_type": "execute_result"
    }
   ],
   "execution_count": 55
  },
  {
   "metadata": {
    "ExecuteTime": {
     "end_time": "2025-06-22T16:29:25.719030Z",
     "start_time": "2025-06-22T16:29:25.696756Z"
    }
   },
   "cell_type": "code",
   "source": [
    "\"\"\" Standardization of the numerical columns \"\"\"\n",
    "\n",
    "mean = housing_dataset[ numerical_cols ].mean()\n",
    "mean"
   ],
   "id": "53ce84d3899b53b9",
   "outputs": [
    {
     "data": {
      "text/plain": [
       "area         5.150541e+03\n",
       "bedrooms     2.965138e+00\n",
       "bathrooms    1.286239e+00\n",
       "stories      1.805505e+00\n",
       "parking      6.935780e-01\n",
       "price        4.766729e+06\n",
       "dtype: float64"
      ]
     },
     "execution_count": 56,
     "metadata": {},
     "output_type": "execute_result"
    }
   ],
   "execution_count": 56
  },
  {
   "metadata": {
    "ExecuteTime": {
     "end_time": "2025-06-22T16:29:25.734081Z",
     "start_time": "2025-06-22T16:29:25.723544Z"
    }
   },
   "cell_type": "code",
   "source": [
    "std = housing_dataset[ numerical_cols ].std()\n",
    "std"
   ],
   "id": "de2deaf5944843a1",
   "outputs": [
    {
     "data": {
      "text/plain": [
       "area         2.170141e+03\n",
       "bedrooms     7.380639e-01\n",
       "bathrooms    5.024696e-01\n",
       "stories      8.674925e-01\n",
       "parking      8.615858e-01\n",
       "price        1.870440e+06\n",
       "dtype: float64"
      ]
     },
     "execution_count": 57,
     "metadata": {},
     "output_type": "execute_result"
    }
   ],
   "execution_count": 57
  },
  {
   "metadata": {
    "ExecuteTime": {
     "end_time": "2025-06-22T16:29:25.793850Z",
     "start_time": "2025-06-22T16:29:25.769635Z"
    }
   },
   "cell_type": "code",
   "source": [
    "\"\"\" \n",
    "x_standardized = (x - mean) / std\n",
    "x_min_max_normalized = (x - min) / (max - min)\n",
    "\"\"\"\n",
    "housing_dataset[ numerical_cols ] = (housing_dataset[ numerical_cols ] - mean) / std\n",
    "housing_dataset.head()"
   ],
   "id": "5e5a39b31ce9749",
   "outputs": [
    {
     "data": {
      "text/plain": [
       "       area  bedrooms  bathrooms   stories mainroad guestroom basement  \\\n",
       "0  1.045766  1.402131   1.420507  1.376952      yes        no       no   \n",
       "1  1.755397  1.402131   5.400847  2.529700      yes        no       no   \n",
       "2  2.216196  0.047235   1.420507  0.224204      yes        no      yes   \n",
       "3  1.082630  1.402131   1.420507  0.224204      yes        no      yes   \n",
       "4  1.045766  1.402131  -0.569663  0.224204      yes       yes      yes   \n",
       "\n",
       "  hotwaterheating airconditioning   parking prefarea furnishingstatus  \\\n",
       "0              no             yes  1.516299      yes        furnished   \n",
       "1              no             yes  2.676950       no        furnished   \n",
       "2              no              no  1.516299      yes   semi-furnished   \n",
       "3              no             yes  2.676950      yes        furnished   \n",
       "4              no             yes  1.516299       no        furnished   \n",
       "\n",
       "      price  \n",
       "0  4.562174  \n",
       "1  4.000809  \n",
       "2  4.000809  \n",
       "3  3.982096  \n",
       "4  3.551716  "
      ],
      "text/html": [
       "<div>\n",
       "<style scoped>\n",
       "    .dataframe tbody tr th:only-of-type {\n",
       "        vertical-align: middle;\n",
       "    }\n",
       "\n",
       "    .dataframe tbody tr th {\n",
       "        vertical-align: top;\n",
       "    }\n",
       "\n",
       "    .dataframe thead th {\n",
       "        text-align: right;\n",
       "    }\n",
       "</style>\n",
       "<table border=\"1\" class=\"dataframe\">\n",
       "  <thead>\n",
       "    <tr style=\"text-align: right;\">\n",
       "      <th></th>\n",
       "      <th>area</th>\n",
       "      <th>bedrooms</th>\n",
       "      <th>bathrooms</th>\n",
       "      <th>stories</th>\n",
       "      <th>mainroad</th>\n",
       "      <th>guestroom</th>\n",
       "      <th>basement</th>\n",
       "      <th>hotwaterheating</th>\n",
       "      <th>airconditioning</th>\n",
       "      <th>parking</th>\n",
       "      <th>prefarea</th>\n",
       "      <th>furnishingstatus</th>\n",
       "      <th>price</th>\n",
       "    </tr>\n",
       "  </thead>\n",
       "  <tbody>\n",
       "    <tr>\n",
       "      <th>0</th>\n",
       "      <td>1.045766</td>\n",
       "      <td>1.402131</td>\n",
       "      <td>1.420507</td>\n",
       "      <td>1.376952</td>\n",
       "      <td>yes</td>\n",
       "      <td>no</td>\n",
       "      <td>no</td>\n",
       "      <td>no</td>\n",
       "      <td>yes</td>\n",
       "      <td>1.516299</td>\n",
       "      <td>yes</td>\n",
       "      <td>furnished</td>\n",
       "      <td>4.562174</td>\n",
       "    </tr>\n",
       "    <tr>\n",
       "      <th>1</th>\n",
       "      <td>1.755397</td>\n",
       "      <td>1.402131</td>\n",
       "      <td>5.400847</td>\n",
       "      <td>2.529700</td>\n",
       "      <td>yes</td>\n",
       "      <td>no</td>\n",
       "      <td>no</td>\n",
       "      <td>no</td>\n",
       "      <td>yes</td>\n",
       "      <td>2.676950</td>\n",
       "      <td>no</td>\n",
       "      <td>furnished</td>\n",
       "      <td>4.000809</td>\n",
       "    </tr>\n",
       "    <tr>\n",
       "      <th>2</th>\n",
       "      <td>2.216196</td>\n",
       "      <td>0.047235</td>\n",
       "      <td>1.420507</td>\n",
       "      <td>0.224204</td>\n",
       "      <td>yes</td>\n",
       "      <td>no</td>\n",
       "      <td>yes</td>\n",
       "      <td>no</td>\n",
       "      <td>no</td>\n",
       "      <td>1.516299</td>\n",
       "      <td>yes</td>\n",
       "      <td>semi-furnished</td>\n",
       "      <td>4.000809</td>\n",
       "    </tr>\n",
       "    <tr>\n",
       "      <th>3</th>\n",
       "      <td>1.082630</td>\n",
       "      <td>1.402131</td>\n",
       "      <td>1.420507</td>\n",
       "      <td>0.224204</td>\n",
       "      <td>yes</td>\n",
       "      <td>no</td>\n",
       "      <td>yes</td>\n",
       "      <td>no</td>\n",
       "      <td>yes</td>\n",
       "      <td>2.676950</td>\n",
       "      <td>yes</td>\n",
       "      <td>furnished</td>\n",
       "      <td>3.982096</td>\n",
       "    </tr>\n",
       "    <tr>\n",
       "      <th>4</th>\n",
       "      <td>1.045766</td>\n",
       "      <td>1.402131</td>\n",
       "      <td>-0.569663</td>\n",
       "      <td>0.224204</td>\n",
       "      <td>yes</td>\n",
       "      <td>yes</td>\n",
       "      <td>yes</td>\n",
       "      <td>no</td>\n",
       "      <td>yes</td>\n",
       "      <td>1.516299</td>\n",
       "      <td>no</td>\n",
       "      <td>furnished</td>\n",
       "      <td>3.551716</td>\n",
       "    </tr>\n",
       "  </tbody>\n",
       "</table>\n",
       "</div>"
      ]
     },
     "execution_count": 58,
     "metadata": {},
     "output_type": "execute_result"
    }
   ],
   "execution_count": 58
  },
  {
   "metadata": {
    "ExecuteTime": {
     "end_time": "2025-06-22T16:29:25.809765Z",
     "start_time": "2025-06-22T16:29:25.799701Z"
    }
   },
   "cell_type": "code",
   "source": [
    "\"\"\" Design decision: Your dataset must be representative of all categories uniformly.\n",
    "\"\"\"\n",
    "housing_dataset['furnishingstatus'].value_counts()"
   ],
   "id": "996b689cea78d4fc",
   "outputs": [
    {
     "data": {
      "text/plain": [
       "furnishingstatus\n",
       "semi-furnished    227\n",
       "unfurnished       178\n",
       "furnished         140\n",
       "Name: count, dtype: int64"
      ]
     },
     "execution_count": 59,
     "metadata": {},
     "output_type": "execute_result"
    }
   ],
   "execution_count": 59
  },
  {
   "metadata": {
    "ExecuteTime": {
     "end_time": "2025-06-22T16:29:25.871844Z",
     "start_time": "2025-06-22T16:29:25.844974Z"
    }
   },
   "cell_type": "code",
   "source": [
    "housing_dataset[categorical_cols] = housing_dataset[categorical_cols].apply(\n",
    "    lambda col: pd.Categorical(col).codes\n",
    ")\n",
    "\n",
    "housing_dataset.head()"
   ],
   "id": "4d784f7469a7e8ef",
   "outputs": [
    {
     "data": {
      "text/plain": [
       "       area  bedrooms  bathrooms   stories  mainroad  guestroom  basement  \\\n",
       "0  1.045766  1.402131   1.420507  1.376952         1          0         0   \n",
       "1  1.755397  1.402131   5.400847  2.529700         1          0         0   \n",
       "2  2.216196  0.047235   1.420507  0.224204         1          0         1   \n",
       "3  1.082630  1.402131   1.420507  0.224204         1          0         1   \n",
       "4  1.045766  1.402131  -0.569663  0.224204         1          1         1   \n",
       "\n",
       "   hotwaterheating  airconditioning   parking  prefarea  furnishingstatus  \\\n",
       "0                0                1  1.516299         1                 0   \n",
       "1                0                1  2.676950         0                 0   \n",
       "2                0                0  1.516299         1                 1   \n",
       "3                0                1  2.676950         1                 0   \n",
       "4                0                1  1.516299         0                 0   \n",
       "\n",
       "      price  \n",
       "0  4.562174  \n",
       "1  4.000809  \n",
       "2  4.000809  \n",
       "3  3.982096  \n",
       "4  3.551716  "
      ],
      "text/html": [
       "<div>\n",
       "<style scoped>\n",
       "    .dataframe tbody tr th:only-of-type {\n",
       "        vertical-align: middle;\n",
       "    }\n",
       "\n",
       "    .dataframe tbody tr th {\n",
       "        vertical-align: top;\n",
       "    }\n",
       "\n",
       "    .dataframe thead th {\n",
       "        text-align: right;\n",
       "    }\n",
       "</style>\n",
       "<table border=\"1\" class=\"dataframe\">\n",
       "  <thead>\n",
       "    <tr style=\"text-align: right;\">\n",
       "      <th></th>\n",
       "      <th>area</th>\n",
       "      <th>bedrooms</th>\n",
       "      <th>bathrooms</th>\n",
       "      <th>stories</th>\n",
       "      <th>mainroad</th>\n",
       "      <th>guestroom</th>\n",
       "      <th>basement</th>\n",
       "      <th>hotwaterheating</th>\n",
       "      <th>airconditioning</th>\n",
       "      <th>parking</th>\n",
       "      <th>prefarea</th>\n",
       "      <th>furnishingstatus</th>\n",
       "      <th>price</th>\n",
       "    </tr>\n",
       "  </thead>\n",
       "  <tbody>\n",
       "    <tr>\n",
       "      <th>0</th>\n",
       "      <td>1.045766</td>\n",
       "      <td>1.402131</td>\n",
       "      <td>1.420507</td>\n",
       "      <td>1.376952</td>\n",
       "      <td>1</td>\n",
       "      <td>0</td>\n",
       "      <td>0</td>\n",
       "      <td>0</td>\n",
       "      <td>1</td>\n",
       "      <td>1.516299</td>\n",
       "      <td>1</td>\n",
       "      <td>0</td>\n",
       "      <td>4.562174</td>\n",
       "    </tr>\n",
       "    <tr>\n",
       "      <th>1</th>\n",
       "      <td>1.755397</td>\n",
       "      <td>1.402131</td>\n",
       "      <td>5.400847</td>\n",
       "      <td>2.529700</td>\n",
       "      <td>1</td>\n",
       "      <td>0</td>\n",
       "      <td>0</td>\n",
       "      <td>0</td>\n",
       "      <td>1</td>\n",
       "      <td>2.676950</td>\n",
       "      <td>0</td>\n",
       "      <td>0</td>\n",
       "      <td>4.000809</td>\n",
       "    </tr>\n",
       "    <tr>\n",
       "      <th>2</th>\n",
       "      <td>2.216196</td>\n",
       "      <td>0.047235</td>\n",
       "      <td>1.420507</td>\n",
       "      <td>0.224204</td>\n",
       "      <td>1</td>\n",
       "      <td>0</td>\n",
       "      <td>1</td>\n",
       "      <td>0</td>\n",
       "      <td>0</td>\n",
       "      <td>1.516299</td>\n",
       "      <td>1</td>\n",
       "      <td>1</td>\n",
       "      <td>4.000809</td>\n",
       "    </tr>\n",
       "    <tr>\n",
       "      <th>3</th>\n",
       "      <td>1.082630</td>\n",
       "      <td>1.402131</td>\n",
       "      <td>1.420507</td>\n",
       "      <td>0.224204</td>\n",
       "      <td>1</td>\n",
       "      <td>0</td>\n",
       "      <td>1</td>\n",
       "      <td>0</td>\n",
       "      <td>1</td>\n",
       "      <td>2.676950</td>\n",
       "      <td>1</td>\n",
       "      <td>0</td>\n",
       "      <td>3.982096</td>\n",
       "    </tr>\n",
       "    <tr>\n",
       "      <th>4</th>\n",
       "      <td>1.045766</td>\n",
       "      <td>1.402131</td>\n",
       "      <td>-0.569663</td>\n",
       "      <td>0.224204</td>\n",
       "      <td>1</td>\n",
       "      <td>1</td>\n",
       "      <td>1</td>\n",
       "      <td>0</td>\n",
       "      <td>1</td>\n",
       "      <td>1.516299</td>\n",
       "      <td>0</td>\n",
       "      <td>0</td>\n",
       "      <td>3.551716</td>\n",
       "    </tr>\n",
       "  </tbody>\n",
       "</table>\n",
       "</div>"
      ]
     },
     "execution_count": 60,
     "metadata": {},
     "output_type": "execute_result"
    }
   ],
   "execution_count": 60
  },
  {
   "metadata": {
    "ExecuteTime": {
     "end_time": "2025-06-22T16:29:25.917911Z",
     "start_time": "2025-06-22T16:29:25.908364Z"
    }
   },
   "cell_type": "code",
   "source": "housing_dataset['furnishingstatus'].value_counts()",
   "id": "4a8f8aaf9944fa46",
   "outputs": [
    {
     "data": {
      "text/plain": [
       "furnishingstatus\n",
       "1    227\n",
       "2    178\n",
       "0    140\n",
       "Name: count, dtype: int64"
      ]
     },
     "execution_count": 61,
     "metadata": {},
     "output_type": "execute_result"
    }
   ],
   "execution_count": 61
  },
  {
   "metadata": {
    "ExecuteTime": {
     "end_time": "2025-06-22T16:29:26.057670Z",
     "start_time": "2025-06-22T16:29:26.040040Z"
    }
   },
   "cell_type": "code",
   "source": "len(housing_dataset.columns)",
   "id": "b2afaf3b9eba3499",
   "outputs": [
    {
     "data": {
      "text/plain": [
       "13"
      ]
     },
     "execution_count": 62,
     "metadata": {},
     "output_type": "execute_result"
    }
   ],
   "execution_count": 62
  },
  {
   "metadata": {
    "ExecuteTime": {
     "end_time": "2025-06-22T16:29:26.149594Z",
     "start_time": "2025-06-22T16:29:26.128167Z"
    }
   },
   "cell_type": "code",
   "source": [
    "\"\"\" Split the dataset into train, test, validation set \"\"\"\n",
    "\n",
    "# Seed value is used to reproduce the random value\n",
    "seed = 142\n",
    "np.random.seed(seed)\n",
    "\n",
    "np.random.rand()"
   ],
   "id": "774f41e9b781273a",
   "outputs": [
    {
     "data": {
      "text/plain": [
       "0.9020615248125082"
      ]
     },
     "execution_count": 63,
     "metadata": {},
     "output_type": "execute_result"
    }
   ],
   "execution_count": 63
  },
  {
   "metadata": {
    "ExecuteTime": {
     "end_time": "2025-06-22T16:29:26.226835Z",
     "start_time": "2025-06-22T16:29:26.209767Z"
    }
   },
   "cell_type": "code",
   "source": "np.random.permutation(10)",
   "id": "7cd56cf1fb28ff8b",
   "outputs": [
    {
     "data": {
      "text/plain": [
       "array([6, 8, 9, 7, 3, 4, 2, 5, 1, 0], dtype=int32)"
      ]
     },
     "execution_count": 64,
     "metadata": {},
     "output_type": "execute_result"
    }
   ],
   "execution_count": 64
  },
  {
   "metadata": {
    "ExecuteTime": {
     "end_time": "2025-06-22T16:29:26.303943Z",
     "start_time": "2025-06-22T16:29:26.296875Z"
    }
   },
   "cell_type": "code",
   "source": [
    "my_array = np.array(\n",
    "    [1, 2, 3, 4, 5, 6, 7, 8, 9, 10]\n",
    ")\n",
    "\n",
    "train=my_array[:6]\n",
    "val=my_array[6:6+2]\n",
    "test=my_array[6+2:]\n",
    "\n",
    "print(train)\n",
    "print(test)\n",
    "print(val)"
   ],
   "id": "d595e0d063bee7be",
   "outputs": [
    {
     "name": "stdout",
     "output_type": "stream",
     "text": [
      "[1 2 3 4 5 6]\n",
      "[ 9 10]\n",
      "[7 8]\n"
     ]
    }
   ],
   "execution_count": 65
  },
  {
   "metadata": {
    "ExecuteTime": {
     "end_time": "2025-06-22T16:29:26.350629Z",
     "start_time": "2025-06-22T16:29:26.329280Z"
    }
   },
   "cell_type": "code",
   "source": [
    "seed = 42\n",
    "np.random.seed(seed)\n",
    "\n",
    "def split_dataset(dataset, training_ratio=0.6, val_ratio=0.2):\n",
    "    no_of_examples = len(dataset)\n",
    "    random_indices = np.random.permutation(no_of_examples)\n",
    "    \n",
    "    train_size = int(training_ratio * no_of_examples)\n",
    "    val_size = int(val_ratio * no_of_examples)\n",
    "    \n",
    "    training_indices = random_indices[:train_size]\n",
    "    val_indices = random_indices[train_size:val_size + train_size]\n",
    "    test_indices = random_indices[val_size + train_size:]\n",
    "    \n",
    "    train_ds = dataset.iloc[training_indices]\n",
    "    val_ds = dataset.iloc[val_indices]\n",
    "    test_ds = dataset.iloc[test_indices]\n",
    "    \n",
    "    train_X = train_ds.iloc[:, :-1]\n",
    "    train_y = train_ds.iloc[:, -1]\n",
    "    \n",
    "    val_X = val_ds.iloc[:, :-1]\n",
    "    val_y = val_ds.iloc[:, -1]\n",
    "    \n",
    "    test_X = test_ds.iloc[:, :-1]\n",
    "    test_y = test_ds.iloc[:, -1]\n",
    "    \n",
    "    return train_X, train_y, val_X, val_y, test_X, test_y\n",
    "    \n",
    "train_X, train_y, val_X, val_y, test_X, test_y = split_dataset(housing_dataset)"
   ],
   "id": "f62f44e0abbd909c",
   "outputs": [],
   "execution_count": 66
  },
  {
   "metadata": {
    "ExecuteTime": {
     "end_time": "2025-06-22T16:29:26.397847Z",
     "start_time": "2025-06-22T16:29:26.378973Z"
    }
   },
   "cell_type": "code",
   "source": [
    "print(len(train_X))\n",
    "print(len(val_X))\n",
    "print(len(test_X))"
   ],
   "id": "b15b080d398b648a",
   "outputs": [
    {
     "name": "stdout",
     "output_type": "stream",
     "text": [
      "327\n",
      "109\n",
      "109\n"
     ]
    }
   ],
   "execution_count": 67
  },
  {
   "metadata": {
    "ExecuteTime": {
     "end_time": "2025-06-22T16:29:26.412958Z",
     "start_time": "2025-06-22T16:29:26.399864Z"
    }
   },
   "cell_type": "code",
   "source": [
    "\"\"\" ML algorithm \n",
    "\n",
    "X = [[x11, x12, x13]\n",
    "     [x21, X22, x23]\n",
    "     [x31, X32, X33]]\n",
    "     \n",
    "w = [w1, w2, w3]\n",
    "\n",
    "X dot w + b = [x11 * w1 + x12 * w2 + x13 * w3 + b] => y_pred_1\n",
    "              [x21 * w1 + x22 * w2 + x23 * w3 + b] => y_pred_2\n",
    "              [x31 * w1 + x32 * w2 + x33 * w3 + b] => y_pred_3\n",
    "\"\"\"\n",
    "\n",
    "def get_house_price(X, w, b):\n",
    "    y_pred = np.dot(X, w) + b\n",
    "    return  y_pred"
   ],
   "id": "c1c71e85b629343a",
   "outputs": [],
   "execution_count": 68
  },
  {
   "metadata": {
    "ExecuteTime": {
     "end_time": "2025-06-22T16:29:26.428784Z",
     "start_time": "2025-06-22T16:29:26.415015Z"
    }
   },
   "cell_type": "code",
   "source": [
    "\"\"\" Initialization \"\"\"\n",
    "\n",
    "w = np.random.randint(low=100, high=200, size=train_X.columns.size)\n",
    "b = np.random.randint(low=100, high=200)\n",
    "w"
   ],
   "id": "7f7433ac264c4791",
   "outputs": [
    {
     "data": {
      "text/plain": [
       "array([106, 167, 157, 174, 128, 135, 188, 120, 135, 109, 172, 123],\n",
       "      dtype=int32)"
      ]
     },
     "execution_count": 69,
     "metadata": {},
     "output_type": "execute_result"
    }
   ],
   "execution_count": 69
  },
  {
   "metadata": {
    "ExecuteTime": {
     "end_time": "2025-06-22T16:29:26.444689Z",
     "start_time": "2025-06-22T16:29:26.430934Z"
    }
   },
   "cell_type": "code",
   "source": [
    "def cost_function(x, y_true, w, b):\n",
    "    y_pred = get_house_price(x, w, b)\n",
    "    mse = np.mean((y_true - y_pred) ** 2)\n",
    "    return mse"
   ],
   "id": "e4de5deada79d",
   "outputs": [],
   "execution_count": 70
  },
  {
   "metadata": {
    "ExecuteTime": {
     "end_time": "2025-06-22T16:29:26.490582Z",
     "start_time": "2025-06-22T16:29:26.475017Z"
    }
   },
   "cell_type": "code",
   "source": [
    "mse = cost_function(train_X, train_y, w, b)\n",
    "print(f\"MSE is {mse:0.2f}  (Parameters not learned yet.)\")"
   ],
   "id": "64b02245c1e86dca",
   "outputs": [
    {
     "name": "stdout",
     "output_type": "stream",
     "text": [
      "MSE is 636749.12  (Parameters not learned yet.)\n"
     ]
    }
   ],
   "execution_count": 71
  },
  {
   "metadata": {
    "ExecuteTime": {
     "end_time": "2025-06-22T16:29:26.521513Z",
     "start_time": "2025-06-22T16:29:26.509547Z"
    }
   },
   "cell_type": "code",
   "source": [
    "\"\"\"Gradient Descent\n",
    "- Compute cost (done)\n",
    "- Compute gradients\n",
    "- Update parameters\n",
    "\"\"\" \n",
    "\n",
    "def compute_gradient(X, y_true, w, b):\n",
    "    delta = 1e-9\n",
    "    cost_1 = cost_function(X, y_true, w, b)\n",
    "    cost_2 = cost_function(X, y_true, w + delta, b)\n",
    "    cost_3 = cost_function(X, y_true, w, b + delta)\n",
    "    dw = (cost_2 - cost_1) / delta\n",
    "    db = (cost_3 - cost_1) / delta\n",
    "    return dw, db"
   ],
   "id": "7b2f3802f156e1a8",
   "outputs": [],
   "execution_count": 72
  },
  {
   "metadata": {
    "ExecuteTime": {
     "end_time": "2025-06-22T16:29:26.569970Z",
     "start_time": "2025-06-22T16:29:26.559913Z"
    }
   },
   "cell_type": "code",
   "source": [
    "w = np.zeros(train_X.columns.size)\n",
    "b = 0"
   ],
   "id": "1dee65454727602c",
   "outputs": [],
   "execution_count": 73
  },
  {
   "metadata": {
    "ExecuteTime": {
     "end_time": "2025-06-22T16:29:43.070063Z",
     "start_time": "2025-06-22T16:29:26.593615Z"
    }
   },
   "cell_type": "code",
   "source": [
    "epochs = 10000\n",
    "lr = 0.0001\n",
    "\n",
    "for epoch in range(epochs):\n",
    "    \"\"\" Compute logis \"\"\"\n",
    "    loss = cost_function(train_X, train_y, w, b)\n",
    "    valid_loss = cost_function(val_X, val_y, w, b)\n",
    "    \n",
    "    \"\"\" Compute gradients \"\"\"\n",
    "    dw, db = compute_gradient(train_X, train_y, w, b)\n",
    "    \n",
    "    \"\"\" Update parameters \"\"\"\n",
    "    w = w - lr * dw\n",
    "    b = b - lr * db\n",
    "    \n",
    "    if epoch % 1000 == 0:\n",
    "        print(f\"Epoch {epoch} / {epochs}: loss = {loss:0.2f}, val_loss = {valid_loss:0.2f}\")"
   ],
   "id": "a6e9434cee0d0c6b",
   "outputs": [
    {
     "name": "stdout",
     "output_type": "stream",
     "text": [
      "Epoch 0 / 10000: loss = 1.06, val_loss = 0.80\n",
      "Epoch 1000 / 10000: loss = 0.67, val_loss = 0.53\n",
      "Epoch 2000 / 10000: loss = 0.63, val_loss = 0.49\n",
      "Epoch 3000 / 10000: loss = 0.59, val_loss = 0.46\n",
      "Epoch 4000 / 10000: loss = 0.56, val_loss = 0.43\n",
      "Epoch 5000 / 10000: loss = 0.54, val_loss = 0.41\n",
      "Epoch 6000 / 10000: loss = 0.52, val_loss = 0.40\n",
      "Epoch 7000 / 10000: loss = 0.51, val_loss = 0.39\n",
      "Epoch 8000 / 10000: loss = 0.50, val_loss = 0.38\n",
      "Epoch 9000 / 10000: loss = 0.49, val_loss = 0.37\n"
     ]
    }
   ],
   "execution_count": 74
  },
  {
   "metadata": {
    "ExecuteTime": {
     "end_time": "2025-06-22T16:30:20.376404Z",
     "start_time": "2025-06-22T16:30:20.359687Z"
    }
   },
   "cell_type": "code",
   "source": [
    "print(\"The learned parameters are:\")\n",
    "print(w)\n",
    "print(b)"
   ],
   "id": "90e88a5823baa41",
   "outputs": [
    {
     "name": "stdout",
     "output_type": "stream",
     "text": [
      "The learned parameters are:\n",
      "[0.18613675 0.18613675 0.18613675 0.18613675 0.18613675 0.18613675\n",
      " 0.18613675 0.18613675 0.18613675 0.18613675 0.18613675 0.18613675]\n",
      "-0.44733748663094985\n"
     ]
    }
   ],
   "execution_count": 75
  },
  {
   "metadata": {
    "ExecuteTime": {
     "end_time": "2025-06-22T16:31:03.997029Z",
     "start_time": "2025-06-22T16:31:03.983907Z"
    }
   },
   "cell_type": "code",
   "source": [
    "test_loss = cost_function(test_X, test_y, w, b)\n",
    "print(f\"MSE is {test_loss}\")"
   ],
   "id": "cc5c9f81d7d61650",
   "outputs": [
    {
     "name": "stdout",
     "output_type": "stream",
     "text": [
      "MSE is 0.4629988094676054\n"
     ]
    }
   ],
   "execution_count": 76
  },
  {
   "metadata": {
    "ExecuteTime": {
     "end_time": "2025-06-22T16:31:29.796699Z",
     "start_time": "2025-06-22T16:31:26.711659Z"
    }
   },
   "cell_type": "code",
   "source": [
    "from scipy.stats import entropy\n",
    "\n",
    "def kl_divergence(__y_true, __y_pred):\n",
    "    hist_true, __ = np.histogram(__y_true, bins=50, density=True)\n",
    "    hist_pred, __ = np.histogram(__y_pred, bins=50, density=True)\n",
    "    return entropy(hist_true + 1e-10, hist_pred + 1e-10)"
   ],
   "id": "13028770e50fe490",
   "outputs": [],
   "execution_count": 77
  },
  {
   "metadata": {
    "ExecuteTime": {
     "end_time": "2025-06-22T16:31:37.793166Z",
     "start_time": "2025-06-22T16:31:37.782610Z"
    }
   },
   "cell_type": "code",
   "source": [
    "print(f\"KL divergence on train dataset: {kl_divergence(np.array(train_y), get_house_price(train_X, w, b))}\")\n",
    "print(f\"KL divergence on validation dataset: {kl_divergence(np.array(val_y), get_house_price(val_X, w, b))}\")\n",
    "print(f\"KL divergence on test dataset: {kl_divergence(np.array(test_y), get_house_price(test_X, w, b))}\")"
   ],
   "id": "46af039ec7a82c8c",
   "outputs": [
    {
     "name": "stdout",
     "output_type": "stream",
     "text": [
      "KL divergence on train dataset: 1.209538430675083\n",
      "KL divergence on validation dataset: 3.1046599403586623\n",
      "KL divergence on test dataset: 2.880192683584217\n"
     ]
    }
   ],
   "execution_count": 78
  },
  {
   "metadata": {},
   "cell_type": "code",
   "outputs": [],
   "execution_count": null,
   "source": [
    "\"\"\"\n",
    "Generalization: Models performs good generally i.e. Good student\n",
    "Underfitting: Models performs badly on every data set i.e. A inattentive student\n",
    "Overfitting: Models performs very good on training dataset but performs badly in test set. i.e. students who work really hard but underperformed on the final exam\n",
    "\"\"\"\n",
    "\n",
    "\"\"\" Bias \n",
    "\n",
    "Definition: \n",
    "    It refers to the error due to overly simplistic assumptions in the learning algorithm\n",
    "\n",
    "High bias: means that the model is too simple to fit the data. (Underfitting)\n",
    "Low bias: achieved a remarkable performance on the data. (Desired)\n",
    "\"\"\"\n",
    "\n",
    "\"\"\" Variance\n",
    "Variance refers to the model's sensitivity to small fluctuations in the training data.\n",
    "\n",
    "High Variance: occurs when the model is too complex it fits the data (including the noise) very well. (Overfitting)\n",
    "Low variance: achieved when the model is able to generalize the new data. (Desired)\n",
    "\"\"\"\n",
    "\n",
    "# Bias Variance Tradeoff used in Model selection\n",
    "# Task, Dataset\n",
    "# We measure the performance of the model using some evaluation metrics\n",
    "# For classification we use accuracy, f1, precision, recall\n",
    "# Model 1, accuracy 1, f1 1, precision 1, recall 1 \n",
    "# ,total_error = bias ** 2 + variance = 1\n",
    "# Model 2, accuracy 2, f1 2, precision 2, recall 2, \n",
    "# total_error = bias ** 2 + variance = 0.5\n",
    "# Model 3, accuracy 3, f1 3, precision 3, recall 3, \n",
    "# total_error = bias ** 2 + variance = 2"
   ],
   "id": "5cde11ac3d9d362c"
  }
 ],
 "metadata": {
  "kernelspec": {
   "display_name": "Python 3",
   "language": "python",
   "name": "python3"
  },
  "language_info": {
   "codemirror_mode": {
    "name": "ipython",
    "version": 2
   },
   "file_extension": ".py",
   "mimetype": "text/x-python",
   "name": "python",
   "nbconvert_exporter": "python",
   "pygments_lexer": "ipython2",
   "version": "2.7.6"
  }
 },
 "nbformat": 4,
 "nbformat_minor": 5
}
