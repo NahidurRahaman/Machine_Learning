{
  "nbformat": 4,
  "nbformat_minor": 0,
  "metadata": {
    "colab": {
      "provenance": [],
      "gpuType": "L4",
      "machine_shape": "hm",
      "include_colab_link": true
    },
    "kernelspec": {
      "name": "python3",
      "display_name": "Python 3"
    },
    "language_info": {
      "name": "python"
    },
    "accelerator": "GPU",
    "widgets": {
      "application/vnd.jupyter.widget-state+json": {
        "5b3fdaef099b491984da607946bc0b37": {
          "model_module": "@jupyter-widgets/controls",
          "model_name": "HBoxModel",
          "model_module_version": "1.5.0",
          "state": {
            "_dom_classes": [],
            "_model_module": "@jupyter-widgets/controls",
            "_model_module_version": "1.5.0",
            "_model_name": "HBoxModel",
            "_view_count": null,
            "_view_module": "@jupyter-widgets/controls",
            "_view_module_version": "1.5.0",
            "_view_name": "HBoxView",
            "box_style": "",
            "children": [
              "IPY_MODEL_ed4fd30a907d4702b4ed48904bde2f5b",
              "IPY_MODEL_fb38e832dfdf42dd99664cb1fbb20748",
              "IPY_MODEL_cfe8bd7865b14de2bdf001e4a74b753e"
            ],
            "layout": "IPY_MODEL_ba31081a4c09472abd7190624f37ad28"
          }
        },
        "ed4fd30a907d4702b4ed48904bde2f5b": {
          "model_module": "@jupyter-widgets/controls",
          "model_name": "HTMLModel",
          "model_module_version": "1.5.0",
          "state": {
            "_dom_classes": [],
            "_model_module": "@jupyter-widgets/controls",
            "_model_module_version": "1.5.0",
            "_model_name": "HTMLModel",
            "_view_count": null,
            "_view_module": "@jupyter-widgets/controls",
            "_view_module_version": "1.5.0",
            "_view_name": "HTMLView",
            "description": "",
            "description_tooltip": null,
            "layout": "IPY_MODEL_bd433570cbdb4e59adb3f7389f86e1a4",
            "placeholder": "​",
            "style": "IPY_MODEL_6bdc3348ab3e4d4eb674a583fb2d631b",
            "value": "model.safetensors: 100%"
          }
        },
        "fb38e832dfdf42dd99664cb1fbb20748": {
          "model_module": "@jupyter-widgets/controls",
          "model_name": "FloatProgressModel",
          "model_module_version": "1.5.0",
          "state": {
            "_dom_classes": [],
            "_model_module": "@jupyter-widgets/controls",
            "_model_module_version": "1.5.0",
            "_model_name": "FloatProgressModel",
            "_view_count": null,
            "_view_module": "@jupyter-widgets/controls",
            "_view_module_version": "1.5.0",
            "_view_name": "ProgressView",
            "bar_style": "success",
            "description": "",
            "description_tooltip": null,
            "layout": "IPY_MODEL_f5ef6385173b48f0a8715219aea49dce",
            "max": 193322802,
            "min": 0,
            "orientation": "horizontal",
            "style": "IPY_MODEL_13d058abf3db4136ae37b34a42cd0110",
            "value": 193322802
          }
        },
        "cfe8bd7865b14de2bdf001e4a74b753e": {
          "model_module": "@jupyter-widgets/controls",
          "model_name": "HTMLModel",
          "model_module_version": "1.5.0",
          "state": {
            "_dom_classes": [],
            "_model_module": "@jupyter-widgets/controls",
            "_model_module_version": "1.5.0",
            "_model_name": "HTMLModel",
            "_view_count": null,
            "_view_module": "@jupyter-widgets/controls",
            "_view_module_version": "1.5.0",
            "_view_name": "HTMLView",
            "description": "",
            "description_tooltip": null,
            "layout": "IPY_MODEL_8cee27c0587c4b0ebef7d5f69697220a",
            "placeholder": "​",
            "style": "IPY_MODEL_81b7ad9fcf444b018ccc8efbd33fca91",
            "value": " 193M/193M [00:01&lt;00:00, 223MB/s]"
          }
        },
        "ba31081a4c09472abd7190624f37ad28": {
          "model_module": "@jupyter-widgets/base",
          "model_name": "LayoutModel",
          "model_module_version": "1.2.0",
          "state": {
            "_model_module": "@jupyter-widgets/base",
            "_model_module_version": "1.2.0",
            "_model_name": "LayoutModel",
            "_view_count": null,
            "_view_module": "@jupyter-widgets/base",
            "_view_module_version": "1.2.0",
            "_view_name": "LayoutView",
            "align_content": null,
            "align_items": null,
            "align_self": null,
            "border": null,
            "bottom": null,
            "display": null,
            "flex": null,
            "flex_flow": null,
            "grid_area": null,
            "grid_auto_columns": null,
            "grid_auto_flow": null,
            "grid_auto_rows": null,
            "grid_column": null,
            "grid_gap": null,
            "grid_row": null,
            "grid_template_areas": null,
            "grid_template_columns": null,
            "grid_template_rows": null,
            "height": null,
            "justify_content": null,
            "justify_items": null,
            "left": null,
            "margin": null,
            "max_height": null,
            "max_width": null,
            "min_height": null,
            "min_width": null,
            "object_fit": null,
            "object_position": null,
            "order": null,
            "overflow": null,
            "overflow_x": null,
            "overflow_y": null,
            "padding": null,
            "right": null,
            "top": null,
            "visibility": null,
            "width": null
          }
        },
        "bd433570cbdb4e59adb3f7389f86e1a4": {
          "model_module": "@jupyter-widgets/base",
          "model_name": "LayoutModel",
          "model_module_version": "1.2.0",
          "state": {
            "_model_module": "@jupyter-widgets/base",
            "_model_module_version": "1.2.0",
            "_model_name": "LayoutModel",
            "_view_count": null,
            "_view_module": "@jupyter-widgets/base",
            "_view_module_version": "1.2.0",
            "_view_name": "LayoutView",
            "align_content": null,
            "align_items": null,
            "align_self": null,
            "border": null,
            "bottom": null,
            "display": null,
            "flex": null,
            "flex_flow": null,
            "grid_area": null,
            "grid_auto_columns": null,
            "grid_auto_flow": null,
            "grid_auto_rows": null,
            "grid_column": null,
            "grid_gap": null,
            "grid_row": null,
            "grid_template_areas": null,
            "grid_template_columns": null,
            "grid_template_rows": null,
            "height": null,
            "justify_content": null,
            "justify_items": null,
            "left": null,
            "margin": null,
            "max_height": null,
            "max_width": null,
            "min_height": null,
            "min_width": null,
            "object_fit": null,
            "object_position": null,
            "order": null,
            "overflow": null,
            "overflow_x": null,
            "overflow_y": null,
            "padding": null,
            "right": null,
            "top": null,
            "visibility": null,
            "width": null
          }
        },
        "6bdc3348ab3e4d4eb674a583fb2d631b": {
          "model_module": "@jupyter-widgets/controls",
          "model_name": "DescriptionStyleModel",
          "model_module_version": "1.5.0",
          "state": {
            "_model_module": "@jupyter-widgets/controls",
            "_model_module_version": "1.5.0",
            "_model_name": "DescriptionStyleModel",
            "_view_count": null,
            "_view_module": "@jupyter-widgets/base",
            "_view_module_version": "1.2.0",
            "_view_name": "StyleView",
            "description_width": ""
          }
        },
        "f5ef6385173b48f0a8715219aea49dce": {
          "model_module": "@jupyter-widgets/base",
          "model_name": "LayoutModel",
          "model_module_version": "1.2.0",
          "state": {
            "_model_module": "@jupyter-widgets/base",
            "_model_module_version": "1.2.0",
            "_model_name": "LayoutModel",
            "_view_count": null,
            "_view_module": "@jupyter-widgets/base",
            "_view_module_version": "1.2.0",
            "_view_name": "LayoutView",
            "align_content": null,
            "align_items": null,
            "align_self": null,
            "border": null,
            "bottom": null,
            "display": null,
            "flex": null,
            "flex_flow": null,
            "grid_area": null,
            "grid_auto_columns": null,
            "grid_auto_flow": null,
            "grid_auto_rows": null,
            "grid_column": null,
            "grid_gap": null,
            "grid_row": null,
            "grid_template_areas": null,
            "grid_template_columns": null,
            "grid_template_rows": null,
            "height": null,
            "justify_content": null,
            "justify_items": null,
            "left": null,
            "margin": null,
            "max_height": null,
            "max_width": null,
            "min_height": null,
            "min_width": null,
            "object_fit": null,
            "object_position": null,
            "order": null,
            "overflow": null,
            "overflow_x": null,
            "overflow_y": null,
            "padding": null,
            "right": null,
            "top": null,
            "visibility": null,
            "width": null
          }
        },
        "13d058abf3db4136ae37b34a42cd0110": {
          "model_module": "@jupyter-widgets/controls",
          "model_name": "ProgressStyleModel",
          "model_module_version": "1.5.0",
          "state": {
            "_model_module": "@jupyter-widgets/controls",
            "_model_module_version": "1.5.0",
            "_model_name": "ProgressStyleModel",
            "_view_count": null,
            "_view_module": "@jupyter-widgets/base",
            "_view_module_version": "1.2.0",
            "_view_name": "StyleView",
            "bar_color": null,
            "description_width": ""
          }
        },
        "8cee27c0587c4b0ebef7d5f69697220a": {
          "model_module": "@jupyter-widgets/base",
          "model_name": "LayoutModel",
          "model_module_version": "1.2.0",
          "state": {
            "_model_module": "@jupyter-widgets/base",
            "_model_module_version": "1.2.0",
            "_model_name": "LayoutModel",
            "_view_count": null,
            "_view_module": "@jupyter-widgets/base",
            "_view_module_version": "1.2.0",
            "_view_name": "LayoutView",
            "align_content": null,
            "align_items": null,
            "align_self": null,
            "border": null,
            "bottom": null,
            "display": null,
            "flex": null,
            "flex_flow": null,
            "grid_area": null,
            "grid_auto_columns": null,
            "grid_auto_flow": null,
            "grid_auto_rows": null,
            "grid_column": null,
            "grid_gap": null,
            "grid_row": null,
            "grid_template_areas": null,
            "grid_template_columns": null,
            "grid_template_rows": null,
            "height": null,
            "justify_content": null,
            "justify_items": null,
            "left": null,
            "margin": null,
            "max_height": null,
            "max_width": null,
            "min_height": null,
            "min_width": null,
            "object_fit": null,
            "object_position": null,
            "order": null,
            "overflow": null,
            "overflow_x": null,
            "overflow_y": null,
            "padding": null,
            "right": null,
            "top": null,
            "visibility": null,
            "width": null
          }
        },
        "81b7ad9fcf444b018ccc8efbd33fca91": {
          "model_module": "@jupyter-widgets/controls",
          "model_name": "DescriptionStyleModel",
          "model_module_version": "1.5.0",
          "state": {
            "_model_module": "@jupyter-widgets/controls",
            "_model_module_version": "1.5.0",
            "_model_name": "DescriptionStyleModel",
            "_view_count": null,
            "_view_module": "@jupyter-widgets/base",
            "_view_module_version": "1.2.0",
            "_view_name": "StyleView",
            "description_width": ""
          }
        },
        "eca3375bf84b40f4a8105fe4e5ae45fc": {
          "model_module": "@jupyter-widgets/controls",
          "model_name": "HBoxModel",
          "model_module_version": "1.5.0",
          "state": {
            "_dom_classes": [],
            "_model_module": "@jupyter-widgets/controls",
            "_model_module_version": "1.5.0",
            "_model_name": "HBoxModel",
            "_view_count": null,
            "_view_module": "@jupyter-widgets/controls",
            "_view_module_version": "1.5.0",
            "_view_name": "HBoxView",
            "box_style": "",
            "children": [
              "IPY_MODEL_980907795d1b402489879cb7c02f8a87",
              "IPY_MODEL_cbe9e0203fa24910a3b666d0bf855884",
              "IPY_MODEL_9357e548a91c44f0a9755bfc1e454129"
            ],
            "layout": "IPY_MODEL_bdf690fa9b2443868059fa6f70c24521"
          }
        },
        "980907795d1b402489879cb7c02f8a87": {
          "model_module": "@jupyter-widgets/controls",
          "model_name": "HTMLModel",
          "model_module_version": "1.5.0",
          "state": {
            "_dom_classes": [],
            "_model_module": "@jupyter-widgets/controls",
            "_model_module_version": "1.5.0",
            "_model_name": "HTMLModel",
            "_view_count": null,
            "_view_module": "@jupyter-widgets/controls",
            "_view_module_version": "1.5.0",
            "_view_name": "HTMLView",
            "description": "",
            "description_tooltip": null,
            "layout": "IPY_MODEL_9625ded873b6409db93092306c40eaea",
            "placeholder": "​",
            "style": "IPY_MODEL_badc7126b4ec4a4e975ead7a35bad1d0",
            "value": "model.safetensors: 100%"
          }
        },
        "cbe9e0203fa24910a3b666d0bf855884": {
          "model_module": "@jupyter-widgets/controls",
          "model_name": "FloatProgressModel",
          "model_module_version": "1.5.0",
          "state": {
            "_dom_classes": [],
            "_model_module": "@jupyter-widgets/controls",
            "_model_module_version": "1.5.0",
            "_model_name": "FloatProgressModel",
            "_view_count": null,
            "_view_module": "@jupyter-widgets/controls",
            "_view_module_version": "1.5.0",
            "_view_name": "ProgressView",
            "bar_style": "success",
            "description": "",
            "description_tooltip": null,
            "layout": "IPY_MODEL_c9f41a4406f14971b3d0c771dba23ec5",
            "max": 114374272,
            "min": 0,
            "orientation": "horizontal",
            "style": "IPY_MODEL_4d0ecd30843548a688d91e12e62c9841",
            "value": 114374272
          }
        },
        "9357e548a91c44f0a9755bfc1e454129": {
          "model_module": "@jupyter-widgets/controls",
          "model_name": "HTMLModel",
          "model_module_version": "1.5.0",
          "state": {
            "_dom_classes": [],
            "_model_module": "@jupyter-widgets/controls",
            "_model_module_version": "1.5.0",
            "_model_name": "HTMLModel",
            "_view_count": null,
            "_view_module": "@jupyter-widgets/controls",
            "_view_module_version": "1.5.0",
            "_view_name": "HTMLView",
            "description": "",
            "description_tooltip": null,
            "layout": "IPY_MODEL_66483a2a145d4d29b1e7e59b4313b5a8",
            "placeholder": "​",
            "style": "IPY_MODEL_a613035cd7cb4adab2d1126a97c54232",
            "value": " 114M/114M [00:00&lt;00:00, 240MB/s]"
          }
        },
        "bdf690fa9b2443868059fa6f70c24521": {
          "model_module": "@jupyter-widgets/base",
          "model_name": "LayoutModel",
          "model_module_version": "1.2.0",
          "state": {
            "_model_module": "@jupyter-widgets/base",
            "_model_module_version": "1.2.0",
            "_model_name": "LayoutModel",
            "_view_count": null,
            "_view_module": "@jupyter-widgets/base",
            "_view_module_version": "1.2.0",
            "_view_name": "LayoutView",
            "align_content": null,
            "align_items": null,
            "align_self": null,
            "border": null,
            "bottom": null,
            "display": null,
            "flex": null,
            "flex_flow": null,
            "grid_area": null,
            "grid_auto_columns": null,
            "grid_auto_flow": null,
            "grid_auto_rows": null,
            "grid_column": null,
            "grid_gap": null,
            "grid_row": null,
            "grid_template_areas": null,
            "grid_template_columns": null,
            "grid_template_rows": null,
            "height": null,
            "justify_content": null,
            "justify_items": null,
            "left": null,
            "margin": null,
            "max_height": null,
            "max_width": null,
            "min_height": null,
            "min_width": null,
            "object_fit": null,
            "object_position": null,
            "order": null,
            "overflow": null,
            "overflow_x": null,
            "overflow_y": null,
            "padding": null,
            "right": null,
            "top": null,
            "visibility": null,
            "width": null
          }
        },
        "9625ded873b6409db93092306c40eaea": {
          "model_module": "@jupyter-widgets/base",
          "model_name": "LayoutModel",
          "model_module_version": "1.2.0",
          "state": {
            "_model_module": "@jupyter-widgets/base",
            "_model_module_version": "1.2.0",
            "_model_name": "LayoutModel",
            "_view_count": null,
            "_view_module": "@jupyter-widgets/base",
            "_view_module_version": "1.2.0",
            "_view_name": "LayoutView",
            "align_content": null,
            "align_items": null,
            "align_self": null,
            "border": null,
            "bottom": null,
            "display": null,
            "flex": null,
            "flex_flow": null,
            "grid_area": null,
            "grid_auto_columns": null,
            "grid_auto_flow": null,
            "grid_auto_rows": null,
            "grid_column": null,
            "grid_gap": null,
            "grid_row": null,
            "grid_template_areas": null,
            "grid_template_columns": null,
            "grid_template_rows": null,
            "height": null,
            "justify_content": null,
            "justify_items": null,
            "left": null,
            "margin": null,
            "max_height": null,
            "max_width": null,
            "min_height": null,
            "min_width": null,
            "object_fit": null,
            "object_position": null,
            "order": null,
            "overflow": null,
            "overflow_x": null,
            "overflow_y": null,
            "padding": null,
            "right": null,
            "top": null,
            "visibility": null,
            "width": null
          }
        },
        "badc7126b4ec4a4e975ead7a35bad1d0": {
          "model_module": "@jupyter-widgets/controls",
          "model_name": "DescriptionStyleModel",
          "model_module_version": "1.5.0",
          "state": {
            "_model_module": "@jupyter-widgets/controls",
            "_model_module_version": "1.5.0",
            "_model_name": "DescriptionStyleModel",
            "_view_count": null,
            "_view_module": "@jupyter-widgets/base",
            "_view_module_version": "1.2.0",
            "_view_name": "StyleView",
            "description_width": ""
          }
        },
        "c9f41a4406f14971b3d0c771dba23ec5": {
          "model_module": "@jupyter-widgets/base",
          "model_name": "LayoutModel",
          "model_module_version": "1.2.0",
          "state": {
            "_model_module": "@jupyter-widgets/base",
            "_model_module_version": "1.2.0",
            "_model_name": "LayoutModel",
            "_view_count": null,
            "_view_module": "@jupyter-widgets/base",
            "_view_module_version": "1.2.0",
            "_view_name": "LayoutView",
            "align_content": null,
            "align_items": null,
            "align_self": null,
            "border": null,
            "bottom": null,
            "display": null,
            "flex": null,
            "flex_flow": null,
            "grid_area": null,
            "grid_auto_columns": null,
            "grid_auto_flow": null,
            "grid_auto_rows": null,
            "grid_column": null,
            "grid_gap": null,
            "grid_row": null,
            "grid_template_areas": null,
            "grid_template_columns": null,
            "grid_template_rows": null,
            "height": null,
            "justify_content": null,
            "justify_items": null,
            "left": null,
            "margin": null,
            "max_height": null,
            "max_width": null,
            "min_height": null,
            "min_width": null,
            "object_fit": null,
            "object_position": null,
            "order": null,
            "overflow": null,
            "overflow_x": null,
            "overflow_y": null,
            "padding": null,
            "right": null,
            "top": null,
            "visibility": null,
            "width": null
          }
        },
        "4d0ecd30843548a688d91e12e62c9841": {
          "model_module": "@jupyter-widgets/controls",
          "model_name": "ProgressStyleModel",
          "model_module_version": "1.5.0",
          "state": {
            "_model_module": "@jupyter-widgets/controls",
            "_model_module_version": "1.5.0",
            "_model_name": "ProgressStyleModel",
            "_view_count": null,
            "_view_module": "@jupyter-widgets/base",
            "_view_module_version": "1.2.0",
            "_view_name": "StyleView",
            "bar_color": null,
            "description_width": ""
          }
        },
        "66483a2a145d4d29b1e7e59b4313b5a8": {
          "model_module": "@jupyter-widgets/base",
          "model_name": "LayoutModel",
          "model_module_version": "1.2.0",
          "state": {
            "_model_module": "@jupyter-widgets/base",
            "_model_module_version": "1.2.0",
            "_model_name": "LayoutModel",
            "_view_count": null,
            "_view_module": "@jupyter-widgets/base",
            "_view_module_version": "1.2.0",
            "_view_name": "LayoutView",
            "align_content": null,
            "align_items": null,
            "align_self": null,
            "border": null,
            "bottom": null,
            "display": null,
            "flex": null,
            "flex_flow": null,
            "grid_area": null,
            "grid_auto_columns": null,
            "grid_auto_flow": null,
            "grid_auto_rows": null,
            "grid_column": null,
            "grid_gap": null,
            "grid_row": null,
            "grid_template_areas": null,
            "grid_template_columns": null,
            "grid_template_rows": null,
            "height": null,
            "justify_content": null,
            "justify_items": null,
            "left": null,
            "margin": null,
            "max_height": null,
            "max_width": null,
            "min_height": null,
            "min_width": null,
            "object_fit": null,
            "object_position": null,
            "order": null,
            "overflow": null,
            "overflow_x": null,
            "overflow_y": null,
            "padding": null,
            "right": null,
            "top": null,
            "visibility": null,
            "width": null
          }
        },
        "a613035cd7cb4adab2d1126a97c54232": {
          "model_module": "@jupyter-widgets/controls",
          "model_name": "DescriptionStyleModel",
          "model_module_version": "1.5.0",
          "state": {
            "_model_module": "@jupyter-widgets/controls",
            "_model_module_version": "1.5.0",
            "_model_name": "DescriptionStyleModel",
            "_view_count": null,
            "_view_module": "@jupyter-widgets/base",
            "_view_module_version": "1.2.0",
            "_view_name": "StyleView",
            "description_width": ""
          }
        }
      }
    }
  },
  "cells": [
    {
      "cell_type": "markdown",
      "metadata": {
        "id": "view-in-github",
        "colab_type": "text"
      },
      "source": [
        "<a href=\"https://colab.research.google.com/github/NahidurRahaman/Machine_Learning/blob/main/thesis(fer2013).ipynb\" target=\"_parent\"><img src=\"https://colab.research.google.com/assets/colab-badge.svg\" alt=\"Open In Colab\"/></a>"
      ]
    },
    {
      "cell_type": "code",
      "execution_count": 1,
      "metadata": {
        "id": "lNLXIYuJ98-_"
      },
      "outputs": [],
      "source": [
        "import pandas as pd\n",
        "import numpy as np\n",
        "import cv2\n",
        "import torch\n",
        "from torch.utils.data import Dataset, DataLoader\n",
        "from torchvision import transforms\n",
        "from PIL import Image\n",
        "from sklearn.model_selection import train_test_split"
      ]
    },
    {
      "cell_type": "code",
      "source": [
        "# Mount Google Drive\n",
        "from google.colab import drive\n",
        "drive.mount('/content/drive')"
      ],
      "metadata": {
        "colab": {
          "base_uri": "https://localhost:8080/"
        },
        "id": "YgRwbAaa_OwO",
        "outputId": "c34dc361-c375-4e65-b88a-d0888796881a"
      },
      "execution_count": 2,
      "outputs": [
        {
          "output_type": "stream",
          "name": "stdout",
          "text": [
            "Mounted at /content/drive\n"
          ]
        }
      ]
    },
    {
      "cell_type": "code",
      "source": [
        "# Load FER2013 CSV\n",
        "csv_path = '/content/drive/MyDrive/fer2013.csv'  # update path if needed\n",
        "df = pd.read_csv(csv_path)"
      ],
      "metadata": {
        "id": "-SmW6aB5_c7G"
      },
      "execution_count": 3,
      "outputs": []
    },
    {
      "cell_type": "code",
      "source": [
        "# Define emotion classes\n",
        "emotion_labels = {\n",
        "    0: 'Angry', 1: 'Disgust', 2: 'Fear', 3: 'Happy',\n",
        "    4: 'Sad', 5: 'Surprise', 6: 'Neutral'\n",
        "}\n",
        "\n",
        "import csv # Import the csv module\n",
        "\n",
        "# Custom dataset from CSV\n",
        "class FER2013Dataset(Dataset):\n",
        "    def __init__(self, dataframe, transform=None):\n",
        "        self.df = dataframe\n",
        "        self.transform = transform\n",
        "\n",
        "    def __len__(self):\n",
        "        return len(self.df)\n",
        "\n",
        "    def __getitem__(self, idx):\n",
        "        pixels = list(map(int, self.df.iloc[idx][\"pixels\"].split()))\n",
        "        img = np.asarray(pixels).reshape(48, 48).astype(np.uint8)\n",
        "        img = Image.fromarray(img).convert(\"L\")\n",
        "        img = img.convert(\"RGB\")  # convert to 3-channel RGB\n",
        "\n",
        "        if self.transform:\n",
        "            img = self.transform(img)\n",
        "\n",
        "        label = int(self.df.iloc[idx][\"emotion\"])\n",
        "        return img, label"
      ],
      "metadata": {
        "id": "WPAScUxU_fee"
      },
      "execution_count": 4,
      "outputs": []
    },
    {
      "cell_type": "code",
      "source": [
        "from torchvision import transforms\n",
        "transform = transforms.Compose([\n",
        "    transforms.RandomResizedCrop(224, scale=(0.8, 1.0)),  # random zoom crop\n",
        "    transforms.RandomHorizontalFlip(),                    # flip\n",
        "    transforms.RandomRotation(15),                        # rotate\n",
        "    transforms.ColorJitter(brightness=0.2, contrast=0.2, saturation=0.2),\n",
        "    transforms.ToTensor(),\n",
        "    transforms.Normalize([0.5]*3, [0.5]*3)                # normalize\n",
        "])\n",
        "val_transform = transforms.Compose([\n",
        "    transforms.Resize((224, 224)),\n",
        "    transforms.ToTensor(),\n",
        "    transforms.Normalize([0.5]*3, [0.5]*3)\n",
        "])"
      ],
      "metadata": {
        "id": "HO3wbeqP_z2n"
      },
      "execution_count": 5,
      "outputs": []
    },
    {
      "cell_type": "code",
      "source": [
        "# Split manually\n",
        "from sklearn.model_selection import train_test_split\n",
        "\n",
        "train_df, val_df = train_test_split(df, test_size=0.2, stratify=df['emotion'], random_state=42)\n",
        "\n",
        "train_dataset = FER2013Dataset(train_df, transform=transform)\n",
        "val_dataset = FER2013Dataset(val_df, transform=val_transform)\n",
        "\n",
        "train_loader = DataLoader(train_dataset, batch_size=64, shuffle=True,num_workers=4, pin_memory=True)\n",
        "val_loader = DataLoader(val_dataset, batch_size=64, shuffle=False,num_workers=4, pin_memory=True)"
      ],
      "metadata": {
        "id": "W7DkIsuCIj6X"
      },
      "execution_count": 6,
      "outputs": []
    },
    {
      "cell_type": "markdown",
      "metadata": {
        "id": "56690c88"
      },
      "source": [
        "Here is the code for the SRCNN model provided by the user. Note that this model is designed for super-resolution and takes a single-channel image as input and outputs a single-channel image."
      ]
    },
    {
      "cell_type": "code",
      "source": [
        "import torch.nn as nn\n",
        "import timm\n"
      ],
      "metadata": {
        "id": "VQ-zXTzlA8W3"
      },
      "execution_count": 7,
      "outputs": []
    },
    {
      "cell_type": "code",
      "source": [
        "class EfficientNetV2S_FeatureExtractor(nn.Module):\n",
        "    def __init__(self):\n",
        "        super(EfficientNetV2S_FeatureExtractor, self).__init__()\n",
        "        self.backbone = timm.create_model('tf_efficientnetv2_s.in21k', pretrained=True, features_only=True)\n",
        "\n",
        "    def forward(self, x):\n",
        "        features = self.backbone(x)\n",
        "        return features[-1]  # (B, 1280, 7, 7)"
      ],
      "metadata": {
        "id": "nZwqBT6GBu-_"
      },
      "execution_count": 8,
      "outputs": []
    },
    {
      "cell_type": "code",
      "source": [
        "device = torch.device(\"cuda\" if torch.cuda.is_available() else \"cpu\")\n",
        "\n",
        "# Load model\n",
        "efficientnet_model = EfficientNetV2S_FeatureExtractor().to(device)\n",
        "efficientnet_model.eval()\n",
        "\n",
        "# Use first batch from train_loader\n",
        "for images, labels in train_loader:\n",
        "    images = images.to(device)  # shape: (B, 3, 224, 224)\n",
        "    labels = labels.to(device)\n",
        "\n",
        "    with torch.no_grad():\n",
        "        features = efficientnet_model(images)  # shape: (B, 1280, 7, 7)\n",
        "\n",
        "    print(\"Input shape:\", images.shape)\n",
        "    print(\"EfficientNetV2-S Output shape:\", features.shape)\n",
        "    break"
      ],
      "metadata": {
        "colab": {
          "base_uri": "https://localhost:8080/",
          "height": 225,
          "referenced_widgets": [
            "5b3fdaef099b491984da607946bc0b37",
            "ed4fd30a907d4702b4ed48904bde2f5b",
            "fb38e832dfdf42dd99664cb1fbb20748",
            "cfe8bd7865b14de2bdf001e4a74b753e",
            "ba31081a4c09472abd7190624f37ad28",
            "bd433570cbdb4e59adb3f7389f86e1a4",
            "6bdc3348ab3e4d4eb674a583fb2d631b",
            "f5ef6385173b48f0a8715219aea49dce",
            "13d058abf3db4136ae37b34a42cd0110",
            "8cee27c0587c4b0ebef7d5f69697220a",
            "81b7ad9fcf444b018ccc8efbd33fca91"
          ]
        },
        "id": "MANXo_wqB2yG",
        "outputId": "d62a28b2-eec5-4d62-ee0f-a719002cc81a"
      },
      "execution_count": 9,
      "outputs": [
        {
          "output_type": "stream",
          "name": "stderr",
          "text": [
            "/usr/local/lib/python3.12/dist-packages/huggingface_hub/utils/_auth.py:94: UserWarning: \n",
            "The secret `HF_TOKEN` does not exist in your Colab secrets.\n",
            "To authenticate with the Hugging Face Hub, create a token in your settings tab (https://huggingface.co/settings/tokens), set it as secret in your Google Colab and restart your session.\n",
            "You will be able to reuse this secret in all of your notebooks.\n",
            "Please note that authentication is recommended but still optional to access public models or datasets.\n",
            "  warnings.warn(\n"
          ]
        },
        {
          "output_type": "display_data",
          "data": {
            "text/plain": [
              "model.safetensors:   0%|          | 0.00/193M [00:00<?, ?B/s]"
            ],
            "application/vnd.jupyter.widget-view+json": {
              "version_major": 2,
              "version_minor": 0,
              "model_id": "5b3fdaef099b491984da607946bc0b37"
            }
          },
          "metadata": {}
        },
        {
          "output_type": "stream",
          "name": "stderr",
          "text": [
            "WARNING:timm.models._builder:Unexpected keys (bn2.num_batches_tracked, bn2.bias, bn2.running_mean, bn2.running_var, bn2.weight, conv_head.weight) found while loading pretrained weights. This may be expected if model is being adapted.\n"
          ]
        },
        {
          "output_type": "stream",
          "name": "stdout",
          "text": [
            "Input shape: torch.Size([64, 3, 224, 224])\n",
            "EfficientNetV2-S Output shape: torch.Size([64, 256, 7, 7])\n"
          ]
        }
      ]
    },
    {
      "cell_type": "code",
      "source": [
        "class ConvNeXtBlock(nn.Module):\n",
        "    def __init__(self, in_channels=256, out_channels=256):\n",
        "        super(ConvNeXtBlock, self).__init__()\n",
        "        self.convnext = timm.create_model('convnext_tiny', pretrained=True, features_only=True)\n",
        "        self.proj = nn.Conv2d(in_channels, out_channels, kernel_size=1)\n",
        "\n",
        "    def forward(self, x):\n",
        "        x = self.proj(x)  # Reduce 256 → 256 (no change)\n",
        "        return x  # shape: B × 256 × 7 × 7"
      ],
      "metadata": {
        "id": "xQ4v-xgvC7Xu"
      },
      "execution_count": 10,
      "outputs": []
    },
    {
      "cell_type": "code",
      "source": [
        "class SE_MBConvBlock(nn.Module):\n",
        "    def __init__(self, in_channels=256, out_channels=256):\n",
        "        super(SE_MBConvBlock, self).__init__()\n",
        "        self.expand = nn.Conv2d(in_channels, in_channels * 6, kernel_size=1)\n",
        "        self.depthwise = nn.Conv2d(in_channels * 6, in_channels * 6, kernel_size=3, padding=1, groups=in_channels * 6)\n",
        "        self.se = nn.Sequential(\n",
        "            nn.AdaptiveAvgPool2d(1),\n",
        "            nn.Conv2d(in_channels * 6, in_channels // 4, 1),\n",
        "            nn.ReLU(),\n",
        "            nn.Conv2d(in_channels // 4, in_channels * 6, 1),\n",
        "            nn.Sigmoid()\n",
        "        )\n",
        "        self.project = nn.Conv2d(in_channels * 6, out_channels, kernel_size=1)\n",
        "\n",
        "    def forward(self, x):\n",
        "        x = self.expand(x)\n",
        "        x = self.depthwise(x)\n",
        "        se_weight = self.se(x)\n",
        "        x = x * se_weight\n",
        "        x = self.project(x)\n",
        "        return x  # shape: B × 256 × 7 × 7"
      ],
      "metadata": {
        "id": "RjQjJCn1Dmku"
      },
      "execution_count": 11,
      "outputs": []
    },
    {
      "cell_type": "code",
      "source": [
        "adaptive_pool = nn.AdaptiveAvgPool2d((28, 28))\n"
      ],
      "metadata": {
        "id": "NgLnq-bkDrI-"
      },
      "execution_count": 12,
      "outputs": []
    },
    {
      "cell_type": "code",
      "source": [
        "class MultiBranchFeatureExtractor(nn.Module):\n",
        "    def __init__(self):\n",
        "        super(MultiBranchFeatureExtractor, self).__init__()\n",
        "        self.efficientnet = EfficientNetV2S_FeatureExtractor()\n",
        "        self.convnext_block = ConvNeXtBlock()\n",
        "        self.se_mbconv_block = SE_MBConvBlock()\n",
        "        self.pool = nn.AdaptiveAvgPool2d((28, 28))  # Resize to 28×28\n",
        "\n",
        "    def forward(self, x):\n",
        "        x = self.efficientnet(x)  # Output: B × 1280 × 7 × 7\n",
        "\n",
        "        convnext_feat = self.convnext_block(x)     # B × 256 × 7 × 7\n",
        "        senet_feat    = self.se_mbconv_block(x)    # B × 256 × 7 × 7\n",
        "\n",
        "        convnext_feat = self.pool(convnext_feat)   # B × 256 × 28 × 28\n",
        "        senet_feat    = self.pool(senet_feat)      # B × 256 × 28 × 28\n",
        "\n",
        "        return convnext_feat, senet_feat\n"
      ],
      "metadata": {
        "id": "MILCZ-6uDt-f"
      },
      "execution_count": 13,
      "outputs": []
    },
    {
      "cell_type": "code",
      "source": [
        "device = torch.device(\"cuda\" if torch.cuda.is_available() else \"cpu\")\n",
        "\n",
        "model = MultiBranchFeatureExtractor().to(device)\n",
        "model.eval()\n",
        "\n",
        "for images, labels in train_loader:\n",
        "    images = images.to(device)\n",
        "\n",
        "    with torch.no_grad():\n",
        "        conv_feat, se_feat = model(images)\n",
        "\n",
        "    print(\"ConvNeXt Output:\", conv_feat.shape)  # [B, 256, 28, 28]\n",
        "    print(\"SENet+MBConv Output:\", se_feat.shape)  # [B, 256, 28, 28]\n",
        "    break\n"
      ],
      "metadata": {
        "colab": {
          "base_uri": "https://localhost:8080/",
          "height": 121,
          "referenced_widgets": [
            "eca3375bf84b40f4a8105fe4e5ae45fc",
            "980907795d1b402489879cb7c02f8a87",
            "cbe9e0203fa24910a3b666d0bf855884",
            "9357e548a91c44f0a9755bfc1e454129",
            "bdf690fa9b2443868059fa6f70c24521",
            "9625ded873b6409db93092306c40eaea",
            "badc7126b4ec4a4e975ead7a35bad1d0",
            "c9f41a4406f14971b3d0c771dba23ec5",
            "4d0ecd30843548a688d91e12e62c9841",
            "66483a2a145d4d29b1e7e59b4313b5a8",
            "a613035cd7cb4adab2d1126a97c54232"
          ]
        },
        "id": "8y6UhVCgD1Bm",
        "outputId": "5165327a-9f68-426d-8fdb-24822745606d"
      },
      "execution_count": 14,
      "outputs": [
        {
          "output_type": "stream",
          "name": "stderr",
          "text": [
            "WARNING:timm.models._builder:Unexpected keys (bn2.num_batches_tracked, bn2.bias, bn2.running_mean, bn2.running_var, bn2.weight, conv_head.weight) found while loading pretrained weights. This may be expected if model is being adapted.\n"
          ]
        },
        {
          "output_type": "display_data",
          "data": {
            "text/plain": [
              "model.safetensors:   0%|          | 0.00/114M [00:00<?, ?B/s]"
            ],
            "application/vnd.jupyter.widget-view+json": {
              "version_major": 2,
              "version_minor": 0,
              "model_id": "eca3375bf84b40f4a8105fe4e5ae45fc"
            }
          },
          "metadata": {}
        },
        {
          "output_type": "stream",
          "name": "stdout",
          "text": [
            "ConvNeXt Output: torch.Size([64, 256, 28, 28])\n",
            "SENet+MBConv Output: torch.Size([64, 256, 28, 28])\n"
          ]
        }
      ]
    },
    {
      "cell_type": "code",
      "source": [
        "class CrossAttentionFusion(nn.Module):\n",
        "    def __init__(self, embed_dim=256, num_heads=4):\n",
        "        super(CrossAttentionFusion, self).__init__()\n",
        "        self.attn = nn.MultiheadAttention(embed_dim=embed_dim, num_heads=num_heads, batch_first=True)\n",
        "        self.norm = nn.LayerNorm(embed_dim)\n",
        "\n",
        "    def forward(self, feat_q, feat_kv):\n",
        "        # Input: B × 256 × 28 × 28\n",
        "        B, C, H, W = feat_q.shape\n",
        "\n",
        "        # Flatten to sequences: B × 784 × 256\n",
        "        q = feat_q.view(B, C, -1).permute(0, 2, 1)   # Q: (B, 784, 256)\n",
        "        kv = feat_kv.view(B, C, -1).permute(0, 2, 1) # K,V: (B, 784, 256)\n",
        "\n",
        "        # Cross-attention\n",
        "        attn_output, _ = self.attn(q, kv, kv)        # (B, 784, 256)\n",
        "        attn_output = self.norm(attn_output + q)     # Residual + Norm\n",
        "\n",
        "        # Reshape back to spatial map: (B, 256, 28, 28)\n",
        "        fused = attn_output.permute(0, 2, 1).view(B, C, H, W)\n",
        "\n",
        "        return fused  # Output: B × 256 × 28 × 28"
      ],
      "metadata": {
        "id": "zOAopRK4EG63"
      },
      "execution_count": 15,
      "outputs": []
    },
    {
      "cell_type": "code",
      "source": [
        "class FullFeatureFusionBlock(nn.Module):\n",
        "    def __init__(self):\n",
        "        super(FullFeatureFusionBlock, self).__init__()\n",
        "        self.backbone = MultiBranchFeatureExtractor()        # Gives conv_feat, se_feat\n",
        "        self.cross_attn = CrossAttentionFusion(embed_dim=256, num_heads=4)\n",
        "\n",
        "    def forward(self, x):\n",
        "        conv_feat, se_feat = self.backbone(x)               # B × 256 × 28 × 28\n",
        "\n",
        "        fused_feat = self.cross_attn(conv_feat, se_feat)    # B × 256 × 28 × 28\n",
        "\n",
        "        return fused_feat  # ready for concatenation with other branches if needed"
      ],
      "metadata": {
        "id": "7Nusj4diEa__"
      },
      "execution_count": 16,
      "outputs": []
    },
    {
      "cell_type": "code",
      "source": [
        "model = FullFeatureFusionBlock().to(device)\n",
        "model.eval()\n",
        "\n",
        "for images, _ in train_loader:\n",
        "    images = images.to(device)\n",
        "    with torch.no_grad():\n",
        "        fused_output = model(images)\n",
        "\n",
        "    print(\"Fused Output Shape:\", fused_output.shape)  # Expected: [B, 256, 28, 28]\n",
        "    break"
      ],
      "metadata": {
        "colab": {
          "base_uri": "https://localhost:8080/"
        },
        "id": "rcAwQ4CeEe93",
        "outputId": "ba6c1e48-4476-40d5-da2c-2ed949d43a59"
      },
      "execution_count": 17,
      "outputs": [
        {
          "output_type": "stream",
          "name": "stderr",
          "text": [
            "WARNING:timm.models._builder:Unexpected keys (bn2.num_batches_tracked, bn2.bias, bn2.running_mean, bn2.running_var, bn2.weight, conv_head.weight) found while loading pretrained weights. This may be expected if model is being adapted.\n"
          ]
        },
        {
          "output_type": "stream",
          "name": "stdout",
          "text": [
            "Fused Output Shape: torch.Size([64, 256, 28, 28])\n"
          ]
        }
      ]
    },
    {
      "cell_type": "code",
      "source": [
        "class GlobalContextBranch(nn.Module):\n",
        "    def __init__(self, in_channels=256, out_channels=64):\n",
        "        super(GlobalContextBranch, self).__init__()\n",
        "        self.global_pool = nn.AdaptiveAvgPool2d(1)\n",
        "        self.fc = nn.Sequential(\n",
        "            nn.Conv2d(in_channels, out_channels, 1),\n",
        "            nn.ReLU(),\n",
        "            nn.Upsample(size=(28, 28), mode='bilinear', align_corners=False)\n",
        "        )\n",
        "\n",
        "    def forward(self, x):\n",
        "        x = self.global_pool(x)   # [B, 256, 1, 1] after global pool, originally [B, 256, 7, 7]\n",
        "        x = self.fc(x)            # [B, 64, 28, 28]\n",
        "        return x"
      ],
      "metadata": {
        "id": "wWORSZAOElr2"
      },
      "execution_count": 18,
      "outputs": []
    },
    {
      "cell_type": "code",
      "source": [
        "class LocalDetailBranch(nn.Module):\n",
        "    def __init__(self, in_channels=256, out_channels=64):\n",
        "        super(LocalDetailBranch, self).__init__()\n",
        "        self.local_cnn = nn.Sequential(\n",
        "            nn.Conv2d(in_channels, out_channels, kernel_size=3, padding=2, dilation=2),\n",
        "            nn.BatchNorm2d(out_channels),\n",
        "            nn.ReLU(),\n",
        "            nn.Conv2d(out_channels, out_channels, kernel_size=3, padding=1),\n",
        "            nn.BatchNorm2d(out_channels),\n",
        "            nn.ReLU(),\n",
        "        )\n",
        "\n",
        "    def forward(self, x):\n",
        "        return self.local_cnn(x)  # [B, 64, 28, 28]"
      ],
      "metadata": {
        "id": "Q9ESnC7DFU2f"
      },
      "execution_count": 19,
      "outputs": []
    },
    {
      "cell_type": "code",
      "source": [
        "class MultiBranchFullFusion(nn.Module):\n",
        "    def __init__(self):\n",
        "        super(MultiBranchFullFusion, self).__init__()\n",
        "        self.feature_extractor = EfficientNetV2S_FeatureExtractor()\n",
        "\n",
        "        self.convnext_block = ConvNeXtBlock()\n",
        "        self.se_mbconv_block = SE_MBConvBlock()\n",
        "\n",
        "        self.pool = nn.AdaptiveAvgPool2d((28, 28))\n",
        "        self.cross_attn = CrossAttentionFusion(embed_dim=256)\n",
        "\n",
        "        self.global_context = GlobalContextBranch()\n",
        "        self.local_detail = LocalDetailBranch()\n",
        "\n",
        "        # Add pooling to ensure consistent spatial dimensions before concatenation\n",
        "        self.global_pool_out = nn.AdaptiveAvgPool2d((28, 28))\n",
        "        self.local_pool_out = nn.AdaptiveAvgPool2d((28, 28))\n",
        "\n",
        "\n",
        "    def forward(self, x):\n",
        "        feat = self.feature_extractor(x)                # [B, 256, 7, 7]\n",
        "\n",
        "        # ConvNeXt & SENet+MBConv\n",
        "        conv_feat = self.pool(self.convnext_block(feat))  # [B, 256, 28, 28]\n",
        "        se_feat   = self.pool(self.se_mbconv_block(feat)) # [B, 256, 28, 28]\n",
        "\n",
        "        # Cross-attention fused output\n",
        "        fused_attn = self.cross_attn(conv_feat, se_feat)  # [B, 256, 28, 28]\n",
        "\n",
        "        # Extra branches\n",
        "        global_feat = self.global_context(feat)           # Expected: [B, 64, 28, 28]\n",
        "        local_feat  = self.local_detail(feat)             # Expected: [B, 64, 28, 28]\n",
        "\n",
        "        # Ensure spatial dimensions are 28x28 before concatenation\n",
        "        global_feat_pooled = self.global_pool_out(global_feat)\n",
        "        local_feat_pooled = self.local_pool_out(local_feat)\n",
        "\n",
        "\n",
        "        # Concatenate all\n",
        "        final_feat = torch.cat([conv_feat, se_feat, fused_attn, global_feat_pooled, local_feat_pooled], dim=1)  # [B, 896, 28, 28]\n",
        "        return final_feat"
      ],
      "metadata": {
        "id": "oBV99odjFY5P"
      },
      "execution_count": 20,
      "outputs": []
    },
    {
      "cell_type": "code",
      "source": [
        "model = MultiBranchFullFusion().to(device)\n",
        "model.eval()\n",
        "\n",
        "for images, _ in train_loader:\n",
        "    images = images.to(device)\n",
        "    with torch.no_grad():\n",
        "        fusion_output = model(images)\n",
        "    print(\"Final Fused Feature Shape:\", fusion_output.shape)  # [B, 896, 28, 28]\n",
        "    break\n"
      ],
      "metadata": {
        "colab": {
          "base_uri": "https://localhost:8080/"
        },
        "id": "0aTPzXArFfAX",
        "outputId": "7496fea9-a40f-441a-a7fd-c1bcb00661fb"
      },
      "execution_count": 21,
      "outputs": [
        {
          "output_type": "stream",
          "name": "stderr",
          "text": [
            "WARNING:timm.models._builder:Unexpected keys (bn2.num_batches_tracked, bn2.bias, bn2.running_mean, bn2.running_var, bn2.weight, conv_head.weight) found while loading pretrained weights. This may be expected if model is being adapted.\n"
          ]
        },
        {
          "output_type": "stream",
          "name": "stdout",
          "text": [
            "Final Fused Feature Shape: torch.Size([64, 896, 28, 28])\n"
          ]
        }
      ]
    },
    {
      "cell_type": "code",
      "source": [
        "class MobileViTBlock(nn.Module):\n",
        "    def __init__(self, in_channels, transformer_dim=128, patch_size=2, depth=2, heads=4):\n",
        "        super(MobileViTBlock, self).__init__()\n",
        "        self.patch_size = patch_size\n",
        "        ph, pw = patch_size, patch_size\n",
        "\n",
        "        self.local_rep = nn.Sequential(\n",
        "            nn.Conv2d(in_channels, in_channels, kernel_size=3, padding=1),\n",
        "            nn.BatchNorm2d(in_channels),\n",
        "            nn.ReLU()\n",
        "        )\n",
        "\n",
        "        self.unfold = nn.Unfold(kernel_size=patch_size, stride=patch_size)\n",
        "        self.fold = nn.Fold(output_size=(28, 28), kernel_size=patch_size, stride=patch_size)\n",
        "\n",
        "        self.conv_before_trans = nn.Conv2d(in_channels * ph * pw, transformer_dim, kernel_size=1)\n",
        "\n",
        "        encoder_layer = nn.TransformerEncoderLayer(\n",
        "            d_model=transformer_dim,\n",
        "            nhead=heads,\n",
        "            batch_first=True,\n",
        "            dim_feedforward=transformer_dim * 2,\n",
        "            dropout=0.1,\n",
        "            activation='gelu'\n",
        "        )\n",
        "        self.transformer = nn.TransformerEncoder(encoder_layer, num_layers=depth)\n",
        "\n",
        "        self.conv_after_trans = nn.Conv2d(transformer_dim, in_channels * ph * pw, kernel_size=1)\n",
        "\n",
        "\n",
        "        self.project = nn.Sequential(\n",
        "            nn.Conv2d(in_channels, in_channels, kernel_size=3, padding=1),\n",
        "            nn.BatchNorm2d(in_channels),\n",
        "            nn.ReLU()\n",
        "        )\n",
        "\n",
        "    def forward(self, x):\n",
        "        B, C, H, W = x.shape\n",
        "        ph, pw = self.patch_size, self.patch_size\n",
        "\n",
        "        identity = x # B × C × H × W\n",
        "\n",
        "        x = self.local_rep(x) # B × C × H × W\n",
        "\n",
        "        # Unfold, Conv, and flatten for Transformer\n",
        "        x = self.unfold(x) # B × (C*ph*pw) × (H*W / (ph*pw))\n",
        "        x = x.view(B, C, ph*pw, -1).permute(0, 3, 2, 1).contiguous().view(B, -1, C*ph*pw) # B × N × (C*ph*pw)\n",
        "        x = self.conv_before_trans(x.permute(0, 2, 1).view(B, C*ph*pw, H//ph, W//pw)).view(B, self.conv_before_trans.out_channels, -1).permute(0, 2, 1) # B × N × transformer_dim\n",
        "\n",
        "\n",
        "        # Transformer\n",
        "        x = self.transformer(x) # B × N × transformer_dim\n",
        "\n",
        "        # Project back and Fold\n",
        "        x = self.conv_after_trans(x.permute(0, 2, 1).view(B, self.conv_after_trans.in_channels, H//ph, W//pw)) # B × (C*ph*pw) × H/ph × W/pw\n",
        "        x = x.view(B, C*ph*pw, -1) # B × (C*ph*pw) × N\n",
        "        x = self.fold(x) # B × C × H × W\n",
        "\n",
        "        # Project and Residual Connection\n",
        "        x = self.project(x) # B × C × H × W\n",
        "        x = x + identity # Residual connection\n",
        "\n",
        "        return x # B × in_channels × H × W"
      ],
      "metadata": {
        "id": "7maz4TnEF5Rn"
      },
      "execution_count": 22,
      "outputs": []
    },
    {
      "cell_type": "code",
      "source": [
        "class FinalModelWithMobileViT(nn.Module):\n",
        "    def __init__(self):\n",
        "        super(FinalModelWithMobileViT, self).__init__()\n",
        "        self.fusion = MultiBranchFullFusion()\n",
        "        self.mobilevit = MobileViTBlock(in_channels=896, transformer_dim=128, patch_size=2, depth=2, heads=4)\n",
        "\n",
        "    def forward(self, x):\n",
        "        x = self.fusion(x)         # [B, 896, 28, 28]\n",
        "        x = self.mobilevit(x)      # [B, 896, 28, 28]\n",
        "        return x\n"
      ],
      "metadata": {
        "id": "Z9EhWEPlGXE3"
      },
      "execution_count": 23,
      "outputs": []
    },
    {
      "cell_type": "code",
      "source": [
        "class FinalModelWithMobileViT1(nn.Module):\n",
        "    def __init__(self):\n",
        "        super(FinalModelWithMobileViT1, self).__init__()\n",
        "        self.fusion = MultiBranchFullFusion()\n",
        "        self.mobilevit = MobileViTBlock(in_channels=896, transformer_dim=128, patch_size=(2,2), depth=2, heads=4)\n",
        "\n",
        "    def forward(self, x):\n",
        "        x = self.fusion(x)         # [B, 896, 28, 28]\n",
        "        x = self.mobilevit(x)      # [B, 896, 28, 28]\n",
        "        return x"
      ],
      "metadata": {
        "id": "UGnSyQWFGgWv"
      },
      "execution_count": 24,
      "outputs": []
    },
    {
      "cell_type": "code",
      "source": [
        "class FinalModelWithGAP(nn.Module):\n",
        "    def __init__(self):\n",
        "        super(FinalModelWithGAP, self).__init__()\n",
        "        self.fusion = MultiBranchFullFusion()\n",
        "        self.mobilevit = MobileViTBlock(in_channels=896, transformer_dim=128, patch_size=2, depth=2, heads=4)\n",
        "        self.gap = nn.AdaptiveAvgPool2d(1)  # Global Avg Pool → [B, 896, 1, 1]\n",
        "\n",
        "    def forward(self, x):\n",
        "        x = self.fusion(x)            # [B, 896, 28, 28]\n",
        "        x = self.mobilevit(x)         # [B, 896, 28, 28]\n",
        "        x = self.gap(x)               # [B, 896, 1, 1]\n",
        "        x = x.view(x.size(0), -1)     # Flatten → [B, 896]\n",
        "        return x\n"
      ],
      "metadata": {
        "id": "H7LFhDWwGsif"
      },
      "execution_count": 25,
      "outputs": []
    },
    {
      "cell_type": "code",
      "source": [
        "model = FinalModelWithGAP().to(device)\n",
        "model.eval()\n",
        "\n",
        "for images, _ in train_loader:\n",
        "    images = images.to(device)\n",
        "    with torch.no_grad():\n",
        "        features = model(images)\n",
        "\n",
        "    print(\"Final Feature Vector Shape:\", features.shape)  # [B, 896]\n",
        "    break"
      ],
      "metadata": {
        "colab": {
          "base_uri": "https://localhost:8080/"
        },
        "id": "Ed-xEmLjHJdP",
        "outputId": "b5d27eb7-82ea-46a0-c184-5d44306d598d"
      },
      "execution_count": 26,
      "outputs": [
        {
          "output_type": "stream",
          "name": "stderr",
          "text": [
            "WARNING:timm.models._builder:Unexpected keys (bn2.num_batches_tracked, bn2.bias, bn2.running_mean, bn2.running_var, bn2.weight, conv_head.weight) found while loading pretrained weights. This may be expected if model is being adapted.\n"
          ]
        },
        {
          "output_type": "stream",
          "name": "stdout",
          "text": [
            "Final Feature Vector Shape: torch.Size([64, 896])\n"
          ]
        }
      ]
    },
    {
      "cell_type": "code",
      "source": [
        "class EmotionClassifier(nn.Module):\n",
        "    def __init__(self, dropout_rate=0.5, num_classes=7, out_ch=448):\n",
        "        super().__init__()\n",
        "        self.fusion = MultiBranchFullFusion()\n",
        "        fused_ch = out_ch * 2\n",
        "        self.project = nn.Conv2d(fused_ch, 896, kernel_size=1)\n",
        "        self.mobilevit1 = MobileViTBlock(in_channels=896, transformer_dim=128, patch_size=2, depth=2, heads=4)\n",
        "        self.gap = nn.AdaptiveAvgPool2d(1)\n",
        "        self.classifier = nn.Sequential(\n",
        "            nn.Flatten(),\n",
        "            nn.Dropout(dropout_rate),\n",
        "            nn.Linear(896, 512),\n",
        "            nn.ReLU(),\n",
        "            nn.BatchNorm1d(512),\n",
        "            nn.Dropout(dropout_rate),\n",
        "            nn.Linear(512, 7)\n",
        "        )\n",
        "    def forward(self, x):\n",
        "        x = self.fusion(x)      # [B, 2*out_ch, H, W]\n",
        "        x = self.project(x)     # [B, 896, H, W]\n",
        "        x = self.mobilevit1(x)\n",
        "        x = self.gap(x)\n",
        "        x = self.classifier(x)\n",
        "        return x\n"
      ],
      "metadata": {
        "id": "5mfIw9KFHOn2"
      },
      "execution_count": 27,
      "outputs": []
    },
    {
      "cell_type": "code",
      "source": [
        "model = EmotionClassifier().to(device)\n",
        "model.eval()\n",
        "\n",
        "for images, _ in train_loader:\n",
        "    images = images.to(device)\n",
        "    with torch.no_grad():\n",
        "        logits = model(images)\n",
        "\n",
        "    print(\"Model Output Shape:\", logits.shape)  # [B, 7]\n",
        "    break\n"
      ],
      "metadata": {
        "colab": {
          "base_uri": "https://localhost:8080/"
        },
        "id": "-Gtn-xXKIKnn",
        "outputId": "3a00c660-357c-4049-c6d7-50f4340717ac"
      },
      "execution_count": 28,
      "outputs": [
        {
          "output_type": "stream",
          "name": "stderr",
          "text": [
            "WARNING:timm.models._builder:Unexpected keys (bn2.num_batches_tracked, bn2.bias, bn2.running_mean, bn2.running_var, bn2.weight, conv_head.weight) found while loading pretrained weights. This may be expected if model is being adapted.\n"
          ]
        },
        {
          "output_type": "stream",
          "name": "stdout",
          "text": [
            "Model Output Shape: torch.Size([64, 7])\n"
          ]
        }
      ]
    },
    {
      "cell_type": "code",
      "source": [],
      "metadata": {
        "id": "NdqWwtyVIqLf"
      },
      "execution_count": 28,
      "outputs": []
    },
    {
      "cell_type": "code",
      "source": [
        "import torch.optim as optim\n",
        "from tqdm import tqdm\n",
        "\n",
        "# ============================================================\n",
        "# Mixup Function\n",
        "# ============================================================\n",
        "def mixup_data(x, y, alpha=0.2):\n",
        "    \"\"\"Returns mixed inputs, pairs of targets, and lambda\"\"\"\n",
        "    lam = np.random.beta(alpha, alpha) if alpha > 0 else 1.0\n",
        "    batch_size = x.size()[0]\n",
        "    index = torch.randperm(batch_size).to(x.device)\n",
        "    mixed_x = lam * x + (1 - lam) * x[index, :]\n",
        "    y_a, y_b = y, y[index]\n",
        "    return mixed_x, y_a, y_b, lam\n",
        "\n",
        "# ============================================================\n",
        "# Early Stopping Class\n",
        "# ============================================================\n",
        "class EarlyStopping:\n",
        "    def __init__(self, patience=15, min_delta=0):\n",
        "        self.patience = patience\n",
        "        self.min_delta = min_delta\n",
        "        self.counter = 0\n",
        "        self.best_loss = np.inf\n",
        "        self.early_stop = False\n",
        "\n",
        "    def __call__(self, val_loss):\n",
        "        if val_loss < self.best_loss - self.min_delta:\n",
        "            self.best_loss = val_loss\n",
        "            self.counter = 0\n",
        "        else:\n",
        "            self.counter += 1\n",
        "            if self.counter >= self.patience:\n",
        "                self.early_stop = True"
      ],
      "metadata": {
        "id": "7447DYltb7eW"
      },
      "execution_count": 29,
      "outputs": []
    },
    {
      "cell_type": "code",
      "source": [
        "def train_model(model, train_loader, val_loader, criterion, optimizer, scheduler, device, num_epochs=50, alpha=0.2):\n",
        "    best_acc = 0.0\n",
        "    history = {\n",
        "        'train_loss': [], 'val_loss': [],\n",
        "        'train_acc': [], 'val_acc': []\n",
        "    }\n",
        "    early_stopper = EarlyStopping(patience=10, min_delta=0.001)\n",
        "\n",
        "    for epoch in range(1, num_epochs + 1):\n",
        "        model.train()\n",
        "        running_loss, running_corrects, total = 0.0, 0, 0\n",
        "\n",
        "        loop = tqdm(train_loader, desc=f\"Epoch [{epoch}/{num_epochs}]\")\n",
        "\n",
        "        for inputs, labels in loop:\n",
        "            inputs, labels = inputs.to(device), labels.to(device)\n",
        "\n",
        "            # ===== Apply Mixup =====\n",
        "            mixed_x, y_a, y_b, lam = mixup_data(inputs, labels, alpha)\n",
        "            optimizer.zero_grad()\n",
        "\n",
        "            # Forward\n",
        "            outputs = model(mixed_x)\n",
        "            loss = lam * criterion(outputs, y_a) + (1 - lam) * criterion(outputs, y_b)\n",
        "\n",
        "            # Backward\n",
        "            loss.backward()\n",
        "            torch.nn.utils.clip_grad_norm_(model.parameters(), 1.0)  # gradient clipping\n",
        "            optimizer.step()\n",
        "\n",
        "            running_loss += loss.item() * inputs.size(0)\n",
        "            _, preds = torch.max(outputs, 1)\n",
        "            total += labels.size(0)\n",
        "            running_corrects += (preds == labels).sum().item()\n",
        "\n",
        "        train_loss = running_loss / len(train_loader.dataset)\n",
        "        train_acc = running_corrects / total\n",
        "\n",
        "        # ===== Validation =====\n",
        "        model.eval()\n",
        "        val_loss, val_corrects, val_total = 0.0, 0, 0\n",
        "\n",
        "        with torch.no_grad():\n",
        "            for inputs, labels in val_loader:\n",
        "                inputs, labels = inputs.to(device), labels.to(device)\n",
        "                outputs = model(inputs)\n",
        "                loss = criterion(outputs, labels)\n",
        "\n",
        "                val_loss += loss.item() * inputs.size(0)\n",
        "                _, preds = torch.max(outputs, 1)\n",
        "                val_total += labels.size(0)\n",
        "                val_corrects += (preds == labels).sum().item()\n",
        "\n",
        "        val_loss /= len(val_loader.dataset)\n",
        "        val_acc = val_corrects / val_total\n",
        "\n",
        "        scheduler.step(val_loss)  # step LR scheduler\n",
        "\n",
        "        # ===== Logging =====\n",
        "        print(f\"Epoch [{epoch}/{num_epochs}] | \"\n",
        "              f\"Train Loss: {train_loss:.4f} | Train Acc: {train_acc*100:.2f}% | \"\n",
        "              f\"Val Loss: {val_loss:.4f} | Val Acc: {val_acc*100:.2f}%\")\n",
        "\n",
        "        # ===== Save Best Model =====\n",
        "        if val_acc > best_acc:\n",
        "            best_acc = val_acc\n",
        "            torch.save(model.state_dict(), \"best_model.pth\")\n",
        "            print(\"✅ Saved Best Model\")\n",
        "\n",
        "\n",
        "        # Append history\n",
        "        history['train_loss'].append(train_loss)\n",
        "        history['val_loss'].append(val_loss)\n",
        "        history['train_acc'].append(train_acc)\n",
        "        history['val_acc'].append(val_acc)\n",
        "\n",
        "    print(f\"Training complete. Best Val Acc: {best_acc*100:.2f}%\")\n",
        "    return history"
      ],
      "metadata": {
        "id": "GVEwxYGKIxov"
      },
      "execution_count": 30,
      "outputs": []
    },
    {
      "cell_type": "code",
      "source": [
        "import torch.optim as optim\n",
        "\n",
        "# Loss function\n",
        "criterion = nn.CrossEntropyLoss(label_smoothing=0.1)\n",
        "\n",
        "# Optimizer with weight decay\n",
        "optimizer = optim.AdamW(model.parameters(), lr=1e-4, weight_decay=1e-4)\n",
        "scheduler = optim.lr_scheduler.ReduceLROnPlateau(optimizer, mode='min', patience=15, factor=0.5)"
      ],
      "metadata": {
        "id": "SlNOk4kpcZCV"
      },
      "execution_count": 31,
      "outputs": []
    },
    {
      "cell_type": "code",
      "source": [
        "num_epochs = 50  # or as needed\n",
        "history = train_model(\n",
        "    model,\n",
        "    train_loader,\n",
        "    val_loader,\n",
        "    criterion,\n",
        "    optimizer,\n",
        "    scheduler,\n",
        "    device,\n",
        "    num_epochs=50,\n",
        "    alpha=0.2  # Mixup strength\n",
        ")\n",
        "\n"
      ],
      "metadata": {
        "id": "y2HOOW2cI3IX",
        "colab": {
          "base_uri": "https://localhost:8080/"
        },
        "outputId": "f9039fd1-202d-4cc9-fb9a-0d5c0e6a946d"
      },
      "execution_count": 32,
      "outputs": [
        {
          "output_type": "stream",
          "name": "stderr",
          "text": [
            "Epoch [1/50]: 100%|██████████| 449/449 [05:24<00:00,  1.38it/s]\n"
          ]
        },
        {
          "output_type": "stream",
          "name": "stdout",
          "text": [
            "Epoch [1/50] | Train Loss: 1.6978 | Train Acc: 31.38% | Val Loss: 1.2670 | Val Acc: 59.93%\n",
            "✅ Saved Best Model\n"
          ]
        },
        {
          "output_type": "stream",
          "name": "stderr",
          "text": [
            "Epoch [2/50]: 100%|██████████| 449/449 [05:28<00:00,  1.37it/s]\n"
          ]
        },
        {
          "output_type": "stream",
          "name": "stdout",
          "text": [
            "Epoch [2/50] | Train Loss: 1.4472 | Train Acc: 37.37% | Val Loss: 1.1945 | Val Acc: 63.97%\n",
            "✅ Saved Best Model\n"
          ]
        },
        {
          "output_type": "stream",
          "name": "stderr",
          "text": [
            "Epoch [3/50]: 100%|██████████| 449/449 [05:28<00:00,  1.37it/s]\n"
          ]
        },
        {
          "output_type": "stream",
          "name": "stdout",
          "text": [
            "Epoch [3/50] | Train Loss: 1.3086 | Train Acc: 39.95% | Val Loss: 1.1402 | Val Acc: 66.30%\n",
            "✅ Saved Best Model\n"
          ]
        },
        {
          "output_type": "stream",
          "name": "stderr",
          "text": [
            "Epoch [4/50]: 100%|██████████| 449/449 [05:28<00:00,  1.37it/s]\n"
          ]
        },
        {
          "output_type": "stream",
          "name": "stdout",
          "text": [
            "Epoch [4/50] | Train Loss: 1.2424 | Train Acc: 44.75% | Val Loss: 1.1020 | Val Acc: 68.88%\n",
            "✅ Saved Best Model\n"
          ]
        },
        {
          "output_type": "stream",
          "name": "stderr",
          "text": [
            "Epoch [5/50]: 100%|██████████| 449/449 [05:28<00:00,  1.37it/s]\n"
          ]
        },
        {
          "output_type": "stream",
          "name": "stdout",
          "text": [
            "Epoch [5/50] | Train Loss: 1.1983 | Train Acc: 45.77% | Val Loss: 1.0929 | Val Acc: 70.10%\n",
            "✅ Saved Best Model\n"
          ]
        },
        {
          "output_type": "stream",
          "name": "stderr",
          "text": [
            "Epoch [6/50]: 100%|██████████| 449/449 [05:28<00:00,  1.37it/s]\n"
          ]
        },
        {
          "output_type": "stream",
          "name": "stdout",
          "text": [
            "Epoch [6/50] | Train Loss: 1.1207 | Train Acc: 44.81% | Val Loss: 1.0979 | Val Acc: 70.60%\n",
            "✅ Saved Best Model\n"
          ]
        },
        {
          "output_type": "stream",
          "name": "stderr",
          "text": [
            "Epoch [7/50]: 100%|██████████| 449/449 [05:28<00:00,  1.37it/s]\n"
          ]
        },
        {
          "output_type": "stream",
          "name": "stdout",
          "text": [
            "Epoch [7/50] | Train Loss: 1.0879 | Train Acc: 50.04% | Val Loss: 1.0865 | Val Acc: 70.48%\n"
          ]
        },
        {
          "output_type": "stream",
          "name": "stderr",
          "text": [
            "Epoch [8/50]: 100%|██████████| 449/449 [05:28<00:00,  1.37it/s]\n"
          ]
        },
        {
          "output_type": "stream",
          "name": "stdout",
          "text": [
            "Epoch [8/50] | Train Loss: 1.0301 | Train Acc: 47.97% | Val Loss: 1.0837 | Val Acc: 70.95%\n",
            "✅ Saved Best Model\n"
          ]
        },
        {
          "output_type": "stream",
          "name": "stderr",
          "text": [
            "Epoch [9/50]: 100%|██████████| 449/449 [05:28<00:00,  1.37it/s]\n"
          ]
        },
        {
          "output_type": "stream",
          "name": "stdout",
          "text": [
            "Epoch [9/50] | Train Loss: 0.9927 | Train Acc: 49.02% | Val Loss: 1.0843 | Val Acc: 70.97%\n",
            "✅ Saved Best Model\n"
          ]
        },
        {
          "output_type": "stream",
          "name": "stderr",
          "text": [
            "Epoch [10/50]: 100%|██████████| 449/449 [05:28<00:00,  1.37it/s]\n"
          ]
        },
        {
          "output_type": "stream",
          "name": "stdout",
          "text": [
            "Epoch [10/50] | Train Loss: 0.9578 | Train Acc: 51.80% | Val Loss: 1.0912 | Val Acc: 70.87%\n"
          ]
        },
        {
          "output_type": "stream",
          "name": "stderr",
          "text": [
            "Epoch [11/50]: 100%|██████████| 449/449 [05:28<00:00,  1.37it/s]\n"
          ]
        },
        {
          "output_type": "stream",
          "name": "stdout",
          "text": [
            "Epoch [11/50] | Train Loss: 0.9396 | Train Acc: 52.47% | Val Loss: 1.0985 | Val Acc: 71.22%\n",
            "✅ Saved Best Model\n"
          ]
        },
        {
          "output_type": "stream",
          "name": "stderr",
          "text": [
            "Epoch [12/50]: 100%|██████████| 449/449 [05:28<00:00,  1.37it/s]\n"
          ]
        },
        {
          "output_type": "stream",
          "name": "stdout",
          "text": [
            "Epoch [12/50] | Train Loss: 0.8950 | Train Acc: 54.42% | Val Loss: 1.0893 | Val Acc: 71.26%\n",
            "✅ Saved Best Model\n"
          ]
        },
        {
          "output_type": "stream",
          "name": "stderr",
          "text": [
            "Epoch [13/50]: 100%|██████████| 449/449 [05:28<00:00,  1.37it/s]\n"
          ]
        },
        {
          "output_type": "stream",
          "name": "stdout",
          "text": [
            "Epoch [13/50] | Train Loss: 0.8842 | Train Acc: 56.83% | Val Loss: 1.0959 | Val Acc: 71.36%\n",
            "✅ Saved Best Model\n"
          ]
        },
        {
          "output_type": "stream",
          "name": "stderr",
          "text": [
            "Epoch [14/50]: 100%|██████████| 449/449 [05:28<00:00,  1.37it/s]\n"
          ]
        },
        {
          "output_type": "stream",
          "name": "stdout",
          "text": [
            "Epoch [14/50] | Train Loss: 0.8441 | Train Acc: 52.76% | Val Loss: 1.0901 | Val Acc: 72.47%\n",
            "✅ Saved Best Model\n"
          ]
        },
        {
          "output_type": "stream",
          "name": "stderr",
          "text": [
            "Epoch [15/50]: 100%|██████████| 449/449 [05:28<00:00,  1.37it/s]\n"
          ]
        },
        {
          "output_type": "stream",
          "name": "stdout",
          "text": [
            "Epoch [15/50] | Train Loss: 0.8274 | Train Acc: 53.18% | Val Loss: 1.0841 | Val Acc: 71.91%\n"
          ]
        },
        {
          "output_type": "stream",
          "name": "stderr",
          "text": [
            "Epoch [16/50]: 100%|██████████| 449/449 [05:28<00:00,  1.37it/s]\n"
          ]
        },
        {
          "output_type": "stream",
          "name": "stdout",
          "text": [
            "Epoch [16/50] | Train Loss: 0.8023 | Train Acc: 54.74% | Val Loss: 1.0881 | Val Acc: 72.26%\n"
          ]
        },
        {
          "output_type": "stream",
          "name": "stderr",
          "text": [
            "Epoch [17/50]: 100%|██████████| 449/449 [05:28<00:00,  1.37it/s]\n"
          ]
        },
        {
          "output_type": "stream",
          "name": "stdout",
          "text": [
            "Epoch [17/50] | Train Loss: 0.8005 | Train Acc: 53.89% | Val Loss: 1.0911 | Val Acc: 72.22%\n"
          ]
        },
        {
          "output_type": "stream",
          "name": "stderr",
          "text": [
            "Epoch [18/50]: 100%|██████████| 449/449 [05:28<00:00,  1.37it/s]\n"
          ]
        },
        {
          "output_type": "stream",
          "name": "stdout",
          "text": [
            "Epoch [18/50] | Train Loss: 0.8125 | Train Acc: 58.40% | Val Loss: 1.0918 | Val Acc: 72.01%\n"
          ]
        },
        {
          "output_type": "stream",
          "name": "stderr",
          "text": [
            "Epoch [19/50]: 100%|██████████| 449/449 [05:28<00:00,  1.37it/s]\n"
          ]
        },
        {
          "output_type": "stream",
          "name": "stdout",
          "text": [
            "Epoch [19/50] | Train Loss: 0.7465 | Train Acc: 57.68% | Val Loss: 1.1280 | Val Acc: 72.16%\n"
          ]
        },
        {
          "output_type": "stream",
          "name": "stderr",
          "text": [
            "Epoch [20/50]: 100%|██████████| 449/449 [05:28<00:00,  1.37it/s]\n"
          ]
        },
        {
          "output_type": "stream",
          "name": "stdout",
          "text": [
            "Epoch [20/50] | Train Loss: 0.7868 | Train Acc: 57.34% | Val Loss: 1.0995 | Val Acc: 71.80%\n"
          ]
        },
        {
          "output_type": "stream",
          "name": "stderr",
          "text": [
            "Epoch [21/50]: 100%|██████████| 449/449 [05:28<00:00,  1.37it/s]\n"
          ]
        },
        {
          "output_type": "stream",
          "name": "stdout",
          "text": [
            "Epoch [21/50] | Train Loss: 0.8085 | Train Acc: 55.60% | Val Loss: 1.0969 | Val Acc: 72.25%\n"
          ]
        },
        {
          "output_type": "stream",
          "name": "stderr",
          "text": [
            "Epoch [22/50]: 100%|██████████| 449/449 [05:28<00:00,  1.37it/s]\n"
          ]
        },
        {
          "output_type": "stream",
          "name": "stdout",
          "text": [
            "Epoch [22/50] | Train Loss: 0.8030 | Train Acc: 56.94% | Val Loss: 1.1313 | Val Acc: 72.18%\n"
          ]
        },
        {
          "output_type": "stream",
          "name": "stderr",
          "text": [
            "Epoch [23/50]: 100%|██████████| 449/449 [05:28<00:00,  1.37it/s]\n"
          ]
        },
        {
          "output_type": "stream",
          "name": "stdout",
          "text": [
            "Epoch [23/50] | Train Loss: 0.7800 | Train Acc: 55.73% | Val Loss: 1.0927 | Val Acc: 72.47%\n"
          ]
        },
        {
          "output_type": "stream",
          "name": "stderr",
          "text": [
            "Epoch [24/50]: 100%|██████████| 449/449 [05:28<00:00,  1.37it/s]\n"
          ]
        },
        {
          "output_type": "stream",
          "name": "stdout",
          "text": [
            "Epoch [24/50] | Train Loss: 0.8082 | Train Acc: 56.95% | Val Loss: 1.0918 | Val Acc: 72.78%\n",
            "✅ Saved Best Model\n"
          ]
        },
        {
          "output_type": "stream",
          "name": "stderr",
          "text": [
            "Epoch [25/50]: 100%|██████████| 449/449 [05:27<00:00,  1.37it/s]\n"
          ]
        },
        {
          "output_type": "stream",
          "name": "stdout",
          "text": [
            "Epoch [25/50] | Train Loss: 0.7716 | Train Acc: 55.38% | Val Loss: 1.0964 | Val Acc: 72.30%\n"
          ]
        },
        {
          "output_type": "stream",
          "name": "stderr",
          "text": [
            "Epoch [26/50]: 100%|██████████| 449/449 [05:27<00:00,  1.37it/s]\n"
          ]
        },
        {
          "output_type": "stream",
          "name": "stdout",
          "text": [
            "Epoch [26/50] | Train Loss: 0.7663 | Train Acc: 52.80% | Val Loss: 1.1051 | Val Acc: 72.85%\n",
            "✅ Saved Best Model\n"
          ]
        },
        {
          "output_type": "stream",
          "name": "stderr",
          "text": [
            "Epoch [27/50]: 100%|██████████| 449/449 [05:27<00:00,  1.37it/s]\n"
          ]
        },
        {
          "output_type": "stream",
          "name": "stdout",
          "text": [
            "Epoch [27/50] | Train Loss: 0.7714 | Train Acc: 59.87% | Val Loss: 1.1004 | Val Acc: 72.86%\n",
            "✅ Saved Best Model\n"
          ]
        },
        {
          "output_type": "stream",
          "name": "stderr",
          "text": [
            "Epoch [28/50]: 100%|██████████| 449/449 [05:27<00:00,  1.37it/s]\n"
          ]
        },
        {
          "output_type": "stream",
          "name": "stdout",
          "text": [
            "Epoch [28/50] | Train Loss: 0.7896 | Train Acc: 57.65% | Val Loss: 1.0991 | Val Acc: 72.81%\n"
          ]
        },
        {
          "output_type": "stream",
          "name": "stderr",
          "text": [
            "Epoch [29/50]: 100%|██████████| 449/449 [05:27<00:00,  1.37it/s]\n"
          ]
        },
        {
          "output_type": "stream",
          "name": "stdout",
          "text": [
            "Epoch [29/50] | Train Loss: 0.7354 | Train Acc: 56.78% | Val Loss: 1.0989 | Val Acc: 72.92%\n",
            "✅ Saved Best Model\n"
          ]
        },
        {
          "output_type": "stream",
          "name": "stderr",
          "text": [
            "Epoch [30/50]: 100%|██████████| 449/449 [05:28<00:00,  1.37it/s]\n"
          ]
        },
        {
          "output_type": "stream",
          "name": "stdout",
          "text": [
            "Epoch [30/50] | Train Loss: 0.7590 | Train Acc: 54.82% | Val Loss: 1.1021 | Val Acc: 72.60%\n"
          ]
        },
        {
          "output_type": "stream",
          "name": "stderr",
          "text": [
            "Epoch [31/50]: 100%|██████████| 449/449 [05:28<00:00,  1.37it/s]\n"
          ]
        },
        {
          "output_type": "stream",
          "name": "stdout",
          "text": [
            "Epoch [31/50] | Train Loss: 0.7787 | Train Acc: 57.52% | Val Loss: 1.0967 | Val Acc: 72.60%\n"
          ]
        },
        {
          "output_type": "stream",
          "name": "stderr",
          "text": [
            "Epoch [32/50]: 100%|██████████| 449/449 [05:28<00:00,  1.37it/s]\n"
          ]
        },
        {
          "output_type": "stream",
          "name": "stdout",
          "text": [
            "Epoch [32/50] | Train Loss: 0.7995 | Train Acc: 56.53% | Val Loss: 1.0937 | Val Acc: 73.07%\n",
            "✅ Saved Best Model\n"
          ]
        },
        {
          "output_type": "stream",
          "name": "stderr",
          "text": [
            "Epoch [33/50]: 100%|██████████| 449/449 [05:28<00:00,  1.37it/s]\n"
          ]
        },
        {
          "output_type": "stream",
          "name": "stdout",
          "text": [
            "Epoch [33/50] | Train Loss: 0.7784 | Train Acc: 53.87% | Val Loss: 1.0964 | Val Acc: 72.65%\n"
          ]
        },
        {
          "output_type": "stream",
          "name": "stderr",
          "text": [
            "Epoch [34/50]: 100%|██████████| 449/449 [05:28<00:00,  1.37it/s]\n"
          ]
        },
        {
          "output_type": "stream",
          "name": "stdout",
          "text": [
            "Epoch [34/50] | Train Loss: 0.7227 | Train Acc: 52.95% | Val Loss: 1.1658 | Val Acc: 73.03%\n"
          ]
        },
        {
          "output_type": "stream",
          "name": "stderr",
          "text": [
            "Epoch [35/50]: 100%|██████████| 449/449 [05:27<00:00,  1.37it/s]\n"
          ]
        },
        {
          "output_type": "stream",
          "name": "stdout",
          "text": [
            "Epoch [35/50] | Train Loss: 0.7759 | Train Acc: 55.99% | Val Loss: 1.1356 | Val Acc: 73.01%\n"
          ]
        },
        {
          "output_type": "stream",
          "name": "stderr",
          "text": [
            "Epoch [36/50]: 100%|██████████| 449/449 [05:28<00:00,  1.37it/s]\n"
          ]
        },
        {
          "output_type": "stream",
          "name": "stdout",
          "text": [
            "Epoch [36/50] | Train Loss: 0.7884 | Train Acc: 59.10% | Val Loss: 1.0946 | Val Acc: 72.81%\n"
          ]
        },
        {
          "output_type": "stream",
          "name": "stderr",
          "text": [
            "Epoch [37/50]: 100%|██████████| 449/449 [05:28<00:00,  1.37it/s]\n"
          ]
        },
        {
          "output_type": "stream",
          "name": "stdout",
          "text": [
            "Epoch [37/50] | Train Loss: 0.7680 | Train Acc: 56.89% | Val Loss: 1.0997 | Val Acc: 73.11%\n",
            "✅ Saved Best Model\n"
          ]
        },
        {
          "output_type": "stream",
          "name": "stderr",
          "text": [
            "Epoch [38/50]: 100%|██████████| 449/449 [05:28<00:00,  1.37it/s]\n"
          ]
        },
        {
          "output_type": "stream",
          "name": "stdout",
          "text": [
            "Epoch [38/50] | Train Loss: 0.7590 | Train Acc: 58.28% | Val Loss: 1.1293 | Val Acc: 72.95%\n"
          ]
        },
        {
          "output_type": "stream",
          "name": "stderr",
          "text": [
            "Epoch [39/50]: 100%|██████████| 449/449 [05:28<00:00,  1.37it/s]\n"
          ]
        },
        {
          "output_type": "stream",
          "name": "stdout",
          "text": [
            "Epoch [39/50] | Train Loss: 0.7483 | Train Acc: 58.83% | Val Loss: 1.1353 | Val Acc: 72.82%\n"
          ]
        },
        {
          "output_type": "stream",
          "name": "stderr",
          "text": [
            "Epoch [40/50]: 100%|██████████| 449/449 [05:27<00:00,  1.37it/s]\n"
          ]
        },
        {
          "output_type": "stream",
          "name": "stdout",
          "text": [
            "Epoch [40/50] | Train Loss: 0.7472 | Train Acc: 56.51% | Val Loss: 1.0975 | Val Acc: 73.14%\n",
            "✅ Saved Best Model\n"
          ]
        },
        {
          "output_type": "stream",
          "name": "stderr",
          "text": [
            "Epoch [41/50]: 100%|██████████| 449/449 [05:28<00:00,  1.37it/s]\n"
          ]
        },
        {
          "output_type": "stream",
          "name": "stdout",
          "text": [
            "Epoch [41/50] | Train Loss: 0.7681 | Train Acc: 53.88% | Val Loss: 1.0951 | Val Acc: 72.86%\n"
          ]
        },
        {
          "output_type": "stream",
          "name": "stderr",
          "text": [
            "Epoch [42/50]: 100%|██████████| 449/449 [05:28<00:00,  1.37it/s]\n"
          ]
        },
        {
          "output_type": "stream",
          "name": "stdout",
          "text": [
            "Epoch [42/50] | Train Loss: 0.7288 | Train Acc: 58.63% | Val Loss: 1.1078 | Val Acc: 72.85%\n"
          ]
        },
        {
          "output_type": "stream",
          "name": "stderr",
          "text": [
            "Epoch [43/50]: 100%|██████████| 449/449 [05:28<00:00,  1.37it/s]\n"
          ]
        },
        {
          "output_type": "stream",
          "name": "stdout",
          "text": [
            "Epoch [43/50] | Train Loss: 0.7134 | Train Acc: 58.26% | Val Loss: 1.0985 | Val Acc: 72.96%\n"
          ]
        },
        {
          "output_type": "stream",
          "name": "stderr",
          "text": [
            "Epoch [44/50]: 100%|██████████| 449/449 [05:27<00:00,  1.37it/s]\n"
          ]
        },
        {
          "output_type": "stream",
          "name": "stdout",
          "text": [
            "Epoch [44/50] | Train Loss: 0.7177 | Train Acc: 59.12% | Val Loss: 1.0982 | Val Acc: 73.00%\n"
          ]
        },
        {
          "output_type": "stream",
          "name": "stderr",
          "text": [
            "Epoch [45/50]: 100%|██████████| 449/449 [05:28<00:00,  1.37it/s]\n"
          ]
        },
        {
          "output_type": "stream",
          "name": "stdout",
          "text": [
            "Epoch [45/50] | Train Loss: 0.7491 | Train Acc: 58.00% | Val Loss: 1.0970 | Val Acc: 72.79%\n"
          ]
        },
        {
          "output_type": "stream",
          "name": "stderr",
          "text": [
            "Epoch [46/50]: 100%|██████████| 449/449 [05:28<00:00,  1.37it/s]\n"
          ]
        },
        {
          "output_type": "stream",
          "name": "stdout",
          "text": [
            "Epoch [46/50] | Train Loss: 0.7336 | Train Acc: 55.00% | Val Loss: 1.0972 | Val Acc: 73.07%\n"
          ]
        },
        {
          "output_type": "stream",
          "name": "stderr",
          "text": [
            "Epoch [47/50]: 100%|██████████| 449/449 [05:27<00:00,  1.37it/s]\n"
          ]
        },
        {
          "output_type": "stream",
          "name": "stdout",
          "text": [
            "Epoch [47/50] | Train Loss: 0.7150 | Train Acc: 56.70% | Val Loss: 1.0951 | Val Acc: 72.92%\n"
          ]
        },
        {
          "output_type": "stream",
          "name": "stderr",
          "text": [
            "Epoch [48/50]: 100%|██████████| 449/449 [05:28<00:00,  1.37it/s]\n"
          ]
        },
        {
          "output_type": "stream",
          "name": "stdout",
          "text": [
            "Epoch [48/50] | Train Loss: 0.7625 | Train Acc: 59.05% | Val Loss: 1.0947 | Val Acc: 72.90%\n"
          ]
        },
        {
          "output_type": "stream",
          "name": "stderr",
          "text": [
            "Epoch [49/50]: 100%|██████████| 449/449 [05:28<00:00,  1.37it/s]\n"
          ]
        },
        {
          "output_type": "stream",
          "name": "stdout",
          "text": [
            "Epoch [49/50] | Train Loss: 0.7520 | Train Acc: 54.82% | Val Loss: 1.1130 | Val Acc: 73.11%\n"
          ]
        },
        {
          "output_type": "stream",
          "name": "stderr",
          "text": [
            "Epoch [50/50]: 100%|██████████| 449/449 [05:27<00:00,  1.37it/s]\n"
          ]
        },
        {
          "output_type": "stream",
          "name": "stdout",
          "text": [
            "Epoch [50/50] | Train Loss: 0.7433 | Train Acc: 55.99% | Val Loss: 1.0941 | Val Acc: 72.85%\n",
            "Training complete. Best Val Acc: 73.14%\n"
          ]
        }
      ]
    },
    {
      "cell_type": "code",
      "source": [
        "import matplotlib.pyplot as plt\n",
        "\n",
        "def plot_training(history):\n",
        "    epochs = range(1, len(history['train_loss']) + 1)\n",
        "\n",
        "    plt.figure(figsize=(14, 5))\n",
        "\n",
        "    # Loss Plot\n",
        "    plt.subplot(1, 2, 1)\n",
        "    plt.plot(epochs, history['train_loss'], label='Train Loss')\n",
        "    plt.plot(epochs, history['val_loss'], label='Val Loss')\n",
        "    plt.title('Loss Over Epochs')\n",
        "    plt.xlabel('Epoch')\n",
        "    plt.ylabel('Loss')\n",
        "    plt.legend()\n",
        "\n",
        "    # Accuracy Plot\n",
        "    plt.subplot(1, 2, 2)\n",
        "    plt.plot(epochs, history['train_acc'], label='Train Accuracy')\n",
        "    plt.plot(epochs, history['val_acc'], label='Val Accuracy')\n",
        "    plt.title('Accuracy Over Epochs')\n",
        "    plt.xlabel('Epoch')\n",
        "    plt.ylabel('Accuracy (%)')\n",
        "    plt.legend()\n",
        "\n",
        "    plt.tight_layout()\n",
        "    plt.show()\n"
      ],
      "metadata": {
        "id": "V-4V1uBQx97j"
      },
      "execution_count": 33,
      "outputs": []
    },
    {
      "cell_type": "code",
      "source": [
        "plot_training(history)"
      ],
      "metadata": {
        "id": "qNXw-Jf7uM-n",
        "colab": {
          "base_uri": "https://localhost:8080/",
          "height": 269
        },
        "outputId": "88778d62-42a8-4d1d-e0f0-552685e3d306"
      },
      "execution_count": 34,
      "outputs": [
        {
          "output_type": "display_data",
          "data": {
            "text/plain": [
              "<Figure size 1400x500 with 2 Axes>"
            ],
            "image/png": "[encoded data removed]"
          },
          "metadata": {}
        }
      ]
    },
    {
      "cell_type": "code",
      "source": [
        "from sklearn.metrics import classification_report, confusion_matrix, ConfusionMatrixDisplay\n",
        "import seaborn as sns\n",
        "\n",
        "def evaluate_on_test(model, test_loader, device, class_names=None):\n",
        "    model.eval()\n",
        "    all_preds, all_labels = [], []\n",
        "\n",
        "    with torch.no_grad():\n",
        "        for images, labels in test_loader:\n",
        "            images, labels = images.to(device), labels.to(device)\n",
        "            outputs = model(images)\n",
        "            _, preds = torch.max(outputs, 1)\n",
        "            all_preds.extend(preds.cpu().numpy())\n",
        "            all_labels.extend(labels.cpu().numpy())\n",
        "\n",
        "    # Define all possible labels (0 to 6 for FER2013)\n",
        "    all_possible_labels = list(range(len(class_names))) if class_names else sorted(list(set(all_labels + all_preds)))\n",
        "\n",
        "    print(\"\\n📊 Classification Report:\")\n",
        "    print(classification_report(all_labels, all_preds, target_names=class_names, labels=all_possible_labels, zero_division=0)) # Added labels and zero_division\n",
        "\n",
        "    # Plot Confusion Matrix\n",
        "    cm = confusion_matrix(all_labels, all_preds, labels=all_possible_labels) # Added labels\n",
        "    plt.figure(figsize=(8, 6))\n",
        "    sns.heatmap(cm, annot=True, fmt='d', cmap=\"Blues\",\n",
        "                xticklabels=class_names, yticklabels=class_names)\n",
        "    plt.xlabel('Predicted')\n",
        "    plt.ylabel('True')\n",
        "    plt.title('Confusion Matrix')\n",
        "    plt.show()"
      ],
      "metadata": {
        "id": "R2MYOFYlzyW7"
      },
      "execution_count": 35,
      "outputs": []
    },
    {
      "cell_type": "code",
      "source": [
        "class_names = ['Angry', 'Disgust', 'Fear','Happy', 'Sad', 'Surprise', 'Neutral']\n",
        "model.load_state_dict(torch.load(\"best_model.pth\"))\n",
        "evaluate_on_test(model, val_loader, device, class_names)\n"
      ],
      "metadata": {
        "id": "XaETHPknz3Dz",
        "colab": {
          "base_uri": "https://localhost:8080/",
          "height": 842
        },
        "outputId": "61ceb4a5-0cee-4e66-f893-384333a2de2f"
      },
      "execution_count": 36,
      "outputs": [
        {
          "output_type": "stream",
          "name": "stdout",
          "text": [
            "\n",
            "📊 Classification Report:\n",
            "              precision    recall  f1-score   support\n",
            "\n",
            "       Angry       0.64      0.68      0.66       991\n",
            "     Disgust       0.91      0.59      0.72       109\n",
            "        Fear       0.67      0.54      0.60      1024\n",
            "       Happy       0.87      0.91      0.89      1798\n",
            "         Sad       0.64      0.63      0.63      1216\n",
            "    Surprise       0.81      0.83      0.82       800\n",
            "     Neutral       0.67      0.72      0.69      1240\n",
            "\n",
            "    accuracy                           0.73      7178\n",
            "   macro avg       0.74      0.70      0.72      7178\n",
            "weighted avg       0.73      0.73      0.73      7178\n",
            "\n"
          ]
        },
        {
          "output_type": "display_data",
          "data": {
            "text/plain": [
              "<Figure size 800x600 with 2 Axes>"
            ],
            "image/png": "[encoded data removed]"
          },
          "metadata": {}
        }
      ]
    },
    {
      "cell_type": "code",
      "source": [],
      "metadata": {
        "id": "GoamiI1zrP3m"
      },
      "execution_count": 36,
      "outputs": []
    }
  ]
}