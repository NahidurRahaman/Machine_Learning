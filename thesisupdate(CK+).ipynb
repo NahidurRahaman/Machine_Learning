{
  "nbformat": 4,
  "nbformat_minor": 0,
  "metadata": {
    "colab": {
      "provenance": [],
      "gpuType": "T4",
      "include_colab_link": true
    },
    "kernelspec": {
      "name": "python3",
      "display_name": "Python 3"
    },
    "language_info": {
      "name": "python"
    },
    "accelerator": "GPU"
  },
  "cells": [
    {
      "cell_type": "markdown",
      "metadata": {
        "id": "view-in-github",
        "colab_type": "text"
      },
      "source": [
        "<a href=\"https://colab.research.google.com/github/NahidurRahaman/Machine_Learning/blob/main/thesisupdate(CK%2B).ipynb\" target=\"_parent\"><img src=\"https://colab.research.google.com/assets/colab-badge.svg\" alt=\"Open In Colab\"/></a>"
      ]
    },
    {
      "cell_type": "code",
      "execution_count": 47,
      "metadata": {
        "id": "lNLXIYuJ98-_"
      },
      "outputs": [],
      "source": [
        "import pandas as pd\n",
        "import numpy as np\n",
        "import cv2\n",
        "import torch\n",
        "from torch.utils.data import Dataset, DataLoader\n",
        "from torchvision import transforms\n",
        "from PIL import Image\n",
        "from sklearn.model_selection import train_test_split"
      ]
    },
    {
      "cell_type": "code",
      "source": [
        "# Mount Google Drive\n",
        "from google.colab import drive\n",
        "drive.mount('/content/drive')"
      ],
      "metadata": {
        "colab": {
          "base_uri": "https://localhost:8080/"
        },
        "id": "YgRwbAaa_OwO",
        "outputId": "ac8021e8-78f6-4a8a-b0f3-bbe022332002"
      },
      "execution_count": 48,
      "outputs": [
        {
          "output_type": "stream",
          "name": "stdout",
          "text": [
            "Drive already mounted at /content/drive; to attempt to forcibly remount, call drive.mount(\"/content/drive\", force_remount=True).\n"
          ]
        }
      ]
    },
    {
      "cell_type": "code",
      "source": [
        "# Load FER2013 CSV\n",
        "csv_path = '/content/drive/MyDrive/FER2013/ckextended.csv'  # update path if needed\n",
        "df = pd.read_csv(csv_path)"
      ],
      "metadata": {
        "id": "-SmW6aB5_c7G"
      },
      "execution_count": 49,
      "outputs": []
    },
    {
      "cell_type": "code",
      "source": [
        "# Define emotion classes\n",
        "emotion_labels = {\n",
        "    0: 'Angry', 1: 'Disgust', 2: 'Fear', 3: 'Happy',\n",
        "    4: 'Sad', 5: 'Surprise', 6: 'Neutral'\n",
        "}\n",
        "\n",
        "import csv # Import the csv module\n",
        "\n",
        "# Custom dataset from CSV\n",
        "class FER2013Dataset(Dataset):\n",
        "    def __init__(self, dataframe, transform=None):\n",
        "        self.df = dataframe\n",
        "        self.transform = transform\n",
        "\n",
        "    def __len__(self):\n",
        "        return len(self.df)\n",
        "\n",
        "    def __getitem__(self, idx):\n",
        "        pixels = list(map(int, self.df.iloc[idx][\"pixels\"].split()))\n",
        "        img = np.asarray(pixels).reshape(48, 48).astype(np.uint8)\n",
        "        img = Image.fromarray(img).convert(\"L\")\n",
        "        img = img.convert(\"RGB\")  # convert to 3-channel RGB\n",
        "\n",
        "        if self.transform:\n",
        "            img = self.transform(img)\n",
        "\n",
        "        label = int(self.df.iloc[idx][\"emotion\"])\n",
        "        return img, label"
      ],
      "metadata": {
        "id": "WPAScUxU_fee"
      },
      "execution_count": 50,
      "outputs": []
    },
    {
      "cell_type": "code",
      "source": [
        "from torchvision import transforms\n",
        "transform = transforms.Compose([\n",
        "    transforms.RandomResizedCrop(224, scale=(0.8, 1.0)),  # random zoom crop\n",
        "    transforms.RandomHorizontalFlip(),                    # flip\n",
        "    transforms.RandomRotation(15),                        # rotate\n",
        "    transforms.ColorJitter(brightness=0.2, contrast=0.2, saturation=0.2),\n",
        "    transforms.ToTensor(),\n",
        "    transforms.Normalize([0.5]*3, [0.5]*3)                # normalize\n",
        "])\n",
        "val_transform = transforms.Compose([\n",
        "    transforms.Resize((224, 224)),\n",
        "    transforms.ToTensor(),\n",
        "    transforms.Normalize([0.5]*3, [0.5]*3)\n",
        "])"
      ],
      "metadata": {
        "id": "HO3wbeqP_z2n"
      },
      "execution_count": 51,
      "outputs": []
    },
    {
      "cell_type": "code",
      "source": [
        "# Split manually\n",
        "from sklearn.model_selection import train_test_split\n",
        "\n",
        "train_df, val_df = train_test_split(df, test_size=0.2, stratify=df['emotion'], random_state=42)\n",
        "\n",
        "train_dataset = FER2013Dataset(train_df, transform=transform)\n",
        "val_dataset = FER2013Dataset(val_df, transform=val_transform)\n",
        "\n",
        "train_loader = DataLoader(train_dataset, batch_size=16)\n",
        "val_loader = DataLoader(val_dataset, batch_size=16)"
      ],
      "metadata": {
        "id": "W7DkIsuCIj6X"
      },
      "execution_count": 52,
      "outputs": []
    },
    {
      "cell_type": "markdown",
      "metadata": {
        "id": "56690c88"
      },
      "source": [
        "Here is the code for the SRCNN model provided by the user. Note that this model is designed for super-resolution and takes a single-channel image as input and outputs a single-channel image."
      ]
    },
    {
      "cell_type": "code",
      "source": [
        "import torch.nn as nn\n",
        "import timm\n"
      ],
      "metadata": {
        "id": "VQ-zXTzlA8W3"
      },
      "execution_count": 53,
      "outputs": []
    },
    {
      "cell_type": "code",
      "source": [
        "class EfficientNetV2S_FeatureExtractor(nn.Module):\n",
        "    def __init__(self):\n",
        "        super(EfficientNetV2S_FeatureExtractor, self).__init__()\n",
        "        self.backbone = timm.create_model('tf_efficientnetv2_s.in21k', pretrained=True, features_only=True)\n",
        "\n",
        "    def forward(self, x):\n",
        "        features = self.backbone(x)\n",
        "        return features[-1]  # (B, 1280, 7, 7)"
      ],
      "metadata": {
        "id": "nZwqBT6GBu-_"
      },
      "execution_count": 54,
      "outputs": []
    },
    {
      "cell_type": "code",
      "source": [
        "%env CUDA_LAUNCH_BLOCKING=1"
      ],
      "metadata": {
        "colab": {
          "base_uri": "https://localhost:8080/"
        },
        "id": "X4VfVtr2uDg6",
        "outputId": "4499e1b5-23b5-4ad5-dd61-4782f277bc4d"
      },
      "execution_count": 55,
      "outputs": [
        {
          "output_type": "stream",
          "name": "stdout",
          "text": [
            "env: CUDA_LAUNCH_BLOCKING=1\n"
          ]
        }
      ]
    },
    {
      "cell_type": "code",
      "source": [
        "device = torch.device(\"cuda\" if torch.cuda.is_available() else \"cpu\")\n",
        "\n",
        "# Load model\n",
        "efficientnet_model = EfficientNetV2S_FeatureExtractor().to(device)\n",
        "efficientnet_model.eval()\n",
        "\n",
        "# Use first batch from train_loader\n",
        "for images, labels in train_loader:\n",
        "    images = images.to(device)  # shape: (B, 3, 224, 224)\n",
        "    labels = labels.to(device)\n",
        "\n",
        "    with torch.no_grad():\n",
        "        features = efficientnet_model(images)  # shape: (B, 1280, 7, 7)\n",
        "\n",
        "    print(\"Input shape:\", images.shape)\n",
        "    print(\"EfficientNetV2-S Output shape:\", features.shape)\n",
        "    break"
      ],
      "metadata": {
        "colab": {
          "base_uri": "https://localhost:8080/"
        },
        "id": "MANXo_wqB2yG",
        "outputId": "7fdde42a-99a3-476a-8ef9-4cd40b218cc9"
      },
      "execution_count": 56,
      "outputs": [
        {
          "output_type": "stream",
          "name": "stderr",
          "text": [
            "WARNING:timm.models._builder:Unexpected keys (bn2.num_batches_tracked, bn2.bias, bn2.running_mean, bn2.running_var, bn2.weight, conv_head.weight) found while loading pretrained weights. This may be expected if model is being adapted.\n"
          ]
        },
        {
          "output_type": "stream",
          "name": "stdout",
          "text": [
            "Input shape: torch.Size([16, 3, 224, 224])\n",
            "EfficientNetV2-S Output shape: torch.Size([16, 256, 7, 7])\n"
          ]
        }
      ]
    },
    {
      "cell_type": "code",
      "metadata": {
        "id": "40bf4f5c"
      },
      "source": [],
      "execution_count": 56,
      "outputs": []
    },
    {
      "cell_type": "code",
      "source": [
        "class ConvNeXtBlock(nn.Module):\n",
        "    def __init__(self, in_channels=256, out_channels=256):\n",
        "        super(ConvNeXtBlock, self).__init__()\n",
        "        self.convnext = timm.create_model('convnext_tiny', pretrained=True, features_only=True)\n",
        "        self.proj = nn.Conv2d(in_channels, out_channels, kernel_size=1)\n",
        "\n",
        "    def forward(self, x):\n",
        "        x = self.proj(x)  # Reduce 256 → 256 (no change)\n",
        "        return x  # shape: B × 256 × 7 × 7"
      ],
      "metadata": {
        "id": "xQ4v-xgvC7Xu"
      },
      "execution_count": 57,
      "outputs": []
    },
    {
      "cell_type": "code",
      "source": [
        "class SE_MBConvBlock(nn.Module):\n",
        "    def __init__(self, in_channels=256, out_channels=256):\n",
        "        super(SE_MBConvBlock, self).__init__()\n",
        "        self.expand = nn.Conv2d(in_channels, in_channels * 6, kernel_size=1)\n",
        "        self.depthwise = nn.Conv2d(in_channels * 6, in_channels * 6, kernel_size=3, padding=1, groups=in_channels * 6)\n",
        "        self.se = nn.Sequential(\n",
        "            nn.AdaptiveAvgPool2d(1),\n",
        "            nn.Conv2d(in_channels * 6, in_channels // 4, 1),\n",
        "            nn.ReLU(),\n",
        "            nn.Conv2d(in_channels // 4, in_channels * 6, 1),\n",
        "            nn.Sigmoid()\n",
        "        )\n",
        "        self.project = nn.Conv2d(in_channels * 6, out_channels, kernel_size=1)\n",
        "\n",
        "    def forward(self, x):\n",
        "        x = self.expand(x)\n",
        "        x = self.depthwise(x)\n",
        "        se_weight = self.se(x)\n",
        "        x = x * se_weight\n",
        "        x = self.project(x)\n",
        "        return x  # shape: B × 256 × 7 × 7"
      ],
      "metadata": {
        "id": "RjQjJCn1Dmku"
      },
      "execution_count": 58,
      "outputs": []
    },
    {
      "cell_type": "code",
      "source": [
        "adaptive_pool = nn.AdaptiveAvgPool2d((28, 28))\n"
      ],
      "metadata": {
        "id": "NgLnq-bkDrI-"
      },
      "execution_count": 59,
      "outputs": []
    },
    {
      "cell_type": "code",
      "source": [
        "class MultiBranchFeatureExtractor(nn.Module):\n",
        "    def __init__(self):\n",
        "        super(MultiBranchFeatureExtractor, self).__init__()\n",
        "        self.efficientnet = EfficientNetV2S_FeatureExtractor()\n",
        "        self.convnext_block = ConvNeXtBlock()\n",
        "        self.se_mbconv_block = SE_MBConvBlock()\n",
        "        self.pool = nn.AdaptiveAvgPool2d((28, 28))  # Resize to 28×28\n",
        "\n",
        "    def forward(self, x):\n",
        "        x = self.efficientnet(x)  # Output: B × 1280 × 7 × 7\n",
        "\n",
        "        convnext_feat = self.convnext_block(x)     # B × 256 × 7 × 7\n",
        "        senet_feat    = self.se_mbconv_block(x)    # B × 256 × 7 × 7\n",
        "\n",
        "        convnext_feat = self.pool(convnext_feat)   # B × 256 × 28 × 28\n",
        "        senet_feat    = self.pool(senet_feat)      # B × 256 × 28 × 28\n",
        "\n",
        "        return convnext_feat, senet_feat\n"
      ],
      "metadata": {
        "id": "MILCZ-6uDt-f"
      },
      "execution_count": 60,
      "outputs": []
    },
    {
      "cell_type": "code",
      "source": [
        "device = torch.device(\"cuda\" if torch.cuda.is_available() else \"cpu\")\n",
        "\n",
        "model = MultiBranchFeatureExtractor().to(device)\n",
        "model.eval()\n",
        "\n",
        "for images, labels in train_loader:\n",
        "    images = images.to(device)\n",
        "\n",
        "    with torch.no_grad():\n",
        "        conv_feat, se_feat = model(images)\n",
        "\n",
        "    print(\"ConvNeXt Output:\", conv_feat.shape)  # [B, 256, 28, 28]\n",
        "    print(\"SENet+MBConv Output:\", se_feat.shape)  # [B, 256, 28, 28]\n",
        "    break\n"
      ],
      "metadata": {
        "colab": {
          "base_uri": "https://localhost:8080/"
        },
        "id": "8y6UhVCgD1Bm",
        "outputId": "06fb4b9f-14d8-4611-a956-a0ef9eb41706"
      },
      "execution_count": 61,
      "outputs": [
        {
          "output_type": "stream",
          "name": "stderr",
          "text": [
            "WARNING:timm.models._builder:Unexpected keys (bn2.num_batches_tracked, bn2.bias, bn2.running_mean, bn2.running_var, bn2.weight, conv_head.weight) found while loading pretrained weights. This may be expected if model is being adapted.\n"
          ]
        },
        {
          "output_type": "stream",
          "name": "stdout",
          "text": [
            "ConvNeXt Output: torch.Size([16, 256, 28, 28])\n",
            "SENet+MBConv Output: torch.Size([16, 256, 28, 28])\n"
          ]
        }
      ]
    },
    {
      "cell_type": "code",
      "source": [
        "class CrossAttentionFusion(nn.Module):\n",
        "    def __init__(self, embed_dim=256, num_heads=4):\n",
        "        super(CrossAttentionFusion, self).__init__()\n",
        "        self.attn = nn.MultiheadAttention(embed_dim=embed_dim, num_heads=num_heads, batch_first=True)\n",
        "        self.norm = nn.LayerNorm(embed_dim)\n",
        "\n",
        "    def forward(self, feat_q, feat_kv):\n",
        "        # Input: B × 256 × 28 × 28\n",
        "        B, C, H, W = feat_q.shape\n",
        "\n",
        "        # Flatten to sequences: B × 784 × 256\n",
        "        q = feat_q.view(B, C, -1).permute(0, 2, 1)   # Q: (B, 784, 256)\n",
        "        kv = feat_kv.view(B, C, -1).permute(0, 2, 1) # K,V: (B, 784, 256)\n",
        "\n",
        "        # Cross-attention\n",
        "        attn_output, _ = self.attn(q, kv, kv)        # (B, 784, 256)\n",
        "        attn_output = self.norm(attn_output + q)     # Residual + Norm\n",
        "\n",
        "        # Reshape back to spatial map: (B, 256, 28, 28)\n",
        "        fused = attn_output.permute(0, 2, 1).view(B, C, H, W)\n",
        "\n",
        "        return fused  # Output: B × 256 × 28 × 28"
      ],
      "metadata": {
        "id": "zOAopRK4EG63"
      },
      "execution_count": 62,
      "outputs": []
    },
    {
      "cell_type": "code",
      "source": [
        "class FullFeatureFusionBlock(nn.Module):\n",
        "    def __init__(self):\n",
        "        super(FullFeatureFusionBlock, self).__init__()\n",
        "        self.backbone = MultiBranchFeatureExtractor()        # Gives conv_feat, se_feat\n",
        "        self.cross_attn = CrossAttentionFusion(embed_dim=256, num_heads=4)\n",
        "\n",
        "    def forward(self, x):\n",
        "        conv_feat, se_feat = self.backbone(x)               # B × 256 × 28 × 28\n",
        "\n",
        "        fused_feat = self.cross_attn(conv_feat, se_feat)    # B × 256 × 28 × 28\n",
        "\n",
        "        return fused_feat  # ready for concatenation with other branches if needed"
      ],
      "metadata": {
        "id": "7Nusj4diEa__"
      },
      "execution_count": 63,
      "outputs": []
    },
    {
      "cell_type": "code",
      "source": [
        "model = FullFeatureFusionBlock().to(device)\n",
        "model.eval()\n",
        "\n",
        "for images, _ in train_loader:\n",
        "    images = images.to(device)\n",
        "    with torch.no_grad():\n",
        "        fused_output = model(images)\n",
        "\n",
        "    print(\"Fused Output Shape:\", fused_output.shape)  # Expected: [B, 256, 28, 28]\n",
        "    break"
      ],
      "metadata": {
        "colab": {
          "base_uri": "https://localhost:8080/"
        },
        "id": "rcAwQ4CeEe93",
        "outputId": "d5c0e297-769c-40ae-f94e-93e894481933"
      },
      "execution_count": 64,
      "outputs": [
        {
          "output_type": "stream",
          "name": "stderr",
          "text": [
            "WARNING:timm.models._builder:Unexpected keys (bn2.num_batches_tracked, bn2.bias, bn2.running_mean, bn2.running_var, bn2.weight, conv_head.weight) found while loading pretrained weights. This may be expected if model is being adapted.\n"
          ]
        },
        {
          "output_type": "stream",
          "name": "stdout",
          "text": [
            "Fused Output Shape: torch.Size([16, 256, 28, 28])\n"
          ]
        }
      ]
    },
    {
      "cell_type": "code",
      "source": [
        "class GlobalContextBranch(nn.Module):\n",
        "    def __init__(self, in_channels=256, out_channels=64):\n",
        "        super(GlobalContextBranch, self).__init__()\n",
        "        self.global_pool = nn.AdaptiveAvgPool2d(1)\n",
        "        self.fc = nn.Sequential(\n",
        "            nn.Conv2d(in_channels, out_channels, 1),\n",
        "            nn.ReLU(),\n",
        "            nn.Upsample(size=(28, 28), mode='bilinear', align_corners=False)\n",
        "        )\n",
        "\n",
        "    def forward(self, x):\n",
        "        x = self.global_pool(x)   # [B, 256, 1, 1] after global pool, originally [B, 256, 7, 7]\n",
        "        x = self.fc(x)            # [B, 64, 28, 28]\n",
        "        return x"
      ],
      "metadata": {
        "id": "wWORSZAOElr2"
      },
      "execution_count": 65,
      "outputs": []
    },
    {
      "cell_type": "code",
      "source": [
        "class LocalDetailBranch(nn.Module):\n",
        "    def __init__(self, in_channels=256, out_channels=64):\n",
        "        super(LocalDetailBranch, self).__init__()\n",
        "        self.local_cnn = nn.Sequential(\n",
        "            nn.Conv2d(in_channels, out_channels, kernel_size=3, padding=2, dilation=2),\n",
        "            nn.BatchNorm2d(out_channels),\n",
        "            nn.ReLU(),\n",
        "            nn.Conv2d(out_channels, out_channels, kernel_size=3, padding=1),\n",
        "            nn.BatchNorm2d(out_channels),\n",
        "            nn.ReLU(),\n",
        "        )\n",
        "\n",
        "    def forward(self, x):\n",
        "        return self.local_cnn(x)  # [B, 64, 28, 28]"
      ],
      "metadata": {
        "id": "Q9ESnC7DFU2f"
      },
      "execution_count": 66,
      "outputs": []
    },
    {
      "cell_type": "code",
      "source": [
        "class MultiBranchFullFusion(nn.Module):\n",
        "    def __init__(self):\n",
        "        super(MultiBranchFullFusion, self).__init__()\n",
        "        self.feature_extractor = EfficientNetV2S_FeatureExtractor()\n",
        "\n",
        "        self.convnext_block = ConvNeXtBlock()\n",
        "        self.se_mbconv_block = SE_MBConvBlock()\n",
        "\n",
        "        self.pool = nn.AdaptiveAvgPool2d((28, 28))\n",
        "        self.cross_attn = CrossAttentionFusion(embed_dim=256)\n",
        "\n",
        "        self.global_context = GlobalContextBranch()\n",
        "        self.local_detail = LocalDetailBranch()\n",
        "\n",
        "        # Add pooling to ensure consistent spatial dimensions before concatenation\n",
        "        self.global_pool_out = nn.AdaptiveAvgPool2d((28, 28))\n",
        "        self.local_pool_out = nn.AdaptiveAvgPool2d((28, 28))\n",
        "\n",
        "\n",
        "    def forward(self, x):\n",
        "        feat = self.feature_extractor(x)                # [B, 256, 7, 7]\n",
        "\n",
        "        # ConvNeXt & SENet+MBConv\n",
        "        conv_feat = self.pool(self.convnext_block(feat))  # [B, 256, 28, 28]\n",
        "        se_feat   = self.pool(self.se_mbconv_block(feat)) # [B, 256, 28, 28]\n",
        "\n",
        "        # Cross-attention fused output\n",
        "        fused_attn = self.cross_attn(conv_feat, se_feat)  # [B, 256, 28, 28]\n",
        "\n",
        "        # Extra branches\n",
        "        global_feat = self.global_context(feat)           # Expected: [B, 64, 28, 28]\n",
        "        local_feat  = self.local_detail(feat)             # Expected: [B, 64, 28, 28]\n",
        "\n",
        "        # Ensure spatial dimensions are 28x28 before concatenation\n",
        "        global_feat_pooled = self.global_pool_out(global_feat)\n",
        "        local_feat_pooled = self.local_pool_out(local_feat)\n",
        "\n",
        "\n",
        "        # Concatenate all\n",
        "        final_feat = torch.cat([conv_feat, se_feat, fused_attn, global_feat_pooled, local_feat_pooled], dim=1)  # [B, 896, 28, 28]\n",
        "        return final_feat"
      ],
      "metadata": {
        "id": "oBV99odjFY5P"
      },
      "execution_count": 67,
      "outputs": []
    },
    {
      "cell_type": "code",
      "source": [
        "model = MultiBranchFullFusion().to(device)\n",
        "model.eval()\n",
        "\n",
        "for images, _ in train_loader:\n",
        "    images = images.to(device)\n",
        "    with torch.no_grad():\n",
        "        fusion_output = model(images)\n",
        "    print(\"Final Fused Feature Shape:\", fusion_output.shape)  # [B, 896, 28, 28]\n",
        "    break\n"
      ],
      "metadata": {
        "colab": {
          "base_uri": "https://localhost:8080/"
        },
        "id": "0aTPzXArFfAX",
        "outputId": "ecf56fd1-4d42-481d-9f69-769128adccf2"
      },
      "execution_count": 68,
      "outputs": [
        {
          "output_type": "stream",
          "name": "stderr",
          "text": [
            "WARNING:timm.models._builder:Unexpected keys (bn2.num_batches_tracked, bn2.bias, bn2.running_mean, bn2.running_var, bn2.weight, conv_head.weight) found while loading pretrained weights. This may be expected if model is being adapted.\n"
          ]
        },
        {
          "output_type": "stream",
          "name": "stdout",
          "text": [
            "Final Fused Feature Shape: torch.Size([16, 896, 28, 28])\n"
          ]
        }
      ]
    },
    {
      "cell_type": "code",
      "source": [
        "class MobileViTBlock(nn.Module):\n",
        "    def __init__(self, in_channels, transformer_dim=128, patch_size=2, depth=2, heads=4):\n",
        "        super(MobileViTBlock, self).__init__()\n",
        "        self.patch_size = patch_size\n",
        "        ph, pw = patch_size, patch_size\n",
        "\n",
        "        self.local_rep = nn.Sequential(\n",
        "            nn.Conv2d(in_channels, in_channels, kernel_size=3, padding=1),\n",
        "            nn.BatchNorm2d(in_channels),\n",
        "            nn.ReLU()\n",
        "        )\n",
        "\n",
        "        self.unfold = nn.Unfold(kernel_size=patch_size, stride=patch_size)\n",
        "        self.fold = nn.Fold(output_size=(28, 28), kernel_size=patch_size, stride=patch_size)\n",
        "\n",
        "        self.conv_before_trans = nn.Conv2d(in_channels * ph * pw, transformer_dim, kernel_size=1)\n",
        "\n",
        "        encoder_layer = nn.TransformerEncoderLayer(\n",
        "            d_model=transformer_dim,\n",
        "            nhead=heads,\n",
        "            batch_first=True,\n",
        "            dim_feedforward=transformer_dim * 2,\n",
        "            dropout=0.1,\n",
        "            activation='gelu'\n",
        "        )\n",
        "        self.transformer = nn.TransformerEncoder(encoder_layer, num_layers=depth)\n",
        "\n",
        "        self.conv_after_trans = nn.Conv2d(transformer_dim, in_channels * ph * pw, kernel_size=1)\n",
        "\n",
        "\n",
        "        self.project = nn.Sequential(\n",
        "            nn.Conv2d(in_channels, in_channels, kernel_size=3, padding=1),\n",
        "            nn.BatchNorm2d(in_channels),\n",
        "            nn.ReLU()\n",
        "        )\n",
        "\n",
        "    def forward(self, x):\n",
        "        B, C, H, W = x.shape\n",
        "        ph, pw = self.patch_size, self.patch_size\n",
        "\n",
        "        identity = x # B × C × H × W\n",
        "\n",
        "        x = self.local_rep(x) # B × C × H × W\n",
        "\n",
        "        # Unfold, Conv, and flatten for Transformer\n",
        "        x = self.unfold(x) # B × (C*ph*pw) × (H*W / (ph*pw))\n",
        "        x = x.view(B, C, ph*pw, -1).permute(0, 3, 2, 1).contiguous().view(B, -1, C*ph*pw) # B × N × (C*ph*pw)\n",
        "        x = self.conv_before_trans(x.permute(0, 2, 1).view(B, C*ph*pw, H//ph, W//pw)).view(B, self.conv_before_trans.out_channels, -1).permute(0, 2, 1) # B × N × transformer_dim\n",
        "\n",
        "\n",
        "        # Transformer\n",
        "        x = self.transformer(x) # B × N × transformer_dim\n",
        "\n",
        "        # Project back and Fold\n",
        "        x = self.conv_after_trans(x.permute(0, 2, 1).view(B, self.conv_after_trans.in_channels, H//ph, W//pw)) # B × (C*ph*pw) × H/ph × W/pw\n",
        "        x = x.view(B, C*ph*pw, -1) # B × (C*ph*pw) × N\n",
        "        x = self.fold(x) # B × C × H × W\n",
        "\n",
        "        # Project and Residual Connection\n",
        "        x = self.project(x) # B × C × H × W\n",
        "        x = x + identity # Residual connection\n",
        "\n",
        "        return x # B × in_channels × H × W"
      ],
      "metadata": {
        "id": "7maz4TnEF5Rn"
      },
      "execution_count": 69,
      "outputs": []
    },
    {
      "cell_type": "code",
      "source": [
        "class FinalModelWithMobileViT(nn.Module):\n",
        "    def __init__(self):\n",
        "        super(FinalModelWithMobileViT, self).__init__()\n",
        "        self.fusion = MultiBranchFullFusion()\n",
        "        self.mobilevit = MobileViTBlock(in_channels=896, transformer_dim=128, patch_size=2, depth=2, heads=4)\n",
        "\n",
        "    def forward(self, x):\n",
        "        x = self.fusion(x)         # [B, 896, 28, 28]\n",
        "        x = self.mobilevit(x)      # [B, 896, 28, 28]\n",
        "        return x\n"
      ],
      "metadata": {
        "id": "Z9EhWEPlGXE3"
      },
      "execution_count": 70,
      "outputs": []
    },
    {
      "cell_type": "code",
      "source": [
        "class FinalModelWithMobileViT1(nn.Module):\n",
        "    def __init__(self):\n",
        "        super(FinalModelWithMobileViT1, self).__init__()\n",
        "        self.fusion = MultiBranchFullFusion()\n",
        "        self.mobilevit = MobileViTBlock(in_channels=896, transformer_dim=128, patch_size=(2,2), depth=2, heads=4)\n",
        "\n",
        "    def forward(self, x):\n",
        "        x = self.fusion(x)         # [B, 896, 28, 28]\n",
        "        x = self.mobilevit(x)      # [B, 896, 28, 28]\n",
        "        return x"
      ],
      "metadata": {
        "id": "UGnSyQWFGgWv"
      },
      "execution_count": 71,
      "outputs": []
    },
    {
      "cell_type": "code",
      "source": [
        "class FinalModelWithGAP(nn.Module):\n",
        "    def __init__(self):\n",
        "        super(FinalModelWithGAP, self).__init__()\n",
        "        self.fusion = MultiBranchFullFusion()\n",
        "        self.mobilevit = MobileViTBlock(in_channels=896, transformer_dim=128, patch_size=2, depth=2, heads=4)\n",
        "        self.gap = nn.AdaptiveAvgPool2d(1)  # Global Avg Pool → [B, 896, 1, 1]\n",
        "\n",
        "    def forward(self, x):\n",
        "        x = self.fusion(x)            # [B, 896, 28, 28]\n",
        "        x = self.mobilevit(x)         # [B, 896, 28, 28]\n",
        "        x = self.gap(x)               # [B, 896, 1, 1]\n",
        "        x = x.view(x.size(0), -1)     # Flatten → [B, 896]\n",
        "        return x\n"
      ],
      "metadata": {
        "id": "H7LFhDWwGsif"
      },
      "execution_count": 72,
      "outputs": []
    },
    {
      "cell_type": "code",
      "source": [
        "model = FinalModelWithGAP().to(device)\n",
        "model.eval()\n",
        "\n",
        "for images, _ in train_loader:\n",
        "    images = images.to(device)\n",
        "    with torch.no_grad():\n",
        "        features = model(images)\n",
        "\n",
        "    print(\"Final Feature Vector Shape:\", features.shape)  # [B, 896]\n",
        "    break"
      ],
      "metadata": {
        "colab": {
          "base_uri": "https://localhost:8080/"
        },
        "id": "Ed-xEmLjHJdP",
        "outputId": "e8c2c495-a36e-47d7-d974-ebdc593cffa8"
      },
      "execution_count": 73,
      "outputs": [
        {
          "output_type": "stream",
          "name": "stderr",
          "text": [
            "WARNING:timm.models._builder:Unexpected keys (bn2.num_batches_tracked, bn2.bias, bn2.running_mean, bn2.running_var, bn2.weight, conv_head.weight) found while loading pretrained weights. This may be expected if model is being adapted.\n"
          ]
        },
        {
          "output_type": "stream",
          "name": "stdout",
          "text": [
            "Final Feature Vector Shape: torch.Size([16, 896])\n"
          ]
        }
      ]
    },
    {
      "cell_type": "code",
      "source": [
        "class EmotionClassifier(nn.Module):\n",
        "    def __init__(self, dropout_rate=0.5):\n",
        "        super(EmotionClassifier, self).__init__()\n",
        "        self.fusion = MultiBranchFullFusion()\n",
        "        self.mobilevit = MobileViTBlock(in_channels=896, transformer_dim=128, patch_size=2, depth=2, heads=4)\n",
        "        self.gap = nn.AdaptiveAvgPool2d(1)\n",
        "        self.classifier = nn.Sequential(\n",
        "            nn.Flatten(),                 # [B, 896, 1, 1] → [B, 896]\n",
        "            nn.Dropout(dropout_rate),\n",
        "            nn.Linear(896, 7)            # 7 emotion classes\n",
        "        )\n",
        "\n",
        "    def forward(self, x):\n",
        "        x = self.fusion(x)            # [B, 896, 28, 28]\n",
        "        x = self.mobilevit(x)         # [B, 896, 28, 28]\n",
        "        x = self.gap(x)               # [B, 896, 1, 1]\n",
        "        x = self.classifier(x)        # [B, 7]\n",
        "        return x\n"
      ],
      "metadata": {
        "id": "5mfIw9KFHOn2"
      },
      "execution_count": 74,
      "outputs": []
    },
    {
      "cell_type": "code",
      "source": [
        "model = EmotionClassifier().to(device)\n",
        "model.eval()\n",
        "\n",
        "for images, _ in train_loader:\n",
        "    images = images.to(device)\n",
        "    with torch.no_grad():\n",
        "        logits = model(images)\n",
        "\n",
        "    print(\"Model Output Shape:\", logits.shape)  # [B, 7]\n",
        "    break\n"
      ],
      "metadata": {
        "colab": {
          "base_uri": "https://localhost:8080/"
        },
        "id": "-Gtn-xXKIKnn",
        "outputId": "5722f856-bae4-4feb-bf93-0ba0044a210a"
      },
      "execution_count": 75,
      "outputs": [
        {
          "output_type": "stream",
          "name": "stderr",
          "text": [
            "WARNING:timm.models._builder:Unexpected keys (bn2.num_batches_tracked, bn2.bias, bn2.running_mean, bn2.running_var, bn2.weight, conv_head.weight) found while loading pretrained weights. This may be expected if model is being adapted.\n"
          ]
        },
        {
          "output_type": "stream",
          "name": "stdout",
          "text": [
            "Model Output Shape: torch.Size([16, 7])\n"
          ]
        }
      ]
    },
    {
      "cell_type": "code",
      "source": [],
      "metadata": {
        "id": "NdqWwtyVIqLf"
      },
      "execution_count": 75,
      "outputs": []
    },
    {
      "cell_type": "code",
      "source": [
        "import torch.optim as optim\n",
        "from tqdm import tqdm\n",
        "\n",
        "# ============================================================\n",
        "# Mixup Function\n",
        "# ============================================================\n",
        "def mixup_data(x, y, alpha=0.2):\n",
        "    \"\"\"Returns mixed inputs, pairs of targets, and lambda\"\"\"\n",
        "    lam = np.random.beta(alpha, alpha) if alpha > 0 else 1.0\n",
        "    batch_size = x.size()[0]\n",
        "    index = torch.randperm(batch_size).to(x.device)\n",
        "    mixed_x = lam * x + (1 - lam) * x[index, :]\n",
        "    y_a, y_b = y, y[index]\n",
        "    return mixed_x, y_a, y_b, lam\n",
        "\n",
        "# ============================================================\n",
        "# Early Stopping Class\n",
        "# ============================================================\n",
        "class EarlyStopping:\n",
        "    def __init__(self, patience=15, min_delta=0):\n",
        "        self.patience = patience\n",
        "        self.min_delta = min_delta\n",
        "        self.counter = 0\n",
        "        self.best_loss = np.inf\n",
        "        self.early_stop = False\n",
        "\n",
        "    def __call__(self, val_loss):\n",
        "        if val_loss < self.best_loss - self.min_delta:\n",
        "            self.best_loss = val_loss\n",
        "            self.counter = 0\n",
        "        else:\n",
        "            self.counter += 1\n",
        "            if self.counter >= self.patience:\n",
        "                self.early_stop = True"
      ],
      "metadata": {
        "id": "7447DYltb7eW"
      },
      "execution_count": 76,
      "outputs": []
    },
    {
      "cell_type": "code",
      "source": [
        "def train_model(model, train_loader, val_loader, criterion, optimizer, scheduler, device, num_epochs=25, patience=5):\n",
        "    best_val_loss = float('inf')\n",
        "    best_epoch = 0\n",
        "    epochs_no_improve = 0\n",
        "    history = {\n",
        "        'train_loss': [], 'val_loss': [],\n",
        "        'train_acc': [], 'val_acc': []\n",
        "    }\n",
        "\n",
        "    for epoch in range(num_epochs):\n",
        "        # Training phase\n",
        "        model.train()\n",
        "        train_loss, train_correct, total = 0, 0, 0\n",
        "        for images, labels in train_loader:\n",
        "            images, labels = images.to(device), labels.to(device)\n",
        "\n",
        "            optimizer.zero_grad()\n",
        "            outputs = model(images)\n",
        "            loss = criterion(outputs, labels)\n",
        "            loss.backward()\n",
        "            optimizer.step()\n",
        "\n",
        "            train_loss += loss.item() * images.size(0)\n",
        "            _, preds = torch.max(outputs, 1)\n",
        "            train_correct += (preds == labels).sum().item()\n",
        "            total += labels.size(0)\n",
        "\n",
        "        avg_train_loss = train_loss / total\n",
        "        train_acc = 100 * train_correct / total\n",
        "\n",
        "        # Validation phase\n",
        "        model.eval()\n",
        "        val_loss, val_correct, val_total = 0, 0, 0\n",
        "        with torch.no_grad():\n",
        "            for images, labels in val_loader:\n",
        "                images, labels = images.to(device), labels.to(device)\n",
        "                outputs = model(images)\n",
        "                loss = criterion(outputs, labels)\n",
        "\n",
        "                val_loss += loss.item() * images.size(0)\n",
        "                _, preds = torch.max(outputs, 1)\n",
        "                val_correct += (preds == labels).sum().item()\n",
        "                val_total += labels.size(0)\n",
        "\n",
        "        avg_val_loss = val_loss / val_total\n",
        "        val_acc = 100 * val_correct / val_total\n",
        "\n",
        "        # Step scheduler\n",
        "        scheduler.step(avg_val_loss)\n",
        "\n",
        "        print(f\"Epoch [{epoch+1}/{num_epochs}] | \"\n",
        "              f\"Train Loss: {avg_train_loss:.4f} | Train Acc: {train_acc:.2f}% | \"\n",
        "              f\"Val Loss: {avg_val_loss:.4f} | Val Acc: {val_acc:.2f}%\")\n",
        "\n",
        "        # Save best model\n",
        "        if avg_val_loss < best_val_loss:\n",
        "            best_val_loss = avg_val_loss\n",
        "            best_epoch = epoch + 1\n",
        "            epochs_no_improve = 0\n",
        "            torch.save(model.state_dict(), \"best_model.pth\")\n",
        "            print(\"✅ Saved Best Model\")\n",
        "        else:\n",
        "            epochs_no_improve += 1\n",
        "\n",
        "\n",
        "\n",
        "        # Append history\n",
        "        history['train_loss'].append(avg_train_loss)\n",
        "        history['val_loss'].append(avg_val_loss)\n",
        "        history['train_acc'].append(train_acc)\n",
        "        history['val_acc'].append(val_acc)\n",
        "\n",
        "\n",
        "    print(\"Training Complete!\")\n",
        "    return history"
      ],
      "metadata": {
        "id": "GVEwxYGKIxov"
      },
      "execution_count": 77,
      "outputs": []
    },
    {
      "cell_type": "code",
      "source": [
        "import torch.optim as optim\n",
        "\n",
        "# Loss function\n",
        "criterion = nn.CrossEntropyLoss(label_smoothing=0.1)\n",
        "\n",
        "# Optimizer with weight decay\n",
        "optimizer = optim.AdamW(model.parameters(), lr=1e-4, weight_decay=1e-4)\n",
        "scheduler = optim.lr_scheduler.ReduceLROnPlateau(optimizer, mode='min', patience=15, factor=0.5)"
      ],
      "metadata": {
        "id": "SlNOk4kpcZCV"
      },
      "execution_count": 78,
      "outputs": []
    },
    {
      "cell_type": "code",
      "source": [
        "num_epochs = 50  # or as needed\n",
        "history = train_model(\n",
        "    model,\n",
        "    train_loader,\n",
        "    val_loader,\n",
        "    criterion,\n",
        "    optimizer,\n",
        "    scheduler,\n",
        "    device,\n",
        "    num_epochs=50,\n",
        "\n",
        ")\n",
        "\n"
      ],
      "metadata": {
        "id": "y2HOOW2cI3IX",
        "colab": {
          "base_uri": "https://localhost:8080/"
        },
        "outputId": "d002c67e-59c1-4d44-fca1-7aecafb7ef52"
      },
      "execution_count": 79,
      "outputs": [
        {
          "output_type": "stream",
          "name": "stdout",
          "text": [
            "Epoch [1/50] | Train Loss: 1.5669 | Train Acc: 53.68% | Val Loss: 1.1320 | Val Acc: 77.90%\n",
            "✅ Saved Best Model\n",
            "Epoch [2/50] | Train Loss: 1.0197 | Train Acc: 78.64% | Val Loss: 1.3822 | Val Acc: 54.14%\n",
            "Epoch [3/50] | Train Loss: 0.8449 | Train Acc: 84.88% | Val Loss: 1.0064 | Val Acc: 80.11%\n",
            "✅ Saved Best Model\n",
            "Epoch [4/50] | Train Loss: 0.7405 | Train Acc: 90.01% | Val Loss: 0.8542 | Val Acc: 84.53%\n",
            "✅ Saved Best Model\n",
            "Epoch [5/50] | Train Loss: 0.6601 | Train Acc: 93.48% | Val Loss: 0.7366 | Val Acc: 90.06%\n",
            "✅ Saved Best Model\n",
            "Epoch [6/50] | Train Loss: 0.6269 | Train Acc: 95.56% | Val Loss: 0.7346 | Val Acc: 90.06%\n",
            "✅ Saved Best Model\n",
            "Epoch [7/50] | Train Loss: 0.5997 | Train Acc: 96.67% | Val Loss: 0.6945 | Val Acc: 91.71%\n",
            "✅ Saved Best Model\n",
            "Epoch [8/50] | Train Loss: 0.5758 | Train Acc: 97.09% | Val Loss: 0.6905 | Val Acc: 90.06%\n",
            "✅ Saved Best Model\n",
            "Epoch [9/50] | Train Loss: 0.5527 | Train Acc: 98.20% | Val Loss: 0.6980 | Val Acc: 90.06%\n",
            "Epoch [10/50] | Train Loss: 0.5457 | Train Acc: 98.47% | Val Loss: 0.6611 | Val Acc: 91.71%\n",
            "✅ Saved Best Model\n",
            "Epoch [11/50] | Train Loss: 0.5397 | Train Acc: 98.89% | Val Loss: 0.6806 | Val Acc: 91.16%\n",
            "Epoch [12/50] | Train Loss: 0.5339 | Train Acc: 98.61% | Val Loss: 0.6597 | Val Acc: 93.37%\n",
            "✅ Saved Best Model\n",
            "Epoch [13/50] | Train Loss: 0.5252 | Train Acc: 99.03% | Val Loss: 0.6954 | Val Acc: 90.06%\n",
            "Epoch [14/50] | Train Loss: 0.5231 | Train Acc: 98.61% | Val Loss: 0.6769 | Val Acc: 92.82%\n",
            "Epoch [15/50] | Train Loss: 0.5119 | Train Acc: 99.58% | Val Loss: 0.6665 | Val Acc: 91.71%\n",
            "Epoch [16/50] | Train Loss: 0.5081 | Train Acc: 99.58% | Val Loss: 0.6427 | Val Acc: 92.27%\n",
            "✅ Saved Best Model\n",
            "Epoch [17/50] | Train Loss: 0.5136 | Train Acc: 99.17% | Val Loss: 0.6581 | Val Acc: 92.27%\n",
            "Epoch [18/50] | Train Loss: 0.5031 | Train Acc: 99.03% | Val Loss: 0.6166 | Val Acc: 93.92%\n",
            "✅ Saved Best Model\n",
            "Epoch [19/50] | Train Loss: 0.5014 | Train Acc: 99.45% | Val Loss: 0.6358 | Val Acc: 93.37%\n",
            "Epoch [20/50] | Train Loss: 0.4920 | Train Acc: 99.58% | Val Loss: 0.6257 | Val Acc: 93.37%\n",
            "Epoch [21/50] | Train Loss: 0.4885 | Train Acc: 100.00% | Val Loss: 0.5673 | Val Acc: 98.34%\n",
            "✅ Saved Best Model\n",
            "Epoch [22/50] | Train Loss: 0.4997 | Train Acc: 99.03% | Val Loss: 0.5826 | Val Acc: 95.03%\n",
            "Epoch [23/50] | Train Loss: 0.4928 | Train Acc: 99.31% | Val Loss: 0.5927 | Val Acc: 94.48%\n",
            "Epoch [24/50] | Train Loss: 0.4858 | Train Acc: 99.72% | Val Loss: 0.6062 | Val Acc: 93.92%\n",
            "Epoch [25/50] | Train Loss: 0.4845 | Train Acc: 99.72% | Val Loss: 0.5956 | Val Acc: 95.58%\n",
            "Epoch [26/50] | Train Loss: 0.4759 | Train Acc: 100.00% | Val Loss: 0.6060 | Val Acc: 94.48%\n",
            "Epoch [27/50] | Train Loss: 0.4743 | Train Acc: 100.00% | Val Loss: 0.6034 | Val Acc: 93.92%\n",
            "Epoch [28/50] | Train Loss: 0.4790 | Train Acc: 99.72% | Val Loss: 0.5818 | Val Acc: 93.92%\n",
            "Epoch [29/50] | Train Loss: 0.4768 | Train Acc: 100.00% | Val Loss: 0.5675 | Val Acc: 93.92%\n",
            "Epoch [30/50] | Train Loss: 0.4738 | Train Acc: 100.00% | Val Loss: 0.5980 | Val Acc: 96.69%\n",
            "Epoch [31/50] | Train Loss: 0.4803 | Train Acc: 99.58% | Val Loss: 0.5787 | Val Acc: 93.37%\n",
            "Epoch [32/50] | Train Loss: 0.4708 | Train Acc: 100.00% | Val Loss: 0.5694 | Val Acc: 93.92%\n",
            "Epoch [33/50] | Train Loss: 0.4673 | Train Acc: 100.00% | Val Loss: 0.5737 | Val Acc: 94.48%\n",
            "Epoch [34/50] | Train Loss: 0.4717 | Train Acc: 99.72% | Val Loss: 0.6001 | Val Acc: 94.48%\n",
            "Epoch [35/50] | Train Loss: 0.4779 | Train Acc: 99.45% | Val Loss: 0.6075 | Val Acc: 93.37%\n",
            "Epoch [36/50] | Train Loss: 0.4811 | Train Acc: 99.58% | Val Loss: 0.6011 | Val Acc: 95.03%\n",
            "Epoch [37/50] | Train Loss: 0.4744 | Train Acc: 99.72% | Val Loss: 0.6290 | Val Acc: 93.37%\n",
            "Epoch [38/50] | Train Loss: 0.4731 | Train Acc: 99.86% | Val Loss: 0.6052 | Val Acc: 93.92%\n",
            "Epoch [39/50] | Train Loss: 0.4729 | Train Acc: 99.72% | Val Loss: 0.5787 | Val Acc: 94.48%\n",
            "Epoch [40/50] | Train Loss: 0.4649 | Train Acc: 100.00% | Val Loss: 0.5786 | Val Acc: 95.03%\n",
            "Epoch [41/50] | Train Loss: 0.4674 | Train Acc: 99.72% | Val Loss: 0.5814 | Val Acc: 95.03%\n",
            "Epoch [42/50] | Train Loss: 0.4685 | Train Acc: 99.86% | Val Loss: 0.6094 | Val Acc: 93.37%\n",
            "Epoch [43/50] | Train Loss: 0.4675 | Train Acc: 99.86% | Val Loss: 0.5714 | Val Acc: 95.03%\n",
            "Epoch [44/50] | Train Loss: 0.4648 | Train Acc: 99.86% | Val Loss: 0.5651 | Val Acc: 95.58%\n",
            "✅ Saved Best Model\n",
            "Epoch [45/50] | Train Loss: 0.4625 | Train Acc: 100.00% | Val Loss: 0.5740 | Val Acc: 95.03%\n",
            "Epoch [46/50] | Train Loss: 0.4642 | Train Acc: 99.86% | Val Loss: 0.5725 | Val Acc: 95.03%\n",
            "Epoch [47/50] | Train Loss: 0.4660 | Train Acc: 99.86% | Val Loss: 0.5587 | Val Acc: 95.58%\n",
            "✅ Saved Best Model\n",
            "Epoch [48/50] | Train Loss: 0.4614 | Train Acc: 100.00% | Val Loss: 0.5735 | Val Acc: 95.58%\n",
            "Epoch [49/50] | Train Loss: 0.4649 | Train Acc: 100.00% | Val Loss: 0.5645 | Val Acc: 95.58%\n",
            "Epoch [50/50] | Train Loss: 0.4646 | Train Acc: 99.86% | Val Loss: 0.5441 | Val Acc: 96.13%\n",
            "✅ Saved Best Model\n",
            "Training Complete!\n"
          ]
        }
      ]
    },
    {
      "cell_type": "code",
      "source": [
        "import matplotlib.pyplot as plt\n",
        "\n",
        "def plot_training(history):\n",
        "    epochs = range(1, len(history['train_loss']) + 1)\n",
        "\n",
        "    plt.figure(figsize=(14, 5))\n",
        "\n",
        "    # Loss Plot\n",
        "    plt.subplot(1, 2, 1)\n",
        "    plt.plot(epochs, history['train_loss'], label='Train Loss')\n",
        "    plt.plot(epochs, history['val_loss'], label='Val Loss')\n",
        "    plt.title('Loss Over Epochs')\n",
        "    plt.xlabel('Epoch')\n",
        "    plt.ylabel('Loss')\n",
        "    plt.legend()\n",
        "\n",
        "    # Accuracy Plot\n",
        "    plt.subplot(1, 2, 2)\n",
        "    plt.plot(epochs, history['train_acc'], label='Train Accuracy')\n",
        "    plt.plot(epochs, history['val_acc'], label='Val Accuracy')\n",
        "    plt.title('Accuracy Over Epochs')\n",
        "    plt.xlabel('Epoch')\n",
        "    plt.ylabel('Accuracy (%)')\n",
        "    plt.legend()\n",
        "\n",
        "    plt.tight_layout()\n",
        "    plt.show()\n"
      ],
      "metadata": {
        "id": "V-4V1uBQx97j"
      },
      "execution_count": 80,
      "outputs": []
    },
    {
      "cell_type": "code",
      "source": [
        "plot_training(history)"
      ],
      "metadata": {
        "id": "qNXw-Jf7uM-n",
        "colab": {
          "base_uri": "https://localhost:8080/",
          "height": 269
        },
        "outputId": "21639bcd-c00d-4c13-aed9-f33e1e774acf"
      },
      "execution_count": 81,
      "outputs": [
        {
          "output_type": "display_data",
          "data": {
            "text/plain": [
              "<Figure size 1400x500 with 2 Axes>"
            ],
            "image/png": "[encoded data removed]"
          },
          "metadata": {}
        }
      ]
    },
    {
      "cell_type": "code",
      "source": [
        "from sklearn.metrics import classification_report, confusion_matrix, ConfusionMatrixDisplay\n",
        "import seaborn as sns\n",
        "\n",
        "def evaluate_on_test(model, test_loader, device, class_names=None):\n",
        "    model.eval()\n",
        "    all_preds, all_labels = [], []\n",
        "\n",
        "    with torch.no_grad():\n",
        "        for images, labels in test_loader:\n",
        "            images, labels = images.to(device), labels.to(device)\n",
        "            outputs = model(images)\n",
        "            _, preds = torch.max(outputs, 1)\n",
        "            all_preds.extend(preds.cpu().numpy())\n",
        "            all_labels.extend(labels.cpu().numpy())\n",
        "\n",
        "    # Define all possible labels (0 to 6 for FER2013)\n",
        "    all_possible_labels = list(range(len(class_names))) if class_names else sorted(list(set(all_labels + all_preds)))\n",
        "\n",
        "    print(\"\\n📊 Classification Report:\")\n",
        "    print(classification_report(all_labels, all_preds, target_names=class_names, labels=all_possible_labels, zero_division=0)) # Added labels and zero_division\n",
        "\n",
        "    # Plot Confusion Matrix\n",
        "    cm = confusion_matrix(all_labels, all_preds, labels=all_possible_labels) # Added labels\n",
        "    plt.figure(figsize=(8, 6))\n",
        "    sns.heatmap(cm, annot=True, fmt='d', cmap=\"Blues\",\n",
        "                xticklabels=class_names, yticklabels=class_names)\n",
        "    plt.xlabel('Predicted')\n",
        "    plt.ylabel('True')\n",
        "    plt.title('Confusion Matrix')\n",
        "    plt.show()"
      ],
      "metadata": {
        "id": "R2MYOFYlzyW7"
      },
      "execution_count": 82,
      "outputs": []
    },
    {
      "cell_type": "code",
      "source": [
        "class_names = ['Angry', 'Disgust', 'Fear','Happy', 'Sad', 'Surprise', 'Neutral']\n",
        "model.load_state_dict(torch.load(\"best_model.pth\"))\n",
        "evaluate_on_test(model, val_loader, device, class_names)\n"
      ],
      "metadata": {
        "id": "XaETHPknz3Dz",
        "colab": {
          "base_uri": "https://localhost:8080/",
          "height": 842
        },
        "outputId": "9557ac36-1856-4c01-ef28-9344b0b54a86"
      },
      "execution_count": 83,
      "outputs": [
        {
          "output_type": "stream",
          "name": "stdout",
          "text": [
            "\n",
            "📊 Classification Report:\n",
            "              precision    recall  f1-score   support\n",
            "\n",
            "       Angry       0.86      0.67      0.75         9\n",
            "     Disgust       0.92      1.00      0.96        12\n",
            "        Fear       1.00      0.80      0.89         5\n",
            "       Happy       0.93      1.00      0.97        14\n",
            "         Sad       0.67      0.40      0.50         5\n",
            "    Surprise       1.00      1.00      1.00        17\n",
            "     Neutral       0.98      1.00      0.99       119\n",
            "\n",
            "    accuracy                           0.96       181\n",
            "   macro avg       0.91      0.84      0.86       181\n",
            "weighted avg       0.96      0.96      0.96       181\n",
            "\n"
          ]
        },
        {
          "output_type": "display_data",
          "data": {
            "text/plain": [
              "<Figure size 800x600 with 2 Axes>"
            ],
            "image/png": "[encoded data removed]"
          },
          "metadata": {}
        }
      ]
    }
  ]
}