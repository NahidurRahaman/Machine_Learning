{
 "cells": [
  {
   "cell_type": "code",
   "id": "initial_id",
   "metadata": {
    "collapsed": true,
    "ExecuteTime": {
     "end_time": "2025-07-13T15:59:49.252924Z",
     "start_time": "2025-07-13T15:59:49.233971Z"
    }
   },
   "source": [
    "\"\"\" Deep Learning | Perceptron\n",
    "\n",
    "Objectives:\n",
    "\n",
    "1. Understand the structure and functionality of the perceptron\n",
    "2. Implement a perceptron\n",
    "3. Train a model for binary classification\n",
    "\"\"\"\n",
    "\n",
    "import torch\n",
    "import torch.nn as nn\n",
    "import numpy as np"
   ],
   "outputs": [],
   "execution_count": 2
  },
  {
   "metadata": {
    "ExecuteTime": {
     "end_time": "2025-07-13T16:00:27.327746Z",
     "start_time": "2025-07-13T16:00:27.314703Z"
    }
   },
   "cell_type": "code",
   "source": [
    "X = np.array([\n",
    "    [0.0, 0.0], \n",
    "    [0.0, 1.0], \n",
    "    [1.0, 0.0], \n",
    "    [1.0, 1.0]\n",
    "])"
   ],
   "id": "fc083cffc2f9d6e8",
   "outputs": [],
   "execution_count": 3
  },
  {
   "metadata": {
    "ExecuteTime": {
     "end_time": "2025-07-13T16:01:17.990426Z",
     "start_time": "2025-07-13T16:01:17.982538Z"
    }
   },
   "cell_type": "code",
   "source": [
    "X = torch.Tensor(X)\n",
    "print(type(X))"
   ],
   "id": "d194ce8c67e6af0f",
   "outputs": [
    {
     "name": "stdout",
     "output_type": "stream",
     "text": [
      "<class 'torch.Tensor'>\n"
     ]
    }
   ],
   "execution_count": 6
  },
  {
   "metadata": {
    "ExecuteTime": {
     "end_time": "2025-07-13T16:22:36.248036Z",
     "start_time": "2025-07-13T16:22:36.233435Z"
    }
   },
   "cell_type": "code",
   "source": [
    "X = torch.Tensor(\n",
    "    [\n",
    "        [0.0, 0.0, 0.0], \n",
    "        [0.0, 1.0, 0.0], \n",
    "        [1.0, 0.0, 0.0], \n",
    "        [1.0, 1.0, 1.0]\n",
    "    ]\n",
    ")\n",
    "\n",
    "Y = torch.Tensor(\n",
    "    [\n",
    "        [0.0], \n",
    "        [0.0], \n",
    "        [0.0], \n",
    "        [1.0]\n",
    "    ]\n",
    ")"
   ],
   "id": "b2c2d1aeb42230e7",
   "outputs": [],
   "execution_count": 22
  },
  {
   "metadata": {
    "ExecuteTime": {
     "end_time": "2025-07-13T16:03:11.487743Z",
     "start_time": "2025-07-13T16:03:11.464061Z"
    }
   },
   "cell_type": "code",
   "source": [
    "print(np.random.rand(5))\n",
    "print(torch.rand(5))"
   ],
   "id": "294d6c154457ed0",
   "outputs": [
    {
     "name": "stdout",
     "output_type": "stream",
     "text": [
      "[0.33225416 0.59562392 0.21921744 0.27528145 0.97477743]\n",
      "tensor([0.1902, 0.9075, 0.1429, 0.5963, 0.8635])\n"
     ]
    }
   ],
   "execution_count": 9
  },
  {
   "metadata": {
    "ExecuteTime": {
     "end_time": "2025-07-13T16:04:27.529996Z",
     "start_time": "2025-07-13T16:04:27.509430Z"
    }
   },
   "cell_type": "code",
   "source": [
    "t = torch.rand(5)\n",
    "t = t.sum(axis=0)\n",
    "print(t)"
   ],
   "id": "1de13bbdf2583976",
   "outputs": [
    {
     "name": "stdout",
     "output_type": "stream",
     "text": [
      "tensor(2.7107)\n"
     ]
    }
   ],
   "execution_count": 12
  },
  {
   "metadata": {
    "ExecuteTime": {
     "end_time": "2025-07-13T16:14:34.708356Z",
     "start_time": "2025-07-13T16:14:34.699618Z"
    }
   },
   "cell_type": "code",
   "source": [
    "\"\"\"\n",
    "X = [x1, x2, x3]\n",
    "W = [w1, w2, w3]\n",
    "b\n",
    "\"\"\"\n",
    "\n",
    "class Perceptron(nn.Module):\n",
    "    def __init__(self, input_size):\n",
    "        super(Perceptron, self).__init__()\n",
    "        \n",
    "        self.input_size = input_size\n",
    "        self.weight = nn.Parameter(\n",
    "            torch.randn(input_size)\n",
    "        )\n",
    "        self.bias = nn.Parameter(\n",
    "            torch.zeros(1)\n",
    "        )\n",
    "        \n",
    "    def forward(self, x):\n",
    "        z = x @ self.weight + self.bias\n",
    "        y_pred = torch.sigmoid(z)\n",
    "        return y_pred"
   ],
   "id": "543a32d9afd96fb6",
   "outputs": [],
   "execution_count": 14
  },
  {
   "metadata": {
    "ExecuteTime": {
     "end_time": "2025-07-13T16:14:36.822018Z",
     "start_time": "2025-07-13T16:14:36.809322Z"
    }
   },
   "cell_type": "code",
   "source": "model = Perceptron(input_size=3)",
   "id": "fed5943ede6f265b",
   "outputs": [],
   "execution_count": 15
  },
  {
   "metadata": {
    "ExecuteTime": {
     "end_time": "2025-07-13T16:16:19.721721Z",
     "start_time": "2025-07-13T16:16:19.684075Z"
    }
   },
   "cell_type": "code",
   "source": [
    "torch.manual_seed(42)\n",
    "\n",
    "x = torch.randn(3)\n",
    "print(x)\n",
    "\n",
    "y_pred = model(x)\n",
    "print(y_pred)"
   ],
   "id": "899c20bd93bd84db",
   "outputs": [
    {
     "name": "stdout",
     "output_type": "stream",
     "text": [
      "tensor([0.3367, 0.1288, 0.2345])\n",
      "tensor([0.4479], grad_fn=<SigmoidBackward0>)\n"
     ]
    }
   ],
   "execution_count": 18
  },
  {
   "metadata": {
    "ExecuteTime": {
     "end_time": "2025-07-13T16:16:58.993544Z",
     "start_time": "2025-07-13T16:16:58.973891Z"
    }
   },
   "cell_type": "code",
   "source": "print(*model.parameters())",
   "id": "490bd599152ad84e",
   "outputs": [
    {
     "name": "stdout",
     "output_type": "stream",
     "text": [
      "Parameter containing:\n",
      "tensor([ 0.0512, -1.1093, -0.3557], requires_grad=True) Parameter containing:\n",
      "tensor([0.], requires_grad=True)\n"
     ]
    }
   ],
   "execution_count": 19
  },
  {
   "metadata": {
    "ExecuteTime": {
     "end_time": "2025-07-13T16:21:39.563221Z",
     "start_time": "2025-07-13T16:21:35.086188Z"
    }
   },
   "cell_type": "code",
   "source": [
    "\"\"\" Cost function \"\"\"\n",
    "\n",
    "criterion = nn.BCELoss()\n",
    "\n",
    "\"\"\" Optimizers \"\"\"\n",
    "optimizer = torch.optim.Adam(\n",
    "    model.parameters(),\n",
    "    lr=0.0001\n",
    ")"
   ],
   "id": "2175b46d4ea39016",
   "outputs": [],
   "execution_count": 20
  },
  {
   "metadata": {
    "ExecuteTime": {
     "end_time": "2025-07-13T16:26:17.398975Z",
     "start_time": "2025-07-13T16:26:17.378545Z"
    }
   },
   "cell_type": "code",
   "source": [
    "y_pred = model(X)\n",
    "y_pred = y_pred.unsqueeze(axis=1)\n",
    "print(y_pred.shape)"
   ],
   "id": "d258b5433f5fea25",
   "outputs": [
    {
     "name": "stdout",
     "output_type": "stream",
     "text": [
      "torch.Size([4, 1])\n"
     ]
    }
   ],
   "execution_count": 36
  },
  {
   "metadata": {
    "ExecuteTime": {
     "end_time": "2025-07-13T16:24:34.463797Z",
     "start_time": "2025-07-13T16:24:34.458583Z"
    }
   },
   "cell_type": "code",
   "source": "",
   "id": "eb6aa61840d40c11",
   "outputs": [
    {
     "name": "stdout",
     "output_type": "stream",
     "text": [
      "torch.Size([4, 1])\n"
     ]
    }
   ],
   "execution_count": 34
  },
  {
   "metadata": {
    "ExecuteTime": {
     "end_time": "2025-07-13T16:30:12.601643Z",
     "start_time": "2025-07-13T16:30:12.577661Z"
    }
   },
   "cell_type": "code",
   "source": [
    "def train_model(model, epochs):\n",
    "    for epoch in range(epochs):\n",
    "        \"\"\" Prediction (Forward Propagation) \"\"\"\n",
    "        y_pred = model(X)\n",
    "        \n",
    "        \"\"\" Loss calculation \"\"\"\n",
    "        loss = criterion(y_pred.unsqueeze(axis=1), Y)\n",
    "\n",
    "        \"\"\" Calculate gradient \"\"\"\n",
    "        optimizer.zero_grad()\n",
    "        loss.backward() # (Backward propagation)\n",
    "\n",
    "        \"\"\" Update weight \"\"\"\n",
    "        optimizer.step() # w1 = w1 - lr * dw1\n",
    "        \n",
    "        if epoch % 1000 == 0:\n",
    "            print(f'Epoch: {epoch}, Loss: {loss.item():.4f}')"
   ],
   "id": "55b49683d5cdbefb",
   "outputs": [],
   "execution_count": 37
  },
  {
   "metadata": {
    "ExecuteTime": {
     "end_time": "2025-07-13T16:31:45.681597Z",
     "start_time": "2025-07-13T16:30:30.144068Z"
    }
   },
   "cell_type": "code",
   "source": "train_model(model, epochs=100000)",
   "id": "22ba11961094b594",
   "outputs": [
    {
     "name": "stdout",
     "output_type": "stream",
     "text": [
      "Epoch: 0, Loss: 0.4421\n",
      "Epoch: 1000, Loss: 0.4153\n",
      "Epoch: 2000, Loss: 0.3900\n",
      "Epoch: 3000, Loss: 0.3662\n",
      "Epoch: 4000, Loss: 0.3439\n",
      "Epoch: 5000, Loss: 0.3229\n",
      "Epoch: 6000, Loss: 0.3032\n",
      "Epoch: 7000, Loss: 0.2848\n",
      "Epoch: 8000, Loss: 0.2675\n",
      "Epoch: 9000, Loss: 0.2514\n",
      "Epoch: 10000, Loss: 0.2363\n",
      "Epoch: 11000, Loss: 0.2222\n",
      "Epoch: 12000, Loss: 0.2090\n",
      "Epoch: 13000, Loss: 0.1966\n",
      "Epoch: 14000, Loss: 0.1849\n",
      "Epoch: 15000, Loss: 0.1740\n",
      "Epoch: 16000, Loss: 0.1637\n",
      "Epoch: 17000, Loss: 0.1540\n",
      "Epoch: 18000, Loss: 0.1448\n",
      "Epoch: 19000, Loss: 0.1362\n",
      "Epoch: 20000, Loss: 0.1281\n",
      "Epoch: 21000, Loss: 0.1204\n",
      "Epoch: 22000, Loss: 0.1132\n",
      "Epoch: 23000, Loss: 0.1065\n",
      "Epoch: 24000, Loss: 0.1001\n",
      "Epoch: 25000, Loss: 0.0940\n",
      "Epoch: 26000, Loss: 0.0884\n",
      "Epoch: 27000, Loss: 0.0831\n",
      "Epoch: 28000, Loss: 0.0780\n",
      "Epoch: 29000, Loss: 0.0733\n",
      "Epoch: 30000, Loss: 0.0689\n",
      "Epoch: 31000, Loss: 0.0647\n",
      "Epoch: 32000, Loss: 0.0608\n",
      "Epoch: 33000, Loss: 0.0571\n",
      "Epoch: 34000, Loss: 0.0536\n",
      "Epoch: 35000, Loss: 0.0504\n",
      "Epoch: 36000, Loss: 0.0473\n",
      "Epoch: 37000, Loss: 0.0444\n",
      "Epoch: 38000, Loss: 0.0417\n",
      "Epoch: 39000, Loss: 0.0392\n",
      "Epoch: 40000, Loss: 0.0368\n",
      "Epoch: 41000, Loss: 0.0346\n",
      "Epoch: 42000, Loss: 0.0325\n",
      "Epoch: 43000, Loss: 0.0305\n",
      "Epoch: 44000, Loss: 0.0286\n",
      "Epoch: 45000, Loss: 0.0269\n",
      "Epoch: 46000, Loss: 0.0252\n",
      "Epoch: 47000, Loss: 0.0237\n",
      "Epoch: 48000, Loss: 0.0222\n",
      "Epoch: 49000, Loss: 0.0209\n",
      "Epoch: 50000, Loss: 0.0196\n",
      "Epoch: 51000, Loss: 0.0184\n",
      "Epoch: 52000, Loss: 0.0173\n",
      "Epoch: 53000, Loss: 0.0162\n",
      "Epoch: 54000, Loss: 0.0152\n",
      "Epoch: 55000, Loss: 0.0143\n",
      "Epoch: 56000, Loss: 0.0134\n",
      "Epoch: 57000, Loss: 0.0126\n",
      "Epoch: 58000, Loss: 0.0118\n",
      "Epoch: 59000, Loss: 0.0111\n",
      "Epoch: 60000, Loss: 0.0104\n",
      "Epoch: 61000, Loss: 0.0098\n",
      "Epoch: 62000, Loss: 0.0092\n",
      "Epoch: 63000, Loss: 0.0086\n",
      "Epoch: 64000, Loss: 0.0081\n",
      "Epoch: 65000, Loss: 0.0076\n",
      "Epoch: 66000, Loss: 0.0072\n",
      "Epoch: 67000, Loss: 0.0067\n",
      "Epoch: 68000, Loss: 0.0063\n",
      "Epoch: 69000, Loss: 0.0059\n",
      "Epoch: 70000, Loss: 0.0056\n",
      "Epoch: 71000, Loss: 0.0052\n",
      "Epoch: 72000, Loss: 0.0049\n",
      "Epoch: 73000, Loss: 0.0046\n",
      "Epoch: 74000, Loss: 0.0043\n",
      "Epoch: 75000, Loss: 0.0041\n",
      "Epoch: 76000, Loss: 0.0038\n",
      "Epoch: 77000, Loss: 0.0036\n",
      "Epoch: 78000, Loss: 0.0034\n",
      "Epoch: 79000, Loss: 0.0032\n",
      "Epoch: 80000, Loss: 0.0030\n",
      "Epoch: 81000, Loss: 0.0028\n",
      "Epoch: 82000, Loss: 0.0026\n",
      "Epoch: 83000, Loss: 0.0025\n",
      "Epoch: 84000, Loss: 0.0023\n",
      "Epoch: 85000, Loss: 0.0022\n",
      "Epoch: 86000, Loss: 0.0020\n",
      "Epoch: 87000, Loss: 0.0019\n",
      "Epoch: 88000, Loss: 0.0018\n",
      "Epoch: 89000, Loss: 0.0017\n",
      "Epoch: 90000, Loss: 0.0016\n",
      "Epoch: 91000, Loss: 0.0015\n",
      "Epoch: 92000, Loss: 0.0014\n",
      "Epoch: 93000, Loss: 0.0013\n",
      "Epoch: 94000, Loss: 0.0012\n",
      "Epoch: 95000, Loss: 0.0012\n",
      "Epoch: 96000, Loss: 0.0011\n",
      "Epoch: 97000, Loss: 0.0010\n",
      "Epoch: 98000, Loss: 0.0010\n",
      "Epoch: 99000, Loss: 0.0009\n"
     ]
    }
   ],
   "execution_count": 39
  },
  {
   "metadata": {
    "ExecuteTime": {
     "end_time": "2025-07-13T16:32:09.558215Z",
     "start_time": "2025-07-13T16:32:09.546577Z"
    }
   },
   "cell_type": "code",
   "source": [
    "def predict(model, X):\n",
    "    \"\"\" Model evaludation mode \"\"\"\n",
    "    model.eval()\n",
    "    with torch.no_grad():\n",
    "        test_output = model(X)\n",
    "    return test_output\n",
    "\n",
    "predict(model, X)"
   ],
   "id": "6c3ca93657d8f622",
   "outputs": [
    {
     "data": {
      "text/plain": [
       "tensor([3.0572e-05, 1.1229e-03, 1.1229e-03, 9.9888e-01])"
      ]
     },
     "execution_count": 40,
     "metadata": {},
     "output_type": "execute_result"
    }
   ],
   "execution_count": 40
  },
  {
   "metadata": {
    "ExecuteTime": {
     "end_time": "2025-07-13T16:34:25.431576Z",
     "start_time": "2025-07-13T16:34:25.411660Z"
    }
   },
   "cell_type": "code",
   "source": "model.state_dict()['bias']",
   "id": "6485d5348ea775d8",
   "outputs": [
    {
     "data": {
      "text/plain": [
       "tensor([-10.3954])"
      ]
     },
     "execution_count": 44,
     "metadata": {},
     "output_type": "execute_result"
    }
   ],
   "execution_count": 44
  },
  {
   "metadata": {
    "ExecuteTime": {
     "end_time": "2025-07-13T16:34:56.861685Z",
     "start_time": "2025-07-13T16:34:56.843567Z"
    }
   },
   "cell_type": "code",
   "source": [
    "\"\"\"save a model\"\"\"\n",
    "\n",
    "torch.save(model.state_dict(), 'my_model.pt')"
   ],
   "id": "a48ca47969aee1e7",
   "outputs": [],
   "execution_count": 45
  },
  {
   "metadata": {
    "ExecuteTime": {
     "end_time": "2025-07-13T16:35:54.743996Z",
     "start_time": "2025-07-13T16:35:54.725777Z"
    }
   },
   "cell_type": "code",
   "source": [
    "\"\"\" Load the model \n",
    "1. For prediction\n",
    "2. For resuming training.\n",
    "\"\"\"\n",
    "\n",
    "loaded_model = Perceptron(input_size=3)\n",
    "\n",
    "loaded_model.load_state_dict(torch.load('my_model.pt'))"
   ],
   "id": "1d83d6ba766ef582",
   "outputs": [
    {
     "data": {
      "text/plain": [
       "<All keys matched successfully>"
      ]
     },
     "execution_count": 47,
     "metadata": {},
     "output_type": "execute_result"
    }
   ],
   "execution_count": 47
  },
  {
   "metadata": {
    "ExecuteTime": {
     "end_time": "2025-07-13T16:36:15.743760Z",
     "start_time": "2025-07-13T16:36:15.730718Z"
    }
   },
   "cell_type": "code",
   "source": "loaded_model(X)",
   "id": "90641c9da29e322b",
   "outputs": [
    {
     "data": {
      "text/plain": [
       "tensor([3.0572e-05, 1.1229e-03, 1.1229e-03, 9.9888e-01],\n",
       "       grad_fn=<SigmoidBackward0>)"
      ]
     },
     "execution_count": 48,
     "metadata": {},
     "output_type": "execute_result"
    }
   ],
   "execution_count": 48
  }
 ],
 "metadata": {
  "kernelspec": {
   "display_name": "Python 3",
   "language": "python",
   "name": "python3"
  },
  "language_info": {
   "codemirror_mode": {
    "name": "ipython",
    "version": 2
   },
   "file_extension": ".py",
   "mimetype": "text/x-python",
   "name": "python",
   "nbconvert_exporter": "python",
   "pygments_lexer": "ipython2",
   "version": "2.7.6"
  }
 },
 "nbformat": 4,
 "nbformat_minor": 5
}
