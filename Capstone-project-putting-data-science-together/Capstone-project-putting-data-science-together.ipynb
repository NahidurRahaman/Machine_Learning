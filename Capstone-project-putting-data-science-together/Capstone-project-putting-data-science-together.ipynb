{
 "cells": [
  {
   "metadata": {
    "ExecuteTime": {
     "end_time": "2025-08-04T08:37:30.271482Z",
     "start_time": "2025-08-04T08:37:26.288865Z"
    }
   },
   "cell_type": "code",
   "source": [
    "import pandas as pd\n",
    "from datetime import timedelta"
   ],
   "id": "45496b554e441a90",
   "outputs": [],
   "execution_count": 1
  },
  {
   "metadata": {
    "ExecuteTime": {
     "end_time": "2025-08-04T08:37:30.399296Z",
     "start_time": "2025-08-04T08:37:30.292923Z"
    }
   },
   "cell_type": "code",
   "source": [
    "products_df = pd.read_csv('./Data/products.csv')\n",
    "products_df.head()"
   ],
   "id": "2769b0cd9223afe4",
   "outputs": [
    {
     "data": {
      "text/plain": [
       "   product_id  product_name   category  cost_price  selling_price  \\\n",
       "0        1001  Organic Rice  Groceries     1551.26        2296.31   \n",
       "1        1002     Olive Oil  Groceries     2516.38        3370.60   \n",
       "2        1003  Canned Beans  Groceries      961.25        1117.36   \n",
       "3        1004         Pasta  Groceries      696.83        1007.94   \n",
       "4        1005  Coffee Beans  Groceries     2163.01        2991.94   \n",
       "\n",
       "   reorder_level  \n",
       "0             43  \n",
       "1             39  \n",
       "2             30  \n",
       "3             36  \n",
       "4             27  "
      ],
      "text/html": [
       "<div>\n",
       "<style scoped>\n",
       "    .dataframe tbody tr th:only-of-type {\n",
       "        vertical-align: middle;\n",
       "    }\n",
       "\n",
       "    .dataframe tbody tr th {\n",
       "        vertical-align: top;\n",
       "    }\n",
       "\n",
       "    .dataframe thead th {\n",
       "        text-align: right;\n",
       "    }\n",
       "</style>\n",
       "<table border=\"1\" class=\"dataframe\">\n",
       "  <thead>\n",
       "    <tr style=\"text-align: right;\">\n",
       "      <th></th>\n",
       "      <th>product_id</th>\n",
       "      <th>product_name</th>\n",
       "      <th>category</th>\n",
       "      <th>cost_price</th>\n",
       "      <th>selling_price</th>\n",
       "      <th>reorder_level</th>\n",
       "    </tr>\n",
       "  </thead>\n",
       "  <tbody>\n",
       "    <tr>\n",
       "      <th>0</th>\n",
       "      <td>1001</td>\n",
       "      <td>Organic Rice</td>\n",
       "      <td>Groceries</td>\n",
       "      <td>1551.26</td>\n",
       "      <td>2296.31</td>\n",
       "      <td>43</td>\n",
       "    </tr>\n",
       "    <tr>\n",
       "      <th>1</th>\n",
       "      <td>1002</td>\n",
       "      <td>Olive Oil</td>\n",
       "      <td>Groceries</td>\n",
       "      <td>2516.38</td>\n",
       "      <td>3370.60</td>\n",
       "      <td>39</td>\n",
       "    </tr>\n",
       "    <tr>\n",
       "      <th>2</th>\n",
       "      <td>1003</td>\n",
       "      <td>Canned Beans</td>\n",
       "      <td>Groceries</td>\n",
       "      <td>961.25</td>\n",
       "      <td>1117.36</td>\n",
       "      <td>30</td>\n",
       "    </tr>\n",
       "    <tr>\n",
       "      <th>3</th>\n",
       "      <td>1004</td>\n",
       "      <td>Pasta</td>\n",
       "      <td>Groceries</td>\n",
       "      <td>696.83</td>\n",
       "      <td>1007.94</td>\n",
       "      <td>36</td>\n",
       "    </tr>\n",
       "    <tr>\n",
       "      <th>4</th>\n",
       "      <td>1005</td>\n",
       "      <td>Coffee Beans</td>\n",
       "      <td>Groceries</td>\n",
       "      <td>2163.01</td>\n",
       "      <td>2991.94</td>\n",
       "      <td>27</td>\n",
       "    </tr>\n",
       "  </tbody>\n",
       "</table>\n",
       "</div>"
      ]
     },
     "execution_count": 2,
     "metadata": {},
     "output_type": "execute_result"
    }
   ],
   "execution_count": 2
  },
  {
   "metadata": {
    "ExecuteTime": {
     "end_time": "2025-07-12T14:33:24.994981Z",
     "start_time": "2025-07-12T14:33:24.956660Z"
    }
   },
   "cell_type": "code",
   "source": [
    "sales_df = pd.read_csv('./Data/sales.csv')\n",
    "sales_df['sale_date'] = pd.to_datetime(sales_df['sale_date']).dt.date\n",
    "sales_df.head()"
   ],
   "id": "d0e1daed1180e154",
   "outputs": [
    {
     "data": {
      "text/plain": [
       "   product_id  quantity_sold   sale_date    location   discount\n",
       "0        1013              4  2024-09-02    Rajshahi  52.178882\n",
       "1        1064              9  2024-02-25      Sylhet  52.059982\n",
       "2        1011              2  2024-02-07       Dhaka   7.370982\n",
       "3        1019              2  2024-09-01      Sylhet  51.219448\n",
       "4        1011              9  2024-01-21  Chittagong  82.274403"
      ],
      "text/html": [
       "<div>\n",
       "<style scoped>\n",
       "    .dataframe tbody tr th:only-of-type {\n",
       "        vertical-align: middle;\n",
       "    }\n",
       "\n",
       "    .dataframe tbody tr th {\n",
       "        vertical-align: top;\n",
       "    }\n",
       "\n",
       "    .dataframe thead th {\n",
       "        text-align: right;\n",
       "    }\n",
       "</style>\n",
       "<table border=\"1\" class=\"dataframe\">\n",
       "  <thead>\n",
       "    <tr style=\"text-align: right;\">\n",
       "      <th></th>\n",
       "      <th>product_id</th>\n",
       "      <th>quantity_sold</th>\n",
       "      <th>sale_date</th>\n",
       "      <th>location</th>\n",
       "      <th>discount</th>\n",
       "    </tr>\n",
       "  </thead>\n",
       "  <tbody>\n",
       "    <tr>\n",
       "      <th>0</th>\n",
       "      <td>1013</td>\n",
       "      <td>4</td>\n",
       "      <td>2024-09-02</td>\n",
       "      <td>Rajshahi</td>\n",
       "      <td>52.178882</td>\n",
       "    </tr>\n",
       "    <tr>\n",
       "      <th>1</th>\n",
       "      <td>1064</td>\n",
       "      <td>9</td>\n",
       "      <td>2024-02-25</td>\n",
       "      <td>Sylhet</td>\n",
       "      <td>52.059982</td>\n",
       "    </tr>\n",
       "    <tr>\n",
       "      <th>2</th>\n",
       "      <td>1011</td>\n",
       "      <td>2</td>\n",
       "      <td>2024-02-07</td>\n",
       "      <td>Dhaka</td>\n",
       "      <td>7.370982</td>\n",
       "    </tr>\n",
       "    <tr>\n",
       "      <th>3</th>\n",
       "      <td>1019</td>\n",
       "      <td>2</td>\n",
       "      <td>2024-09-01</td>\n",
       "      <td>Sylhet</td>\n",
       "      <td>51.219448</td>\n",
       "    </tr>\n",
       "    <tr>\n",
       "      <th>4</th>\n",
       "      <td>1011</td>\n",
       "      <td>9</td>\n",
       "      <td>2024-01-21</td>\n",
       "      <td>Chittagong</td>\n",
       "      <td>82.274403</td>\n",
       "    </tr>\n",
       "  </tbody>\n",
       "</table>\n",
       "</div>"
      ]
     },
     "execution_count": 6,
     "metadata": {},
     "output_type": "execute_result"
    }
   ],
   "execution_count": 6
  },
  {
   "metadata": {
    "ExecuteTime": {
     "end_time": "2025-07-12T14:33:53.289696Z",
     "start_time": "2025-07-12T14:33:53.274565Z"
    }
   },
   "cell_type": "code",
   "source": [
    "from datetime import datetime\n",
    "\n",
    "date1 = datetime.strptime('2024-09-01', '%Y-%m-%d').date()\n",
    "date2 = datetime.strptime('2024-09-03', '%Y-%m-%d').date()\n",
    "date = sales_df.iloc[0]['sale_date']\n",
    "\n",
    "date1 <= date <= date2 "
   ],
   "id": "98505636885c9619",
   "outputs": [
    {
     "data": {
      "text/plain": [
       "True"
      ]
     },
     "execution_count": 7,
     "metadata": {},
     "output_type": "execute_result"
    }
   ],
   "execution_count": 7
  },
  {
   "metadata": {
    "ExecuteTime": {
     "end_time": "2025-07-12T14:40:01.812749Z",
     "start_time": "2025-07-12T14:40:01.751728Z"
    }
   },
   "cell_type": "code",
   "source": [
    "purchases_df = pd.read_csv('./Data/purchases.csv')\n",
    "purchases_df['purchase_date'] = pd.to_datetime(purchases_df['purchase_date']).dt.date\n",
    "purchases_df.head()"
   ],
   "id": "ff00ce0d87def067",
   "outputs": [
    {
     "data": {
      "text/plain": [
       "   product_id  quantity_purchased purchase_date\n",
       "0        1095                  94    2024-08-19\n",
       "1        1054                  23    2024-08-16\n",
       "2        1058                  64    2024-12-18\n",
       "3        1067                  57    2024-06-12\n",
       "4        1046                  91    2024-03-13"
      ],
      "text/html": [
       "<div>\n",
       "<style scoped>\n",
       "    .dataframe tbody tr th:only-of-type {\n",
       "        vertical-align: middle;\n",
       "    }\n",
       "\n",
       "    .dataframe tbody tr th {\n",
       "        vertical-align: top;\n",
       "    }\n",
       "\n",
       "    .dataframe thead th {\n",
       "        text-align: right;\n",
       "    }\n",
       "</style>\n",
       "<table border=\"1\" class=\"dataframe\">\n",
       "  <thead>\n",
       "    <tr style=\"text-align: right;\">\n",
       "      <th></th>\n",
       "      <th>product_id</th>\n",
       "      <th>quantity_purchased</th>\n",
       "      <th>purchase_date</th>\n",
       "    </tr>\n",
       "  </thead>\n",
       "  <tbody>\n",
       "    <tr>\n",
       "      <th>0</th>\n",
       "      <td>1095</td>\n",
       "      <td>94</td>\n",
       "      <td>2024-08-19</td>\n",
       "    </tr>\n",
       "    <tr>\n",
       "      <th>1</th>\n",
       "      <td>1054</td>\n",
       "      <td>23</td>\n",
       "      <td>2024-08-16</td>\n",
       "    </tr>\n",
       "    <tr>\n",
       "      <th>2</th>\n",
       "      <td>1058</td>\n",
       "      <td>64</td>\n",
       "      <td>2024-12-18</td>\n",
       "    </tr>\n",
       "    <tr>\n",
       "      <th>3</th>\n",
       "      <td>1067</td>\n",
       "      <td>57</td>\n",
       "      <td>2024-06-12</td>\n",
       "    </tr>\n",
       "    <tr>\n",
       "      <th>4</th>\n",
       "      <td>1046</td>\n",
       "      <td>91</td>\n",
       "      <td>2024-03-13</td>\n",
       "    </tr>\n",
       "  </tbody>\n",
       "</table>\n",
       "</div>"
      ]
     },
     "execution_count": 8,
     "metadata": {},
     "output_type": "execute_result"
    }
   ],
   "execution_count": 8
  },
  {
   "metadata": {},
   "cell_type": "markdown",
   "source": "### 1. Compute current stock",
   "id": "177e63828517567c"
  },
  {
   "metadata": {
    "ExecuteTime": {
     "end_time": "2025-07-12T14:41:49.331080Z",
     "start_time": "2025-07-12T14:41:49.306819Z"
    }
   },
   "cell_type": "code",
   "source": [
    "product_id = 1095\n",
    "quantity_purchased = purchases_df[\n",
    "    purchases_df['product_id'] == product_id]['quantity_purchased'\n",
    "].sum()\n",
    "quantity_sold = sales_df[sales_df['product_id'] == 1095]['quantity_sold'].sum()\n",
    "current_stock = quantity_purchased - quantity_sold\n",
    "print(current_stock)"
   ],
   "id": "87cf19880124cb45",
   "outputs": [
    {
     "name": "stdout",
     "output_type": "stream",
     "text": [
      "476\n"
     ]
    }
   ],
   "execution_count": 9
  },
  {
   "metadata": {
    "ExecuteTime": {
     "end_time": "2025-07-12T14:42:38.118175Z",
     "start_time": "2025-07-12T14:42:38.102033Z"
    }
   },
   "cell_type": "code",
   "source": [
    "def get_current_stock(product_id):\n",
    "    quantity_purchased = purchases_df[purchases_df['product_id'] == product_id]['quantity_purchased'].sum()\n",
    "    quantity_sold = sales_df[sales_df['product_id'] == product_id]['quantity_sold'].sum()\n",
    "    current_stock = quantity_purchased - quantity_sold\n",
    "    return current_stock"
   ],
   "id": "ece4c60534abdf7c",
   "outputs": [],
   "execution_count": 10
  },
  {
   "metadata": {
    "ExecuteTime": {
     "end_time": "2025-07-12T14:42:45.676370Z",
     "start_time": "2025-07-12T14:42:45.665006Z"
    }
   },
   "cell_type": "code",
   "source": "print(get_current_stock(1095))",
   "id": "cee8526f68c19a49",
   "outputs": [
    {
     "name": "stdout",
     "output_type": "stream",
     "text": [
      "476\n"
     ]
    }
   ],
   "execution_count": 11
  },
  {
   "metadata": {
    "ExecuteTime": {
     "end_time": "2025-07-12T14:44:21.208118Z",
     "start_time": "2025-07-12T14:44:20.936053Z"
    }
   },
   "cell_type": "code",
   "source": [
    "products_df['current_stock'] = products_df['product_id'].apply(\n",
    "    lambda product_id: get_current_stock(product_id)\n",
    ")"
   ],
   "id": "122dd996a1d2a0c1",
   "outputs": [],
   "execution_count": 12
  },
  {
   "metadata": {
    "ExecuteTime": {
     "end_time": "2025-07-12T14:51:28.423595Z",
     "start_time": "2025-07-12T14:51:28.362051Z"
    }
   },
   "cell_type": "code",
   "source": "products_df.head()",
   "id": "31f77fc382b121d0",
   "outputs": [
    {
     "data": {
      "text/plain": [
       "   product_id  product_name   category  cost_price  selling_price  \\\n",
       "0        1001  Organic Rice  Groceries     1551.26        2296.31   \n",
       "1        1002     Olive Oil  Groceries     2516.38        3370.60   \n",
       "2        1003  Canned Beans  Groceries      961.25        1117.36   \n",
       "3        1004         Pasta  Groceries      696.83        1007.94   \n",
       "4        1005  Coffee Beans  Groceries     2163.01        2991.94   \n",
       "\n",
       "   reorder_level  current_stock  \n",
       "0             43            658  \n",
       "1             39            301  \n",
       "2             30            120  \n",
       "3             36            204  \n",
       "4             27            575  "
      ],
      "text/html": [
       "<div>\n",
       "<style scoped>\n",
       "    .dataframe tbody tr th:only-of-type {\n",
       "        vertical-align: middle;\n",
       "    }\n",
       "\n",
       "    .dataframe tbody tr th {\n",
       "        vertical-align: top;\n",
       "    }\n",
       "\n",
       "    .dataframe thead th {\n",
       "        text-align: right;\n",
       "    }\n",
       "</style>\n",
       "<table border=\"1\" class=\"dataframe\">\n",
       "  <thead>\n",
       "    <tr style=\"text-align: right;\">\n",
       "      <th></th>\n",
       "      <th>product_id</th>\n",
       "      <th>product_name</th>\n",
       "      <th>category</th>\n",
       "      <th>cost_price</th>\n",
       "      <th>selling_price</th>\n",
       "      <th>reorder_level</th>\n",
       "      <th>current_stock</th>\n",
       "    </tr>\n",
       "  </thead>\n",
       "  <tbody>\n",
       "    <tr>\n",
       "      <th>0</th>\n",
       "      <td>1001</td>\n",
       "      <td>Organic Rice</td>\n",
       "      <td>Groceries</td>\n",
       "      <td>1551.26</td>\n",
       "      <td>2296.31</td>\n",
       "      <td>43</td>\n",
       "      <td>658</td>\n",
       "    </tr>\n",
       "    <tr>\n",
       "      <th>1</th>\n",
       "      <td>1002</td>\n",
       "      <td>Olive Oil</td>\n",
       "      <td>Groceries</td>\n",
       "      <td>2516.38</td>\n",
       "      <td>3370.60</td>\n",
       "      <td>39</td>\n",
       "      <td>301</td>\n",
       "    </tr>\n",
       "    <tr>\n",
       "      <th>2</th>\n",
       "      <td>1003</td>\n",
       "      <td>Canned Beans</td>\n",
       "      <td>Groceries</td>\n",
       "      <td>961.25</td>\n",
       "      <td>1117.36</td>\n",
       "      <td>30</td>\n",
       "      <td>120</td>\n",
       "    </tr>\n",
       "    <tr>\n",
       "      <th>3</th>\n",
       "      <td>1004</td>\n",
       "      <td>Pasta</td>\n",
       "      <td>Groceries</td>\n",
       "      <td>696.83</td>\n",
       "      <td>1007.94</td>\n",
       "      <td>36</td>\n",
       "      <td>204</td>\n",
       "    </tr>\n",
       "    <tr>\n",
       "      <th>4</th>\n",
       "      <td>1005</td>\n",
       "      <td>Coffee Beans</td>\n",
       "      <td>Groceries</td>\n",
       "      <td>2163.01</td>\n",
       "      <td>2991.94</td>\n",
       "      <td>27</td>\n",
       "      <td>575</td>\n",
       "    </tr>\n",
       "  </tbody>\n",
       "</table>\n",
       "</div>"
      ]
     },
     "execution_count": 13,
     "metadata": {},
     "output_type": "execute_result"
    }
   ],
   "execution_count": 13
  },
  {
   "metadata": {},
   "cell_type": "markdown",
   "source": "### 2. Compute profit per product",
   "id": "38908f5c912335e2"
  },
  {
   "metadata": {
    "ExecuteTime": {
     "end_time": "2025-07-12T15:15:54.107194Z",
     "start_time": "2025-07-12T15:15:53.907404Z"
    }
   },
   "cell_type": "code",
   "source": [
    "def get_profit(product_id):\n",
    "    quantity_sold = sales_df[sales_df['product_id'] == product_id]['quantity_sold'].sum()\n",
    "    product = products_df[products_df['product_id'] == product_id]\n",
    "    profit_per_sale = product['selling_price'] - product['cost_price']\n",
    "    profit_per_sale = profit_per_sale.iloc[0]\n",
    "    total_profit = profit_per_sale * quantity_sold\n",
    "    return total_profit\n",
    "\n",
    "products_df['profit'] = products_df['product_id'].apply(\n",
    "    lambda product_id: get_profit(product_id)\n",
    ")\n",
    "\n",
    "products_df.head()"
   ],
   "id": "1e8fc749c781fd4f",
   "outputs": [
    {
     "data": {
      "text/plain": [
       "   product_id  product_name   category  cost_price  selling_price  \\\n",
       "0        1001  Organic Rice  Groceries     1551.26        2296.31   \n",
       "1        1002     Olive Oil  Groceries     2516.38        3370.60   \n",
       "2        1003  Canned Beans  Groceries      961.25        1117.36   \n",
       "3        1004         Pasta  Groceries      696.83        1007.94   \n",
       "4        1005  Coffee Beans  Groceries     2163.01        2991.94   \n",
       "\n",
       "   reorder_level  current_stock     profit  \n",
       "0             43            658  158695.65  \n",
       "1             39            301  146071.62  \n",
       "2             30            120   33407.54  \n",
       "3             36            204  101732.97  \n",
       "4             27            575  134286.66  "
      ],
      "text/html": [
       "<div>\n",
       "<style scoped>\n",
       "    .dataframe tbody tr th:only-of-type {\n",
       "        vertical-align: middle;\n",
       "    }\n",
       "\n",
       "    .dataframe tbody tr th {\n",
       "        vertical-align: top;\n",
       "    }\n",
       "\n",
       "    .dataframe thead th {\n",
       "        text-align: right;\n",
       "    }\n",
       "</style>\n",
       "<table border=\"1\" class=\"dataframe\">\n",
       "  <thead>\n",
       "    <tr style=\"text-align: right;\">\n",
       "      <th></th>\n",
       "      <th>product_id</th>\n",
       "      <th>product_name</th>\n",
       "      <th>category</th>\n",
       "      <th>cost_price</th>\n",
       "      <th>selling_price</th>\n",
       "      <th>reorder_level</th>\n",
       "      <th>current_stock</th>\n",
       "      <th>profit</th>\n",
       "    </tr>\n",
       "  </thead>\n",
       "  <tbody>\n",
       "    <tr>\n",
       "      <th>0</th>\n",
       "      <td>1001</td>\n",
       "      <td>Organic Rice</td>\n",
       "      <td>Groceries</td>\n",
       "      <td>1551.26</td>\n",
       "      <td>2296.31</td>\n",
       "      <td>43</td>\n",
       "      <td>658</td>\n",
       "      <td>158695.65</td>\n",
       "    </tr>\n",
       "    <tr>\n",
       "      <th>1</th>\n",
       "      <td>1002</td>\n",
       "      <td>Olive Oil</td>\n",
       "      <td>Groceries</td>\n",
       "      <td>2516.38</td>\n",
       "      <td>3370.60</td>\n",
       "      <td>39</td>\n",
       "      <td>301</td>\n",
       "      <td>146071.62</td>\n",
       "    </tr>\n",
       "    <tr>\n",
       "      <th>2</th>\n",
       "      <td>1003</td>\n",
       "      <td>Canned Beans</td>\n",
       "      <td>Groceries</td>\n",
       "      <td>961.25</td>\n",
       "      <td>1117.36</td>\n",
       "      <td>30</td>\n",
       "      <td>120</td>\n",
       "      <td>33407.54</td>\n",
       "    </tr>\n",
       "    <tr>\n",
       "      <th>3</th>\n",
       "      <td>1004</td>\n",
       "      <td>Pasta</td>\n",
       "      <td>Groceries</td>\n",
       "      <td>696.83</td>\n",
       "      <td>1007.94</td>\n",
       "      <td>36</td>\n",
       "      <td>204</td>\n",
       "      <td>101732.97</td>\n",
       "    </tr>\n",
       "    <tr>\n",
       "      <th>4</th>\n",
       "      <td>1005</td>\n",
       "      <td>Coffee Beans</td>\n",
       "      <td>Groceries</td>\n",
       "      <td>2163.01</td>\n",
       "      <td>2991.94</td>\n",
       "      <td>27</td>\n",
       "      <td>575</td>\n",
       "      <td>134286.66</td>\n",
       "    </tr>\n",
       "  </tbody>\n",
       "</table>\n",
       "</div>"
      ]
     },
     "execution_count": 18,
     "metadata": {},
     "output_type": "execute_result"
    }
   ],
   "execution_count": 18
  },
  {
   "metadata": {},
   "cell_type": "markdown",
   "source": "### 3. Find the slow moving products",
   "id": "23000e1fb911c82a"
  },
  {
   "metadata": {
    "ExecuteTime": {
     "end_time": "2025-07-12T15:36:27.484628Z",
     "start_time": "2025-07-12T15:36:27.440651Z"
    }
   },
   "cell_type": "code",
   "source": [
    "start_date = datetime.strptime('2024-12-31', '%Y-%m-%d').date()\n",
    "cutoff_date = start_date - timedelta(days=90)\n",
    "print(cutoff_date)"
   ],
   "id": "508faebfa6b8334b",
   "outputs": [
    {
     "name": "stdout",
     "output_type": "stream",
     "text": [
      "2024-10-02\n"
     ]
    }
   ],
   "execution_count": 19
  },
  {
   "metadata": {
    "ExecuteTime": {
     "end_time": "2025-07-12T15:50:23.896196Z",
     "start_time": "2025-07-12T15:50:23.609769Z"
    }
   },
   "cell_type": "code",
   "source": [
    "def is_slow_moving(product_id):\n",
    "    start_date = datetime.strptime('2024-12-31', '%Y-%m-%d').date()\n",
    "    cutoff_date = start_date - timedelta(days=90)\n",
    "    last_90_days_sales = sales_df[\n",
    "        (sales_df['product_id'] == product_id) &\n",
    "        (sales_df['sale_date'] >= cutoff_date)\n",
    "    ]\n",
    "    total_recent_sales = last_90_days_sales['quantity_sold'].sum()\n",
    "    return total_recent_sales < 40\n",
    "\n",
    "products_df['slow_moving'] = products_df['product_id'].apply(is_slow_moving)\n",
    "products_df.head()"
   ],
   "id": "f3d139dad3158e51",
   "outputs": [
    {
     "data": {
      "text/plain": [
       "   product_id  product_name   category  cost_price  selling_price  \\\n",
       "0        1001  Organic Rice  Groceries     1551.26        2296.31   \n",
       "1        1002     Olive Oil  Groceries     2516.38        3370.60   \n",
       "2        1003  Canned Beans  Groceries      961.25        1117.36   \n",
       "3        1004         Pasta  Groceries      696.83        1007.94   \n",
       "4        1005  Coffee Beans  Groceries     2163.01        2991.94   \n",
       "\n",
       "   reorder_level  current_stock     profit  slow_moving  \n",
       "0             43            658  158695.65        False  \n",
       "1             39            301  146071.62         True  \n",
       "2             30            120   33407.54        False  \n",
       "3             36            204  101732.97        False  \n",
       "4             27            575  134286.66         True  "
      ],
      "text/html": [
       "<div>\n",
       "<style scoped>\n",
       "    .dataframe tbody tr th:only-of-type {\n",
       "        vertical-align: middle;\n",
       "    }\n",
       "\n",
       "    .dataframe tbody tr th {\n",
       "        vertical-align: top;\n",
       "    }\n",
       "\n",
       "    .dataframe thead th {\n",
       "        text-align: right;\n",
       "    }\n",
       "</style>\n",
       "<table border=\"1\" class=\"dataframe\">\n",
       "  <thead>\n",
       "    <tr style=\"text-align: right;\">\n",
       "      <th></th>\n",
       "      <th>product_id</th>\n",
       "      <th>product_name</th>\n",
       "      <th>category</th>\n",
       "      <th>cost_price</th>\n",
       "      <th>selling_price</th>\n",
       "      <th>reorder_level</th>\n",
       "      <th>current_stock</th>\n",
       "      <th>profit</th>\n",
       "      <th>slow_moving</th>\n",
       "    </tr>\n",
       "  </thead>\n",
       "  <tbody>\n",
       "    <tr>\n",
       "      <th>0</th>\n",
       "      <td>1001</td>\n",
       "      <td>Organic Rice</td>\n",
       "      <td>Groceries</td>\n",
       "      <td>1551.26</td>\n",
       "      <td>2296.31</td>\n",
       "      <td>43</td>\n",
       "      <td>658</td>\n",
       "      <td>158695.65</td>\n",
       "      <td>False</td>\n",
       "    </tr>\n",
       "    <tr>\n",
       "      <th>1</th>\n",
       "      <td>1002</td>\n",
       "      <td>Olive Oil</td>\n",
       "      <td>Groceries</td>\n",
       "      <td>2516.38</td>\n",
       "      <td>3370.60</td>\n",
       "      <td>39</td>\n",
       "      <td>301</td>\n",
       "      <td>146071.62</td>\n",
       "      <td>True</td>\n",
       "    </tr>\n",
       "    <tr>\n",
       "      <th>2</th>\n",
       "      <td>1003</td>\n",
       "      <td>Canned Beans</td>\n",
       "      <td>Groceries</td>\n",
       "      <td>961.25</td>\n",
       "      <td>1117.36</td>\n",
       "      <td>30</td>\n",
       "      <td>120</td>\n",
       "      <td>33407.54</td>\n",
       "      <td>False</td>\n",
       "    </tr>\n",
       "    <tr>\n",
       "      <th>3</th>\n",
       "      <td>1004</td>\n",
       "      <td>Pasta</td>\n",
       "      <td>Groceries</td>\n",
       "      <td>696.83</td>\n",
       "      <td>1007.94</td>\n",
       "      <td>36</td>\n",
       "      <td>204</td>\n",
       "      <td>101732.97</td>\n",
       "      <td>False</td>\n",
       "    </tr>\n",
       "    <tr>\n",
       "      <th>4</th>\n",
       "      <td>1005</td>\n",
       "      <td>Coffee Beans</td>\n",
       "      <td>Groceries</td>\n",
       "      <td>2163.01</td>\n",
       "      <td>2991.94</td>\n",
       "      <td>27</td>\n",
       "      <td>575</td>\n",
       "      <td>134286.66</td>\n",
       "      <td>True</td>\n",
       "    </tr>\n",
       "  </tbody>\n",
       "</table>\n",
       "</div>"
      ]
     },
     "execution_count": 20,
     "metadata": {},
     "output_type": "execute_result"
    }
   ],
   "execution_count": 20
  },
  {
   "metadata": {
    "ExecuteTime": {
     "end_time": "2025-07-12T15:51:24.571362Z",
     "start_time": "2025-07-12T15:51:24.536443Z"
    }
   },
   "cell_type": "code",
   "source": "products_df['slow_moving'].value_counts()",
   "id": "d7fa8de70aee02f3",
   "outputs": [
    {
     "data": {
      "text/plain": [
       "slow_moving\n",
       "False    88\n",
       "True     12\n",
       "Name: count, dtype: int64"
      ]
     },
     "execution_count": 21,
     "metadata": {},
     "output_type": "execute_result"
    }
   ],
   "execution_count": 21
  },
  {
   "metadata": {},
   "cell_type": "markdown",
   "source": "### 4. Flag overstocked and understocked products",
   "id": "e85a4b04a5ab00cf"
  },
  {
   "metadata": {
    "ExecuteTime": {
     "end_time": "2025-07-12T16:53:28.298431Z",
     "start_time": "2025-07-12T16:53:28.090201Z"
    }
   },
   "cell_type": "code",
   "source": [
    "def get_stock_status(product_id):\n",
    "    product = products_df[products_df['product_id'] == product_id].iloc[0]\n",
    "    stock = product['current_stock']\n",
    "    reorder = product['reorder_level']\n",
    "    if stock < reorder: return 'Understocked'\n",
    "    elif stock > reorder * 15: return 'Overstocked'\n",
    "    return 'Properly Stocked'\n",
    "\n",
    "products_df['stock_status'] = products_df['product_id'].apply(get_stock_status)\n",
    "products_df.head()"
   ],
   "id": "191e22901eb6def7",
   "outputs": [
    {
     "data": {
      "text/plain": [
       "   product_id  product_name   category  cost_price  selling_price  \\\n",
       "0        1001  Organic Rice  Groceries     1551.26        2296.31   \n",
       "1        1002     Olive Oil  Groceries     2516.38        3370.60   \n",
       "2        1003  Canned Beans  Groceries      961.25        1117.36   \n",
       "3        1004         Pasta  Groceries      696.83        1007.94   \n",
       "4        1005  Coffee Beans  Groceries     2163.01        2991.94   \n",
       "\n",
       "   reorder_level  current_stock     profit  slow_moving      stock_status  \n",
       "0             43            658  158695.65        False       Overstocked  \n",
       "1             39            301  146071.62         True  Properly Stocked  \n",
       "2             30            120   33407.54        False  Properly Stocked  \n",
       "3             36            204  101732.97        False  Properly Stocked  \n",
       "4             27            575  134286.66         True       Overstocked  "
      ],
      "text/html": [
       "<div>\n",
       "<style scoped>\n",
       "    .dataframe tbody tr th:only-of-type {\n",
       "        vertical-align: middle;\n",
       "    }\n",
       "\n",
       "    .dataframe tbody tr th {\n",
       "        vertical-align: top;\n",
       "    }\n",
       "\n",
       "    .dataframe thead th {\n",
       "        text-align: right;\n",
       "    }\n",
       "</style>\n",
       "<table border=\"1\" class=\"dataframe\">\n",
       "  <thead>\n",
       "    <tr style=\"text-align: right;\">\n",
       "      <th></th>\n",
       "      <th>product_id</th>\n",
       "      <th>product_name</th>\n",
       "      <th>category</th>\n",
       "      <th>cost_price</th>\n",
       "      <th>selling_price</th>\n",
       "      <th>reorder_level</th>\n",
       "      <th>current_stock</th>\n",
       "      <th>profit</th>\n",
       "      <th>slow_moving</th>\n",
       "      <th>stock_status</th>\n",
       "    </tr>\n",
       "  </thead>\n",
       "  <tbody>\n",
       "    <tr>\n",
       "      <th>0</th>\n",
       "      <td>1001</td>\n",
       "      <td>Organic Rice</td>\n",
       "      <td>Groceries</td>\n",
       "      <td>1551.26</td>\n",
       "      <td>2296.31</td>\n",
       "      <td>43</td>\n",
       "      <td>658</td>\n",
       "      <td>158695.65</td>\n",
       "      <td>False</td>\n",
       "      <td>Overstocked</td>\n",
       "    </tr>\n",
       "    <tr>\n",
       "      <th>1</th>\n",
       "      <td>1002</td>\n",
       "      <td>Olive Oil</td>\n",
       "      <td>Groceries</td>\n",
       "      <td>2516.38</td>\n",
       "      <td>3370.60</td>\n",
       "      <td>39</td>\n",
       "      <td>301</td>\n",
       "      <td>146071.62</td>\n",
       "      <td>True</td>\n",
       "      <td>Properly Stocked</td>\n",
       "    </tr>\n",
       "    <tr>\n",
       "      <th>2</th>\n",
       "      <td>1003</td>\n",
       "      <td>Canned Beans</td>\n",
       "      <td>Groceries</td>\n",
       "      <td>961.25</td>\n",
       "      <td>1117.36</td>\n",
       "      <td>30</td>\n",
       "      <td>120</td>\n",
       "      <td>33407.54</td>\n",
       "      <td>False</td>\n",
       "      <td>Properly Stocked</td>\n",
       "    </tr>\n",
       "    <tr>\n",
       "      <th>3</th>\n",
       "      <td>1004</td>\n",
       "      <td>Pasta</td>\n",
       "      <td>Groceries</td>\n",
       "      <td>696.83</td>\n",
       "      <td>1007.94</td>\n",
       "      <td>36</td>\n",
       "      <td>204</td>\n",
       "      <td>101732.97</td>\n",
       "      <td>False</td>\n",
       "      <td>Properly Stocked</td>\n",
       "    </tr>\n",
       "    <tr>\n",
       "      <th>4</th>\n",
       "      <td>1005</td>\n",
       "      <td>Coffee Beans</td>\n",
       "      <td>Groceries</td>\n",
       "      <td>2163.01</td>\n",
       "      <td>2991.94</td>\n",
       "      <td>27</td>\n",
       "      <td>575</td>\n",
       "      <td>134286.66</td>\n",
       "      <td>True</td>\n",
       "      <td>Overstocked</td>\n",
       "    </tr>\n",
       "  </tbody>\n",
       "</table>\n",
       "</div>"
      ]
     },
     "execution_count": 46,
     "metadata": {},
     "output_type": "execute_result"
    }
   ],
   "execution_count": 46
  },
  {
   "metadata": {
    "ExecuteTime": {
     "end_time": "2025-07-12T16:03:15.909244Z",
     "start_time": "2025-07-12T16:03:15.881936Z"
    }
   },
   "cell_type": "code",
   "source": "products_df['stock_status'].value_counts()",
   "id": "a7ed510c42a8e119",
   "outputs": [
    {
     "data": {
      "text/plain": [
       "stock_status\n",
       "Properly Stocked    72\n",
       "Overstocked         17\n",
       "Understocked        11\n",
       "Name: count, dtype: int64"
      ]
     },
     "execution_count": 23,
     "metadata": {},
     "output_type": "execute_result"
    }
   ],
   "execution_count": 23
  },
  {
   "metadata": {},
   "cell_type": "markdown",
   "source": "### 5. Get Reveneu per product",
   "id": "f6bf93da9dd64746"
  },
  {
   "metadata": {
    "ExecuteTime": {
     "end_time": "2025-07-12T16:12:42.780232Z",
     "start_time": "2025-07-12T16:12:42.757818Z"
    }
   },
   "cell_type": "code",
   "source": [
    "def get_revenue(products_df, sales_df, product_id):\n",
    "    selling_price = products_df[\n",
    "        products_df['product_id'] == product_id\n",
    "    ]['selling_price'].iloc[0]\n",
    "    \n",
    "    quantity_sold = sales_df[\n",
    "        sales_df['product_id'] == product_id\n",
    "    ]['quantity_sold'].sum()\n",
    "    \n",
    "    revenue = selling_price * quantity_sold\n",
    "    return revenue"
   ],
   "id": "28ae32aa60378e7f",
   "outputs": [],
   "execution_count": 24
  },
  {
   "metadata": {},
   "cell_type": "markdown",
   "source": "### 6. Queries business data",
   "id": "8a8683250e7f78ba"
  },
  {
   "metadata": {
    "ExecuteTime": {
     "end_time": "2025-07-12T16:45:19.020879Z",
     "start_time": "2025-07-12T16:45:19.001221Z"
    }
   },
   "cell_type": "code",
   "source": [
    "def get_sales_between_dates(sales_df, start_date, end_date, locations):\n",
    "    return sales_df[\n",
    "        (sales_df['sale_date'] >= start_date)\n",
    "        & (sales_df['sale_date'] <= end_date) \n",
    "        & (sales_df['location'].isin(locations))\n",
    "    ]"
   ],
   "id": "751a9847b68c32f4",
   "outputs": [],
   "execution_count": 25
  },
  {
   "metadata": {
    "ExecuteTime": {
     "end_time": "2025-07-12T16:45:58.721776Z",
     "start_time": "2025-07-12T16:45:58.706440Z"
    }
   },
   "cell_type": "code",
   "source": [
    "def get_products_of_selected_categories(products_df, categories):\n",
    "    return products_df[products_df['category'].isin(categories)]"
   ],
   "id": "456482a079eb3245",
   "outputs": [],
   "execution_count": 26
  },
  {
   "metadata": {},
   "cell_type": "markdown",
   "source": "",
   "id": "98969a072b325d68"
  },
  {
   "metadata": {
    "ExecuteTime": {
     "end_time": "2025-07-12T16:46:04.833503Z",
     "start_time": "2025-07-12T16:46:04.817016Z"
    }
   },
   "cell_type": "code",
   "source": [
    "def get_under_stocked_products(products_df):\n",
    "    return products_df[products_df['stock_status'] == 'Understocked']"
   ],
   "id": "16737f24e9e3bfcb",
   "outputs": [],
   "execution_count": 27
  },
  {
   "metadata": {
    "ExecuteTime": {
     "end_time": "2025-07-12T16:46:49.851034Z",
     "start_time": "2025-07-12T16:46:49.832091Z"
    }
   },
   "cell_type": "code",
   "source": [
    "def get_summary_kpis(products_df, sales_df):\n",
    "    total_revenue = products_df['product_id'].apply(\n",
    "        lambda product_id: get_revenue(products_df, sales_df, product_id)\n",
    "    ).sum()\n",
    "    \n",
    "    total_profit = products_df['profit'].sum()\n",
    "    total_units_sold = sales_df['quantity_sold'].sum()\n",
    "    total_understocked_products = len(get_under_stocked_products(products_df))\n",
    "    return {\n",
    "        'Total Revenue (K)': int(total_revenue/1e3),\n",
    "        'Total Profit (K)': int(total_profit/1e3),\n",
    "        'Total Units Sold (K)': int(total_units_sold/1e3),\n",
    "        'Total Understocked Products': total_understocked_products\n",
    "    }"
   ],
   "id": "dfcc356283fa8d1c",
   "outputs": [],
   "execution_count": 28
  },
  {
   "metadata": {
    "ExecuteTime": {
     "end_time": "2025-07-12T16:46:58.661298Z",
     "start_time": "2025-07-12T16:46:58.639653Z"
    }
   },
   "cell_type": "code",
   "source": "products_df['category'].unique()",
   "id": "d30b18b043561830",
   "outputs": [
    {
     "data": {
      "text/plain": [
       "array(['Groceries', 'Electronics', 'Clothing', 'Perishables'],\n",
       "      dtype=object)"
      ]
     },
     "execution_count": 29,
     "metadata": {},
     "output_type": "execute_result"
    }
   ],
   "execution_count": 29
  },
  {
   "metadata": {
    "ExecuteTime": {
     "end_time": "2025-07-12T16:47:20.148178Z",
     "start_time": "2025-07-12T16:47:20.131390Z"
    }
   },
   "cell_type": "code",
   "source": [
    "start_date = datetime.strptime('2024-01-01', '%Y-%m-%d').date()\n",
    "end_date = datetime.strptime('2024-12-31', '%Y-%m-%d').date()\n",
    "selected_locations = ['Dhaka']\n",
    "selected_categories = ['Groceries']"
   ],
   "id": "e0a38c7d5e8ec08d",
   "outputs": [],
   "execution_count": 30
  },
  {
   "metadata": {
    "ExecuteTime": {
     "end_time": "2025-07-12T16:47:26.071159Z",
     "start_time": "2025-07-12T16:47:26.039264Z"
    }
   },
   "cell_type": "code",
   "source": [
    "filtered_sales = get_sales_between_dates(\n",
    "    sales_df,\n",
    "    start_date, \n",
    "    end_date, \n",
    "    selected_locations\n",
    ")\n",
    "\n",
    "filtered_sales.head()"
   ],
   "id": "ea4eba88b36d2173",
   "outputs": [
    {
     "data": {
      "text/plain": [
       "    product_id  quantity_sold   sale_date location   discount\n",
       "2         1011              2  2024-02-07    Dhaka   7.370982\n",
       "5         1077              7  2024-04-19    Dhaka  94.679928\n",
       "8         1001              6  2024-08-18    Dhaka  56.834725\n",
       "9         1040              7  2024-01-08    Dhaka  89.031249\n",
       "11        1076              6  2024-10-16    Dhaka  96.526187"
      ],
      "text/html": [
       "<div>\n",
       "<style scoped>\n",
       "    .dataframe tbody tr th:only-of-type {\n",
       "        vertical-align: middle;\n",
       "    }\n",
       "\n",
       "    .dataframe tbody tr th {\n",
       "        vertical-align: top;\n",
       "    }\n",
       "\n",
       "    .dataframe thead th {\n",
       "        text-align: right;\n",
       "    }\n",
       "</style>\n",
       "<table border=\"1\" class=\"dataframe\">\n",
       "  <thead>\n",
       "    <tr style=\"text-align: right;\">\n",
       "      <th></th>\n",
       "      <th>product_id</th>\n",
       "      <th>quantity_sold</th>\n",
       "      <th>sale_date</th>\n",
       "      <th>location</th>\n",
       "      <th>discount</th>\n",
       "    </tr>\n",
       "  </thead>\n",
       "  <tbody>\n",
       "    <tr>\n",
       "      <th>2</th>\n",
       "      <td>1011</td>\n",
       "      <td>2</td>\n",
       "      <td>2024-02-07</td>\n",
       "      <td>Dhaka</td>\n",
       "      <td>7.370982</td>\n",
       "    </tr>\n",
       "    <tr>\n",
       "      <th>5</th>\n",
       "      <td>1077</td>\n",
       "      <td>7</td>\n",
       "      <td>2024-04-19</td>\n",
       "      <td>Dhaka</td>\n",
       "      <td>94.679928</td>\n",
       "    </tr>\n",
       "    <tr>\n",
       "      <th>8</th>\n",
       "      <td>1001</td>\n",
       "      <td>6</td>\n",
       "      <td>2024-08-18</td>\n",
       "      <td>Dhaka</td>\n",
       "      <td>56.834725</td>\n",
       "    </tr>\n",
       "    <tr>\n",
       "      <th>9</th>\n",
       "      <td>1040</td>\n",
       "      <td>7</td>\n",
       "      <td>2024-01-08</td>\n",
       "      <td>Dhaka</td>\n",
       "      <td>89.031249</td>\n",
       "    </tr>\n",
       "    <tr>\n",
       "      <th>11</th>\n",
       "      <td>1076</td>\n",
       "      <td>6</td>\n",
       "      <td>2024-10-16</td>\n",
       "      <td>Dhaka</td>\n",
       "      <td>96.526187</td>\n",
       "    </tr>\n",
       "  </tbody>\n",
       "</table>\n",
       "</div>"
      ]
     },
     "execution_count": 31,
     "metadata": {},
     "output_type": "execute_result"
    }
   ],
   "execution_count": 31
  },
  {
   "metadata": {
    "ExecuteTime": {
     "end_time": "2025-07-12T16:47:37.050192Z",
     "start_time": "2025-07-12T16:47:36.991593Z"
    }
   },
   "cell_type": "code",
   "source": [
    "filtered_products = get_products_of_selected_categories(\n",
    "    products_df,\n",
    "    selected_categories\n",
    ")\n",
    "\n",
    "filtered_products.head()"
   ],
   "id": "8c58c3298a3ffdf7",
   "outputs": [
    {
     "data": {
      "text/plain": [
       "   product_id  product_name   category  cost_price  selling_price  \\\n",
       "0        1001  Organic Rice  Groceries     1551.26        2296.31   \n",
       "1        1002     Olive Oil  Groceries     2516.38        3370.60   \n",
       "2        1003  Canned Beans  Groceries      961.25        1117.36   \n",
       "3        1004         Pasta  Groceries      696.83        1007.94   \n",
       "4        1005  Coffee Beans  Groceries     2163.01        2991.94   \n",
       "\n",
       "   reorder_level  current_stock     profit  slow_moving      stock_status  \n",
       "0             43            658  158695.65        False       Overstocked  \n",
       "1             39            301  146071.62         True  Properly Stocked  \n",
       "2             30            120   33407.54        False  Properly Stocked  \n",
       "3             36            204  101732.97        False  Properly Stocked  \n",
       "4             27            575  134286.66         True       Overstocked  "
      ],
      "text/html": [
       "<div>\n",
       "<style scoped>\n",
       "    .dataframe tbody tr th:only-of-type {\n",
       "        vertical-align: middle;\n",
       "    }\n",
       "\n",
       "    .dataframe tbody tr th {\n",
       "        vertical-align: top;\n",
       "    }\n",
       "\n",
       "    .dataframe thead th {\n",
       "        text-align: right;\n",
       "    }\n",
       "</style>\n",
       "<table border=\"1\" class=\"dataframe\">\n",
       "  <thead>\n",
       "    <tr style=\"text-align: right;\">\n",
       "      <th></th>\n",
       "      <th>product_id</th>\n",
       "      <th>product_name</th>\n",
       "      <th>category</th>\n",
       "      <th>cost_price</th>\n",
       "      <th>selling_price</th>\n",
       "      <th>reorder_level</th>\n",
       "      <th>current_stock</th>\n",
       "      <th>profit</th>\n",
       "      <th>slow_moving</th>\n",
       "      <th>stock_status</th>\n",
       "    </tr>\n",
       "  </thead>\n",
       "  <tbody>\n",
       "    <tr>\n",
       "      <th>0</th>\n",
       "      <td>1001</td>\n",
       "      <td>Organic Rice</td>\n",
       "      <td>Groceries</td>\n",
       "      <td>1551.26</td>\n",
       "      <td>2296.31</td>\n",
       "      <td>43</td>\n",
       "      <td>658</td>\n",
       "      <td>158695.65</td>\n",
       "      <td>False</td>\n",
       "      <td>Overstocked</td>\n",
       "    </tr>\n",
       "    <tr>\n",
       "      <th>1</th>\n",
       "      <td>1002</td>\n",
       "      <td>Olive Oil</td>\n",
       "      <td>Groceries</td>\n",
       "      <td>2516.38</td>\n",
       "      <td>3370.60</td>\n",
       "      <td>39</td>\n",
       "      <td>301</td>\n",
       "      <td>146071.62</td>\n",
       "      <td>True</td>\n",
       "      <td>Properly Stocked</td>\n",
       "    </tr>\n",
       "    <tr>\n",
       "      <th>2</th>\n",
       "      <td>1003</td>\n",
       "      <td>Canned Beans</td>\n",
       "      <td>Groceries</td>\n",
       "      <td>961.25</td>\n",
       "      <td>1117.36</td>\n",
       "      <td>30</td>\n",
       "      <td>120</td>\n",
       "      <td>33407.54</td>\n",
       "      <td>False</td>\n",
       "      <td>Properly Stocked</td>\n",
       "    </tr>\n",
       "    <tr>\n",
       "      <th>3</th>\n",
       "      <td>1004</td>\n",
       "      <td>Pasta</td>\n",
       "      <td>Groceries</td>\n",
       "      <td>696.83</td>\n",
       "      <td>1007.94</td>\n",
       "      <td>36</td>\n",
       "      <td>204</td>\n",
       "      <td>101732.97</td>\n",
       "      <td>False</td>\n",
       "      <td>Properly Stocked</td>\n",
       "    </tr>\n",
       "    <tr>\n",
       "      <th>4</th>\n",
       "      <td>1005</td>\n",
       "      <td>Coffee Beans</td>\n",
       "      <td>Groceries</td>\n",
       "      <td>2163.01</td>\n",
       "      <td>2991.94</td>\n",
       "      <td>27</td>\n",
       "      <td>575</td>\n",
       "      <td>134286.66</td>\n",
       "      <td>True</td>\n",
       "      <td>Overstocked</td>\n",
       "    </tr>\n",
       "  </tbody>\n",
       "</table>\n",
       "</div>"
      ]
     },
     "execution_count": 32,
     "metadata": {},
     "output_type": "execute_result"
    }
   ],
   "execution_count": 32
  },
  {
   "metadata": {
    "ExecuteTime": {
     "end_time": "2025-07-12T16:47:42.638754Z",
     "start_time": "2025-07-12T16:47:42.613332Z"
    }
   },
   "cell_type": "code",
   "source": [
    "understocked_products = get_under_stocked_products(\n",
    "    filtered_products\n",
    ")\n",
    "understocked_products.head()"
   ],
   "id": "f7519d9efcbf721f",
   "outputs": [
    {
     "data": {
      "text/plain": [
       "    product_id  product_name   category  cost_price  selling_price  \\\n",
       "47        1048   Almond Milk  Groceries     2621.61        3401.59   \n",
       "80        1081  Organic Rice  Groceries     1533.01        2074.05   \n",
       "81        1082     Olive Oil  Groceries     2250.53        2957.89   \n",
       "\n",
       "    reorder_level  current_stock     profit  slow_moving  stock_status  \n",
       "47             33            -47  180955.36        False  Understocked  \n",
       "80             22             13  153655.36        False  Understocked  \n",
       "81             47              5  200182.88        False  Understocked  "
      ],
      "text/html": [
       "<div>\n",
       "<style scoped>\n",
       "    .dataframe tbody tr th:only-of-type {\n",
       "        vertical-align: middle;\n",
       "    }\n",
       "\n",
       "    .dataframe tbody tr th {\n",
       "        vertical-align: top;\n",
       "    }\n",
       "\n",
       "    .dataframe thead th {\n",
       "        text-align: right;\n",
       "    }\n",
       "</style>\n",
       "<table border=\"1\" class=\"dataframe\">\n",
       "  <thead>\n",
       "    <tr style=\"text-align: right;\">\n",
       "      <th></th>\n",
       "      <th>product_id</th>\n",
       "      <th>product_name</th>\n",
       "      <th>category</th>\n",
       "      <th>cost_price</th>\n",
       "      <th>selling_price</th>\n",
       "      <th>reorder_level</th>\n",
       "      <th>current_stock</th>\n",
       "      <th>profit</th>\n",
       "      <th>slow_moving</th>\n",
       "      <th>stock_status</th>\n",
       "    </tr>\n",
       "  </thead>\n",
       "  <tbody>\n",
       "    <tr>\n",
       "      <th>47</th>\n",
       "      <td>1048</td>\n",
       "      <td>Almond Milk</td>\n",
       "      <td>Groceries</td>\n",
       "      <td>2621.61</td>\n",
       "      <td>3401.59</td>\n",
       "      <td>33</td>\n",
       "      <td>-47</td>\n",
       "      <td>180955.36</td>\n",
       "      <td>False</td>\n",
       "      <td>Understocked</td>\n",
       "    </tr>\n",
       "    <tr>\n",
       "      <th>80</th>\n",
       "      <td>1081</td>\n",
       "      <td>Organic Rice</td>\n",
       "      <td>Groceries</td>\n",
       "      <td>1533.01</td>\n",
       "      <td>2074.05</td>\n",
       "      <td>22</td>\n",
       "      <td>13</td>\n",
       "      <td>153655.36</td>\n",
       "      <td>False</td>\n",
       "      <td>Understocked</td>\n",
       "    </tr>\n",
       "    <tr>\n",
       "      <th>81</th>\n",
       "      <td>1082</td>\n",
       "      <td>Olive Oil</td>\n",
       "      <td>Groceries</td>\n",
       "      <td>2250.53</td>\n",
       "      <td>2957.89</td>\n",
       "      <td>47</td>\n",
       "      <td>5</td>\n",
       "      <td>200182.88</td>\n",
       "      <td>False</td>\n",
       "      <td>Understocked</td>\n",
       "    </tr>\n",
       "  </tbody>\n",
       "</table>\n",
       "</div>"
      ]
     },
     "execution_count": 33,
     "metadata": {},
     "output_type": "execute_result"
    }
   ],
   "execution_count": 33
  },
  {
   "metadata": {},
   "cell_type": "markdown",
   "source": "### Summary KPIs",
   "id": "c92050197907d171"
  },
  {
   "metadata": {
    "ExecuteTime": {
     "end_time": "2025-07-12T16:47:49.782276Z",
     "start_time": "2025-07-12T16:47:49.651700Z"
    }
   },
   "cell_type": "code",
   "source": "get_summary_kpis(filtered_products, filtered_sales)",
   "id": "cb81a28bc6a6698d",
   "outputs": [
    {
     "data": {
      "text/plain": [
       "{'Total Revenue (K)': 4102,\n",
       " 'Total Profit (K)': 3543,\n",
       " 'Total Units Sold (K)': 6,\n",
       " 'Total Understocked Products': 3}"
      ]
     },
     "execution_count": 34,
     "metadata": {},
     "output_type": "execute_result"
    }
   ],
   "execution_count": 34
  },
  {
   "metadata": {
    "ExecuteTime": {
     "end_time": "2025-07-12T16:47:55.281554Z",
     "start_time": "2025-07-12T16:47:55.260479Z"
    }
   },
   "cell_type": "code",
   "source": "products_df.columns",
   "id": "fab0ff5cbff76e2b",
   "outputs": [
    {
     "data": {
      "text/plain": [
       "Index(['product_id', 'product_name', 'category', 'cost_price', 'selling_price',\n",
       "       'reorder_level', 'current_stock', 'profit', 'slow_moving',\n",
       "       'stock_status'],\n",
       "      dtype='object')"
      ]
     },
     "execution_count": 35,
     "metadata": {},
     "output_type": "execute_result"
    }
   ],
   "execution_count": 35
  },
  {
   "metadata": {
    "ExecuteTime": {
     "end_time": "2025-07-12T16:48:02.415070Z",
     "start_time": "2025-07-12T16:48:02.407270Z"
    }
   },
   "cell_type": "code",
   "source": "sales_df.columns",
   "id": "8698df6d6b04025f",
   "outputs": [
    {
     "data": {
      "text/plain": [
       "Index(['product_id', 'quantity_sold', 'sale_date', 'location', 'discount'], dtype='object')"
      ]
     },
     "execution_count": 36,
     "metadata": {},
     "output_type": "execute_result"
    }
   ],
   "execution_count": 36
  },
  {
   "metadata": {
    "ExecuteTime": {
     "end_time": "2025-07-12T16:48:06.756302Z",
     "start_time": "2025-07-12T16:48:06.734417Z"
    }
   },
   "cell_type": "code",
   "source": "purchases_df.columns",
   "id": "9cbd3799fb660b54",
   "outputs": [
    {
     "data": {
      "text/plain": [
       "Index(['product_id', 'quantity_purchased', 'purchase_date'], dtype='object')"
      ]
     },
     "execution_count": 37,
     "metadata": {},
     "output_type": "execute_result"
    }
   ],
   "execution_count": 37
  },
  {
   "metadata": {},
   "cell_type": "markdown",
   "source": "# Visualization using Plotly",
   "id": "3cb080107029f8ee"
  },
  {
   "metadata": {},
   "cell_type": "markdown",
   "source": "",
   "id": "8332b1a7a25bf1df"
  },
  {
   "metadata": {
    "ExecuteTime": {
     "end_time": "2025-07-12T16:50:30.763533Z",
     "start_time": "2025-07-12T16:50:30.407366Z"
    }
   },
   "cell_type": "code",
   "source": [
    "import plotly.express as px\n",
    "top_products = filtered_products.nlargest(10, 'profit')[['product_name', 'profit']]\n",
    "plot1 = px.bar(top_products, x='product_name', y='profit', title=\"Top 10 Products by Profit\")"
   ],
   "id": "79b9ad2a672adac1",
   "outputs": [
    {
     "name": "stdout",
     "output_type": "stream",
     "text": [
      "    product_name     profit\n",
      "44  Coffee Beans  246773.82\n",
      "46  Granola Bars  241602.34\n",
      "81     Olive Oil  200182.88\n",
      "43         Pasta  197819.76\n",
      "40  Organic Rice  192514.56\n",
      "47   Almond Milk  180955.36\n",
      "0   Organic Rice  158695.65\n",
      "80  Organic Rice  153655.36\n",
      "1      Olive Oil  146071.62\n",
      "48         Honey  142789.50\n"
     ]
    }
   ],
   "execution_count": 42
  },
  {
   "metadata": {
    "ExecuteTime": {
     "end_time": "2025-07-12T16:50:39.488881Z",
     "start_time": "2025-07-12T16:50:38.948431Z"
    }
   },
   "cell_type": "code",
   "source": "plot1.show()",
   "id": "4f75df81e8baa16e",
   "outputs": [
    {
     "data": {
      "application/vnd.plotly.v1+json": {
       "data": [
        {
         "hovertemplate": "product_name=%{x}<br>profit=%{y}<extra></extra>",
         "legendgroup": "",
         "marker": {
          "color": "#636efa",
          "pattern": {
           "shape": ""
          }
         },
         "name": "",
         "orientation": "v",
         "showlegend": false,
         "textposition": "auto",
         "x": [
          "Coffee Beans",
          "Granola Bars",
          "Olive Oil",
          "Pasta",
          "Organic Rice",
          "Almond Milk",
          "Organic Rice",
          "Organic Rice",
          "Olive Oil",
          "Honey"
         ],
         "xaxis": "x",
         "y": {
          "dtype": "f8",
          "bdata": "9ihcj64fDkGH61G4En4NQaFwPQq3bwhBR+F6FN4lCEGtR+F6FIAHQRWuR+HaFgZBMzMzMz1fA0EWrkfhusECQVuPwvW81AFB/////ytuAUE="
         },
         "yaxis": "y",
         "type": "bar"
        }
       ],
       "layout": {
        "template": {
         "data": {
          "histogram2dcontour": [
           {
            "type": "histogram2dcontour",
            "colorbar": {
             "outlinewidth": 0,
             "ticks": ""
            },
            "colorscale": [
             [
              0.0,
              "#0d0887"
             ],
             [
              0.1111111111111111,
              "#46039f"
             ],
             [
              0.2222222222222222,
              "#7201a8"
             ],
             [
              0.3333333333333333,
              "#9c179e"
             ],
             [
              0.4444444444444444,
              "#bd3786"
             ],
             [
              0.5555555555555556,
              "#d8576b"
             ],
             [
              0.6666666666666666,
              "#ed7953"
             ],
             [
              0.7777777777777778,
              "#fb9f3a"
             ],
             [
              0.8888888888888888,
              "#fdca26"
             ],
             [
              1.0,
              "#f0f921"
             ]
            ]
           }
          ],
          "choropleth": [
           {
            "type": "choropleth",
            "colorbar": {
             "outlinewidth": 0,
             "ticks": ""
            }
           }
          ],
          "histogram2d": [
           {
            "type": "histogram2d",
            "colorbar": {
             "outlinewidth": 0,
             "ticks": ""
            },
            "colorscale": [
             [
              0.0,
              "#0d0887"
             ],
             [
              0.1111111111111111,
              "#46039f"
             ],
             [
              0.2222222222222222,
              "#7201a8"
             ],
             [
              0.3333333333333333,
              "#9c179e"
             ],
             [
              0.4444444444444444,
              "#bd3786"
             ],
             [
              0.5555555555555556,
              "#d8576b"
             ],
             [
              0.6666666666666666,
              "#ed7953"
             ],
             [
              0.7777777777777778,
              "#fb9f3a"
             ],
             [
              0.8888888888888888,
              "#fdca26"
             ],
             [
              1.0,
              "#f0f921"
             ]
            ]
           }
          ],
          "heatmap": [
           {
            "type": "heatmap",
            "colorbar": {
             "outlinewidth": 0,
             "ticks": ""
            },
            "colorscale": [
             [
              0.0,
              "#0d0887"
             ],
             [
              0.1111111111111111,
              "#46039f"
             ],
             [
              0.2222222222222222,
              "#7201a8"
             ],
             [
              0.3333333333333333,
              "#9c179e"
             ],
             [
              0.4444444444444444,
              "#bd3786"
             ],
             [
              0.5555555555555556,
              "#d8576b"
             ],
             [
              0.6666666666666666,
              "#ed7953"
             ],
             [
              0.7777777777777778,
              "#fb9f3a"
             ],
             [
              0.8888888888888888,
              "#fdca26"
             ],
             [
              1.0,
              "#f0f921"
             ]
            ]
           }
          ],
          "contourcarpet": [
           {
            "type": "contourcarpet",
            "colorbar": {
             "outlinewidth": 0,
             "ticks": ""
            }
           }
          ],
          "contour": [
           {
            "type": "contour",
            "colorbar": {
             "outlinewidth": 0,
             "ticks": ""
            },
            "colorscale": [
             [
              0.0,
              "#0d0887"
             ],
             [
              0.1111111111111111,
              "#46039f"
             ],
             [
              0.2222222222222222,
              "#7201a8"
             ],
             [
              0.3333333333333333,
              "#9c179e"
             ],
             [
              0.4444444444444444,
              "#bd3786"
             ],
             [
              0.5555555555555556,
              "#d8576b"
             ],
             [
              0.6666666666666666,
              "#ed7953"
             ],
             [
              0.7777777777777778,
              "#fb9f3a"
             ],
             [
              0.8888888888888888,
              "#fdca26"
             ],
             [
              1.0,
              "#f0f921"
             ]
            ]
           }
          ],
          "surface": [
           {
            "type": "surface",
            "colorbar": {
             "outlinewidth": 0,
             "ticks": ""
            },
            "colorscale": [
             [
              0.0,
              "#0d0887"
             ],
             [
              0.1111111111111111,
              "#46039f"
             ],
             [
              0.2222222222222222,
              "#7201a8"
             ],
             [
              0.3333333333333333,
              "#9c179e"
             ],
             [
              0.4444444444444444,
              "#bd3786"
             ],
             [
              0.5555555555555556,
              "#d8576b"
             ],
             [
              0.6666666666666666,
              "#ed7953"
             ],
             [
              0.7777777777777778,
              "#fb9f3a"
             ],
             [
              0.8888888888888888,
              "#fdca26"
             ],
             [
              1.0,
              "#f0f921"
             ]
            ]
           }
          ],
          "mesh3d": [
           {
            "type": "mesh3d",
            "colorbar": {
             "outlinewidth": 0,
             "ticks": ""
            }
           }
          ],
          "scatter": [
           {
            "marker": {
             "line": {
              "color": "#283442"
             }
            },
            "type": "scatter"
           }
          ],
          "parcoords": [
           {
            "type": "parcoords",
            "line": {
             "colorbar": {
              "outlinewidth": 0,
              "ticks": ""
             }
            }
           }
          ],
          "scatterpolargl": [
           {
            "type": "scatterpolargl",
            "marker": {
             "colorbar": {
              "outlinewidth": 0,
              "ticks": ""
             }
            }
           }
          ],
          "bar": [
           {
            "error_x": {
             "color": "#f2f5fa"
            },
            "error_y": {
             "color": "#f2f5fa"
            },
            "marker": {
             "line": {
              "color": "rgb(17,17,17)",
              "width": 0.5
             },
             "pattern": {
              "fillmode": "overlay",
              "size": 10,
              "solidity": 0.2
             }
            },
            "type": "bar"
           }
          ],
          "scattergeo": [
           {
            "type": "scattergeo",
            "marker": {
             "colorbar": {
              "outlinewidth": 0,
              "ticks": ""
             }
            }
           }
          ],
          "scatterpolar": [
           {
            "type": "scatterpolar",
            "marker": {
             "colorbar": {
              "outlinewidth": 0,
              "ticks": ""
             }
            }
           }
          ],
          "histogram": [
           {
            "marker": {
             "pattern": {
              "fillmode": "overlay",
              "size": 10,
              "solidity": 0.2
             }
            },
            "type": "histogram"
           }
          ],
          "scattergl": [
           {
            "marker": {
             "line": {
              "color": "#283442"
             }
            },
            "type": "scattergl"
           }
          ],
          "scatter3d": [
           {
            "type": "scatter3d",
            "line": {
             "colorbar": {
              "outlinewidth": 0,
              "ticks": ""
             }
            },
            "marker": {
             "colorbar": {
              "outlinewidth": 0,
              "ticks": ""
             }
            }
           }
          ],
          "scattermap": [
           {
            "type": "scattermap",
            "marker": {
             "colorbar": {
              "outlinewidth": 0,
              "ticks": ""
             }
            }
           }
          ],
          "scattermapbox": [
           {
            "type": "scattermapbox",
            "marker": {
             "colorbar": {
              "outlinewidth": 0,
              "ticks": ""
             }
            }
           }
          ],
          "scatterternary": [
           {
            "type": "scatterternary",
            "marker": {
             "colorbar": {
              "outlinewidth": 0,
              "ticks": ""
             }
            }
           }
          ],
          "scattercarpet": [
           {
            "type": "scattercarpet",
            "marker": {
             "colorbar": {
              "outlinewidth": 0,
              "ticks": ""
             }
            }
           }
          ],
          "carpet": [
           {
            "aaxis": {
             "endlinecolor": "#A2B1C6",
             "gridcolor": "#506784",
             "linecolor": "#506784",
             "minorgridcolor": "#506784",
             "startlinecolor": "#A2B1C6"
            },
            "baxis": {
             "endlinecolor": "#A2B1C6",
             "gridcolor": "#506784",
             "linecolor": "#506784",
             "minorgridcolor": "#506784",
             "startlinecolor": "#A2B1C6"
            },
            "type": "carpet"
           }
          ],
          "table": [
           {
            "cells": {
             "fill": {
              "color": "#506784"
             },
             "line": {
              "color": "rgb(17,17,17)"
             }
            },
            "header": {
             "fill": {
              "color": "#2a3f5f"
             },
             "line": {
              "color": "rgb(17,17,17)"
             }
            },
            "type": "table"
           }
          ],
          "barpolar": [
           {
            "marker": {
             "line": {
              "color": "rgb(17,17,17)",
              "width": 0.5
             },
             "pattern": {
              "fillmode": "overlay",
              "size": 10,
              "solidity": 0.2
             }
            },
            "type": "barpolar"
           }
          ],
          "pie": [
           {
            "automargin": true,
            "type": "pie"
           }
          ]
         },
         "layout": {
          "autotypenumbers": "strict",
          "colorway": [
           "#636efa",
           "#EF553B",
           "#00cc96",
           "#ab63fa",
           "#FFA15A",
           "#19d3f3",
           "#FF6692",
           "#B6E880",
           "#FF97FF",
           "#FECB52"
          ],
          "font": {
           "color": "#f2f5fa"
          },
          "hovermode": "closest",
          "hoverlabel": {
           "align": "left"
          },
          "paper_bgcolor": "rgb(17,17,17)",
          "plot_bgcolor": "rgb(17,17,17)",
          "polar": {
           "bgcolor": "rgb(17,17,17)",
           "angularaxis": {
            "gridcolor": "#506784",
            "linecolor": "#506784",
            "ticks": ""
           },
           "radialaxis": {
            "gridcolor": "#506784",
            "linecolor": "#506784",
            "ticks": ""
           }
          },
          "ternary": {
           "bgcolor": "rgb(17,17,17)",
           "aaxis": {
            "gridcolor": "#506784",
            "linecolor": "#506784",
            "ticks": ""
           },
           "baxis": {
            "gridcolor": "#506784",
            "linecolor": "#506784",
            "ticks": ""
           },
           "caxis": {
            "gridcolor": "#506784",
            "linecolor": "#506784",
            "ticks": ""
           }
          },
          "coloraxis": {
           "colorbar": {
            "outlinewidth": 0,
            "ticks": ""
           }
          },
          "colorscale": {
           "sequential": [
            [
             0.0,
             "#0d0887"
            ],
            [
             0.1111111111111111,
             "#46039f"
            ],
            [
             0.2222222222222222,
             "#7201a8"
            ],
            [
             0.3333333333333333,
             "#9c179e"
            ],
            [
             0.4444444444444444,
             "#bd3786"
            ],
            [
             0.5555555555555556,
             "#d8576b"
            ],
            [
             0.6666666666666666,
             "#ed7953"
            ],
            [
             0.7777777777777778,
             "#fb9f3a"
            ],
            [
             0.8888888888888888,
             "#fdca26"
            ],
            [
             1.0,
             "#f0f921"
            ]
           ],
           "sequentialminus": [
            [
             0.0,
             "#0d0887"
            ],
            [
             0.1111111111111111,
             "#46039f"
            ],
            [
             0.2222222222222222,
             "#7201a8"
            ],
            [
             0.3333333333333333,
             "#9c179e"
            ],
            [
             0.4444444444444444,
             "#bd3786"
            ],
            [
             0.5555555555555556,
             "#d8576b"
            ],
            [
             0.6666666666666666,
             "#ed7953"
            ],
            [
             0.7777777777777778,
             "#fb9f3a"
            ],
            [
             0.8888888888888888,
             "#fdca26"
            ],
            [
             1.0,
             "#f0f921"
            ]
           ],
           "diverging": [
            [
             0,
             "#8e0152"
            ],
            [
             0.1,
             "#c51b7d"
            ],
            [
             0.2,
             "#de77ae"
            ],
            [
             0.3,
             "#f1b6da"
            ],
            [
             0.4,
             "#fde0ef"
            ],
            [
             0.5,
             "#f7f7f7"
            ],
            [
             0.6,
             "#e6f5d0"
            ],
            [
             0.7,
             "#b8e186"
            ],
            [
             0.8,
             "#7fbc41"
            ],
            [
             0.9,
             "#4d9221"
            ],
            [
             1,
             "#276419"
            ]
           ]
          },
          "xaxis": {
           "gridcolor": "#283442",
           "linecolor": "#506784",
           "ticks": "",
           "title": {
            "standoff": 15
           },
           "zerolinecolor": "#283442",
           "automargin": true,
           "zerolinewidth": 2
          },
          "yaxis": {
           "gridcolor": "#283442",
           "linecolor": "#506784",
           "ticks": "",
           "title": {
            "standoff": 15
           },
           "zerolinecolor": "#283442",
           "automargin": true,
           "zerolinewidth": 2
          },
          "scene": {
           "xaxis": {
            "backgroundcolor": "rgb(17,17,17)",
            "gridcolor": "#506784",
            "linecolor": "#506784",
            "showbackground": true,
            "ticks": "",
            "zerolinecolor": "#C8D4E3",
            "gridwidth": 2
           },
           "yaxis": {
            "backgroundcolor": "rgb(17,17,17)",
            "gridcolor": "#506784",
            "linecolor": "#506784",
            "showbackground": true,
            "ticks": "",
            "zerolinecolor": "#C8D4E3",
            "gridwidth": 2
           },
           "zaxis": {
            "backgroundcolor": "rgb(17,17,17)",
            "gridcolor": "#506784",
            "linecolor": "#506784",
            "showbackground": true,
            "ticks": "",
            "zerolinecolor": "#C8D4E3",
            "gridwidth": 2
           }
          },
          "shapedefaults": {
           "line": {
            "color": "#f2f5fa"
           }
          },
          "annotationdefaults": {
           "arrowcolor": "#f2f5fa",
           "arrowhead": 0,
           "arrowwidth": 1
          },
          "geo": {
           "bgcolor": "rgb(17,17,17)",
           "landcolor": "rgb(17,17,17)",
           "subunitcolor": "#506784",
           "showland": true,
           "showlakes": true,
           "lakecolor": "rgb(17,17,17)"
          },
          "title": {
           "x": 0.05
          },
          "updatemenudefaults": {
           "bgcolor": "#506784",
           "borderwidth": 0
          },
          "sliderdefaults": {
           "bgcolor": "#C8D4E3",
           "borderwidth": 1,
           "bordercolor": "rgb(17,17,17)",
           "tickwidth": 0
          },
          "mapbox": {
           "style": "dark"
          }
         }
        },
        "xaxis": {
         "anchor": "y",
         "domain": [
          0.0,
          1.0
         ],
         "title": {
          "text": "product_name"
         }
        },
        "yaxis": {
         "anchor": "x",
         "domain": [
          0.0,
          1.0
         ],
         "title": {
          "text": "profit"
         }
        },
        "legend": {
         "tracegroupgap": 0
        },
        "title": {
         "text": "Top 10 Products by Profit"
        },
        "barmode": "relative"
       },
       "config": {
        "plotlyServerURL": "https://plot.ly"
       }
      }
     },
     "metadata": {},
     "output_type": "display_data"
    }
   ],
   "execution_count": 43
  },
  {
   "metadata": {
    "ExecuteTime": {
     "end_time": "2025-07-12T16:50:48.053470Z",
     "start_time": "2025-07-12T16:50:47.971113Z"
    }
   },
   "cell_type": "code",
   "source": [
    "category_profit = filtered_products.groupby('category')['profit'].sum().reset_index()\n",
    "plot2 = px.pie(category_profit, values='profit', names='category', title=\"Profit Distribution by Category\")\n",
    "plot2.show()"
   ],
   "id": "1828dcb07602a78b",
   "outputs": [
    {
     "data": {
      "application/vnd.plotly.v1+json": {
       "data": [
        {
         "domain": {
          "x": [
           0.0,
           1.0
          ],
          "y": [
           0.0,
           1.0
          ]
         },
         "hovertemplate": "category=%{label}<br>profit=%{value}<extra></extra>",
         "labels": [
          "Groceries"
         ],
         "legendgroup": "",
         "name": "",
         "showlegend": true,
         "values": {
          "dtype": "f8",
          "bdata": "pHA9KpsJS0E="
         },
         "type": "pie"
        }
       ],
       "layout": {
        "template": {
         "data": {
          "histogram2dcontour": [
           {
            "type": "histogram2dcontour",
            "colorbar": {
             "outlinewidth": 0,
             "ticks": ""
            },
            "colorscale": [
             [
              0.0,
              "#0d0887"
             ],
             [
              0.1111111111111111,
              "#46039f"
             ],
             [
              0.2222222222222222,
              "#7201a8"
             ],
             [
              0.3333333333333333,
              "#9c179e"
             ],
             [
              0.4444444444444444,
              "#bd3786"
             ],
             [
              0.5555555555555556,
              "#d8576b"
             ],
             [
              0.6666666666666666,
              "#ed7953"
             ],
             [
              0.7777777777777778,
              "#fb9f3a"
             ],
             [
              0.8888888888888888,
              "#fdca26"
             ],
             [
              1.0,
              "#f0f921"
             ]
            ]
           }
          ],
          "choropleth": [
           {
            "type": "choropleth",
            "colorbar": {
             "outlinewidth": 0,
             "ticks": ""
            }
           }
          ],
          "histogram2d": [
           {
            "type": "histogram2d",
            "colorbar": {
             "outlinewidth": 0,
             "ticks": ""
            },
            "colorscale": [
             [
              0.0,
              "#0d0887"
             ],
             [
              0.1111111111111111,
              "#46039f"
             ],
             [
              0.2222222222222222,
              "#7201a8"
             ],
             [
              0.3333333333333333,
              "#9c179e"
             ],
             [
              0.4444444444444444,
              "#bd3786"
             ],
             [
              0.5555555555555556,
              "#d8576b"
             ],
             [
              0.6666666666666666,
              "#ed7953"
             ],
             [
              0.7777777777777778,
              "#fb9f3a"
             ],
             [
              0.8888888888888888,
              "#fdca26"
             ],
             [
              1.0,
              "#f0f921"
             ]
            ]
           }
          ],
          "heatmap": [
           {
            "type": "heatmap",
            "colorbar": {
             "outlinewidth": 0,
             "ticks": ""
            },
            "colorscale": [
             [
              0.0,
              "#0d0887"
             ],
             [
              0.1111111111111111,
              "#46039f"
             ],
             [
              0.2222222222222222,
              "#7201a8"
             ],
             [
              0.3333333333333333,
              "#9c179e"
             ],
             [
              0.4444444444444444,
              "#bd3786"
             ],
             [
              0.5555555555555556,
              "#d8576b"
             ],
             [
              0.6666666666666666,
              "#ed7953"
             ],
             [
              0.7777777777777778,
              "#fb9f3a"
             ],
             [
              0.8888888888888888,
              "#fdca26"
             ],
             [
              1.0,
              "#f0f921"
             ]
            ]
           }
          ],
          "contourcarpet": [
           {
            "type": "contourcarpet",
            "colorbar": {
             "outlinewidth": 0,
             "ticks": ""
            }
           }
          ],
          "contour": [
           {
            "type": "contour",
            "colorbar": {
             "outlinewidth": 0,
             "ticks": ""
            },
            "colorscale": [
             [
              0.0,
              "#0d0887"
             ],
             [
              0.1111111111111111,
              "#46039f"
             ],
             [
              0.2222222222222222,
              "#7201a8"
             ],
             [
              0.3333333333333333,
              "#9c179e"
             ],
             [
              0.4444444444444444,
              "#bd3786"
             ],
             [
              0.5555555555555556,
              "#d8576b"
             ],
             [
              0.6666666666666666,
              "#ed7953"
             ],
             [
              0.7777777777777778,
              "#fb9f3a"
             ],
             [
              0.8888888888888888,
              "#fdca26"
             ],
             [
              1.0,
              "#f0f921"
             ]
            ]
           }
          ],
          "surface": [
           {
            "type": "surface",
            "colorbar": {
             "outlinewidth": 0,
             "ticks": ""
            },
            "colorscale": [
             [
              0.0,
              "#0d0887"
             ],
             [
              0.1111111111111111,
              "#46039f"
             ],
             [
              0.2222222222222222,
              "#7201a8"
             ],
             [
              0.3333333333333333,
              "#9c179e"
             ],
             [
              0.4444444444444444,
              "#bd3786"
             ],
             [
              0.5555555555555556,
              "#d8576b"
             ],
             [
              0.6666666666666666,
              "#ed7953"
             ],
             [
              0.7777777777777778,
              "#fb9f3a"
             ],
             [
              0.8888888888888888,
              "#fdca26"
             ],
             [
              1.0,
              "#f0f921"
             ]
            ]
           }
          ],
          "mesh3d": [
           {
            "type": "mesh3d",
            "colorbar": {
             "outlinewidth": 0,
             "ticks": ""
            }
           }
          ],
          "scatter": [
           {
            "marker": {
             "line": {
              "color": "#283442"
             }
            },
            "type": "scatter"
           }
          ],
          "parcoords": [
           {
            "type": "parcoords",
            "line": {
             "colorbar": {
              "outlinewidth": 0,
              "ticks": ""
             }
            }
           }
          ],
          "scatterpolargl": [
           {
            "type": "scatterpolargl",
            "marker": {
             "colorbar": {
              "outlinewidth": 0,
              "ticks": ""
             }
            }
           }
          ],
          "bar": [
           {
            "error_x": {
             "color": "#f2f5fa"
            },
            "error_y": {
             "color": "#f2f5fa"
            },
            "marker": {
             "line": {
              "color": "rgb(17,17,17)",
              "width": 0.5
             },
             "pattern": {
              "fillmode": "overlay",
              "size": 10,
              "solidity": 0.2
             }
            },
            "type": "bar"
           }
          ],
          "scattergeo": [
           {
            "type": "scattergeo",
            "marker": {
             "colorbar": {
              "outlinewidth": 0,
              "ticks": ""
             }
            }
           }
          ],
          "scatterpolar": [
           {
            "type": "scatterpolar",
            "marker": {
             "colorbar": {
              "outlinewidth": 0,
              "ticks": ""
             }
            }
           }
          ],
          "histogram": [
           {
            "marker": {
             "pattern": {
              "fillmode": "overlay",
              "size": 10,
              "solidity": 0.2
             }
            },
            "type": "histogram"
           }
          ],
          "scattergl": [
           {
            "marker": {
             "line": {
              "color": "#283442"
             }
            },
            "type": "scattergl"
           }
          ],
          "scatter3d": [
           {
            "type": "scatter3d",
            "line": {
             "colorbar": {
              "outlinewidth": 0,
              "ticks": ""
             }
            },
            "marker": {
             "colorbar": {
              "outlinewidth": 0,
              "ticks": ""
             }
            }
           }
          ],
          "scattermap": [
           {
            "type": "scattermap",
            "marker": {
             "colorbar": {
              "outlinewidth": 0,
              "ticks": ""
             }
            }
           }
          ],
          "scattermapbox": [
           {
            "type": "scattermapbox",
            "marker": {
             "colorbar": {
              "outlinewidth": 0,
              "ticks": ""
             }
            }
           }
          ],
          "scatterternary": [
           {
            "type": "scatterternary",
            "marker": {
             "colorbar": {
              "outlinewidth": 0,
              "ticks": ""
             }
            }
           }
          ],
          "scattercarpet": [
           {
            "type": "scattercarpet",
            "marker": {
             "colorbar": {
              "outlinewidth": 0,
              "ticks": ""
             }
            }
           }
          ],
          "carpet": [
           {
            "aaxis": {
             "endlinecolor": "#A2B1C6",
             "gridcolor": "#506784",
             "linecolor": "#506784",
             "minorgridcolor": "#506784",
             "startlinecolor": "#A2B1C6"
            },
            "baxis": {
             "endlinecolor": "#A2B1C6",
             "gridcolor": "#506784",
             "linecolor": "#506784",
             "minorgridcolor": "#506784",
             "startlinecolor": "#A2B1C6"
            },
            "type": "carpet"
           }
          ],
          "table": [
           {
            "cells": {
             "fill": {
              "color": "#506784"
             },
             "line": {
              "color": "rgb(17,17,17)"
             }
            },
            "header": {
             "fill": {
              "color": "#2a3f5f"
             },
             "line": {
              "color": "rgb(17,17,17)"
             }
            },
            "type": "table"
           }
          ],
          "barpolar": [
           {
            "marker": {
             "line": {
              "color": "rgb(17,17,17)",
              "width": 0.5
             },
             "pattern": {
              "fillmode": "overlay",
              "size": 10,
              "solidity": 0.2
             }
            },
            "type": "barpolar"
           }
          ],
          "pie": [
           {
            "automargin": true,
            "type": "pie"
           }
          ]
         },
         "layout": {
          "autotypenumbers": "strict",
          "colorway": [
           "#636efa",
           "#EF553B",
           "#00cc96",
           "#ab63fa",
           "#FFA15A",
           "#19d3f3",
           "#FF6692",
           "#B6E880",
           "#FF97FF",
           "#FECB52"
          ],
          "font": {
           "color": "#f2f5fa"
          },
          "hovermode": "closest",
          "hoverlabel": {
           "align": "left"
          },
          "paper_bgcolor": "rgb(17,17,17)",
          "plot_bgcolor": "rgb(17,17,17)",
          "polar": {
           "bgcolor": "rgb(17,17,17)",
           "angularaxis": {
            "gridcolor": "#506784",
            "linecolor": "#506784",
            "ticks": ""
           },
           "radialaxis": {
            "gridcolor": "#506784",
            "linecolor": "#506784",
            "ticks": ""
           }
          },
          "ternary": {
           "bgcolor": "rgb(17,17,17)",
           "aaxis": {
            "gridcolor": "#506784",
            "linecolor": "#506784",
            "ticks": ""
           },
           "baxis": {
            "gridcolor": "#506784",
            "linecolor": "#506784",
            "ticks": ""
           },
           "caxis": {
            "gridcolor": "#506784",
            "linecolor": "#506784",
            "ticks": ""
           }
          },
          "coloraxis": {
           "colorbar": {
            "outlinewidth": 0,
            "ticks": ""
           }
          },
          "colorscale": {
           "sequential": [
            [
             0.0,
             "#0d0887"
            ],
            [
             0.1111111111111111,
             "#46039f"
            ],
            [
             0.2222222222222222,
             "#7201a8"
            ],
            [
             0.3333333333333333,
             "#9c179e"
            ],
            [
             0.4444444444444444,
             "#bd3786"
            ],
            [
             0.5555555555555556,
             "#d8576b"
            ],
            [
             0.6666666666666666,
             "#ed7953"
            ],
            [
             0.7777777777777778,
             "#fb9f3a"
            ],
            [
             0.8888888888888888,
             "#fdca26"
            ],
            [
             1.0,
             "#f0f921"
            ]
           ],
           "sequentialminus": [
            [
             0.0,
             "#0d0887"
            ],
            [
             0.1111111111111111,
             "#46039f"
            ],
            [
             0.2222222222222222,
             "#7201a8"
            ],
            [
             0.3333333333333333,
             "#9c179e"
            ],
            [
             0.4444444444444444,
             "#bd3786"
            ],
            [
             0.5555555555555556,
             "#d8576b"
            ],
            [
             0.6666666666666666,
             "#ed7953"
            ],
            [
             0.7777777777777778,
             "#fb9f3a"
            ],
            [
             0.8888888888888888,
             "#fdca26"
            ],
            [
             1.0,
             "#f0f921"
            ]
           ],
           "diverging": [
            [
             0,
             "#8e0152"
            ],
            [
             0.1,
             "#c51b7d"
            ],
            [
             0.2,
             "#de77ae"
            ],
            [
             0.3,
             "#f1b6da"
            ],
            [
             0.4,
             "#fde0ef"
            ],
            [
             0.5,
             "#f7f7f7"
            ],
            [
             0.6,
             "#e6f5d0"
            ],
            [
             0.7,
             "#b8e186"
            ],
            [
             0.8,
             "#7fbc41"
            ],
            [
             0.9,
             "#4d9221"
            ],
            [
             1,
             "#276419"
            ]
           ]
          },
          "xaxis": {
           "gridcolor": "#283442",
           "linecolor": "#506784",
           "ticks": "",
           "title": {
            "standoff": 15
           },
           "zerolinecolor": "#283442",
           "automargin": true,
           "zerolinewidth": 2
          },
          "yaxis": {
           "gridcolor": "#283442",
           "linecolor": "#506784",
           "ticks": "",
           "title": {
            "standoff": 15
           },
           "zerolinecolor": "#283442",
           "automargin": true,
           "zerolinewidth": 2
          },
          "scene": {
           "xaxis": {
            "backgroundcolor": "rgb(17,17,17)",
            "gridcolor": "#506784",
            "linecolor": "#506784",
            "showbackground": true,
            "ticks": "",
            "zerolinecolor": "#C8D4E3",
            "gridwidth": 2
           },
           "yaxis": {
            "backgroundcolor": "rgb(17,17,17)",
            "gridcolor": "#506784",
            "linecolor": "#506784",
            "showbackground": true,
            "ticks": "",
            "zerolinecolor": "#C8D4E3",
            "gridwidth": 2
           },
           "zaxis": {
            "backgroundcolor": "rgb(17,17,17)",
            "gridcolor": "#506784",
            "linecolor": "#506784",
            "showbackground": true,
            "ticks": "",
            "zerolinecolor": "#C8D4E3",
            "gridwidth": 2
           }
          },
          "shapedefaults": {
           "line": {
            "color": "#f2f5fa"
           }
          },
          "annotationdefaults": {
           "arrowcolor": "#f2f5fa",
           "arrowhead": 0,
           "arrowwidth": 1
          },
          "geo": {
           "bgcolor": "rgb(17,17,17)",
           "landcolor": "rgb(17,17,17)",
           "subunitcolor": "#506784",
           "showland": true,
           "showlakes": true,
           "lakecolor": "rgb(17,17,17)"
          },
          "title": {
           "x": 0.05
          },
          "updatemenudefaults": {
           "bgcolor": "#506784",
           "borderwidth": 0
          },
          "sliderdefaults": {
           "bgcolor": "#C8D4E3",
           "borderwidth": 1,
           "bordercolor": "rgb(17,17,17)",
           "tickwidth": 0
          },
          "mapbox": {
           "style": "dark"
          }
         }
        },
        "legend": {
         "tracegroupgap": 0
        },
        "title": {
         "text": "Profit Distribution by Category"
        }
       },
       "config": {
        "plotlyServerURL": "https://plot.ly"
       }
      }
     },
     "metadata": {},
     "output_type": "display_data"
    }
   ],
   "execution_count": 44
  },
  {
   "metadata": {},
   "cell_type": "markdown",
   "source": "# Tables",
   "id": "f2bba7c1a6cd9fd2"
  },
  {
   "metadata": {
    "ExecuteTime": {
     "end_time": "2025-07-12T16:48:58.848627Z",
     "start_time": "2025-07-12T16:48:58.826346Z"
    }
   },
   "cell_type": "code",
   "source": [
    "summary_df = filtered_products[['product_name', 'category', 'current_stock', 'reorder_level', 'profit', 'stock_status']]\n",
    "summary_df.head()"
   ],
   "id": "d8e4b6c5159b9bf0",
   "outputs": [
    {
     "data": {
      "text/plain": [
       "   product_name   category  current_stock  reorder_level     profit  \\\n",
       "0  Organic Rice  Groceries            658             43  158695.65   \n",
       "1     Olive Oil  Groceries            301             39  146071.62   \n",
       "2  Canned Beans  Groceries            120             30   33407.54   \n",
       "3         Pasta  Groceries            204             36  101732.97   \n",
       "4  Coffee Beans  Groceries            575             27  134286.66   \n",
       "\n",
       "       stock_status  \n",
       "0       Overstocked  \n",
       "1  Properly Stocked  \n",
       "2  Properly Stocked  \n",
       "3  Properly Stocked  \n",
       "4       Overstocked  "
      ],
      "text/html": [
       "<div>\n",
       "<style scoped>\n",
       "    .dataframe tbody tr th:only-of-type {\n",
       "        vertical-align: middle;\n",
       "    }\n",
       "\n",
       "    .dataframe tbody tr th {\n",
       "        vertical-align: top;\n",
       "    }\n",
       "\n",
       "    .dataframe thead th {\n",
       "        text-align: right;\n",
       "    }\n",
       "</style>\n",
       "<table border=\"1\" class=\"dataframe\">\n",
       "  <thead>\n",
       "    <tr style=\"text-align: right;\">\n",
       "      <th></th>\n",
       "      <th>product_name</th>\n",
       "      <th>category</th>\n",
       "      <th>current_stock</th>\n",
       "      <th>reorder_level</th>\n",
       "      <th>profit</th>\n",
       "      <th>stock_status</th>\n",
       "    </tr>\n",
       "  </thead>\n",
       "  <tbody>\n",
       "    <tr>\n",
       "      <th>0</th>\n",
       "      <td>Organic Rice</td>\n",
       "      <td>Groceries</td>\n",
       "      <td>658</td>\n",
       "      <td>43</td>\n",
       "      <td>158695.65</td>\n",
       "      <td>Overstocked</td>\n",
       "    </tr>\n",
       "    <tr>\n",
       "      <th>1</th>\n",
       "      <td>Olive Oil</td>\n",
       "      <td>Groceries</td>\n",
       "      <td>301</td>\n",
       "      <td>39</td>\n",
       "      <td>146071.62</td>\n",
       "      <td>Properly Stocked</td>\n",
       "    </tr>\n",
       "    <tr>\n",
       "      <th>2</th>\n",
       "      <td>Canned Beans</td>\n",
       "      <td>Groceries</td>\n",
       "      <td>120</td>\n",
       "      <td>30</td>\n",
       "      <td>33407.54</td>\n",
       "      <td>Properly Stocked</td>\n",
       "    </tr>\n",
       "    <tr>\n",
       "      <th>3</th>\n",
       "      <td>Pasta</td>\n",
       "      <td>Groceries</td>\n",
       "      <td>204</td>\n",
       "      <td>36</td>\n",
       "      <td>101732.97</td>\n",
       "      <td>Properly Stocked</td>\n",
       "    </tr>\n",
       "    <tr>\n",
       "      <th>4</th>\n",
       "      <td>Coffee Beans</td>\n",
       "      <td>Groceries</td>\n",
       "      <td>575</td>\n",
       "      <td>27</td>\n",
       "      <td>134286.66</td>\n",
       "      <td>Overstocked</td>\n",
       "    </tr>\n",
       "  </tbody>\n",
       "</table>\n",
       "</div>"
      ]
     },
     "execution_count": 41,
     "metadata": {},
     "output_type": "execute_result"
    }
   ],
   "execution_count": 41
  },
  {
   "metadata": {
    "ExecuteTime": {
     "end_time": "2025-06-13T14:50:28.922802Z",
     "start_time": "2025-06-13T14:50:28.911079Z"
    }
   },
   "cell_type": "code",
   "source": "",
   "id": "89ff32d0b0df9dcd",
   "outputs": [],
   "execution_count": 225
  }
 ],
 "metadata": {
  "kernelspec": {
   "display_name": "Python 3",
   "language": "python",
   "name": "python3"
  },
  "language_info": {
   "codemirror_mode": {
    "name": "ipython",
    "version": 2
   },
   "file_extension": ".py",
   "mimetype": "text/x-python",
   "name": "python",
   "nbconvert_exporter": "python",
   "pygments_lexer": "ipython2",
   "version": "2.7.6"
  }
 },
 "nbformat": 4,
 "nbformat_minor": 5
}
