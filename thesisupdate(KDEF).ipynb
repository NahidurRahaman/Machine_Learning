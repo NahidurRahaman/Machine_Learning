{
  "nbformat": 4,
  "nbformat_minor": 0,
  "metadata": {
    "colab": {
      "provenance": [],
      "gpuType": "T4",
      "machine_shape": "hm",
      "include_colab_link": true
    },
    "kernelspec": {
      "name": "python3",
      "display_name": "Python 3"
    },
    "language_info": {
      "name": "python"
    },
    "accelerator": "GPU",
    "widgets": {
      "application/vnd.jupyter.widget-state+json": {
        "bd18b7c453254d04bdc4256953571dfe": {
          "model_module": "@jupyter-widgets/controls",
          "model_name": "HBoxModel",
          "model_module_version": "1.5.0",
          "state": {
            "_dom_classes": [],
            "_model_module": "@jupyter-widgets/controls",
            "_model_module_version": "1.5.0",
            "_model_name": "HBoxModel",
            "_view_count": null,
            "_view_module": "@jupyter-widgets/controls",
            "_view_module_version": "1.5.0",
            "_view_name": "HBoxView",
            "box_style": "",
            "children": [
              "IPY_MODEL_e9550c3fce6a4369bffc8e7087520cfc",
              "IPY_MODEL_731b7041df4845dbbe298551d93eae8a",
              "IPY_MODEL_de15cf2f72784ea894bf421d367e29d7"
            ],
            "layout": "IPY_MODEL_d5b46c4245b44515a7d69c4e3a626902"
          }
        },
        "e9550c3fce6a4369bffc8e7087520cfc": {
          "model_module": "@jupyter-widgets/controls",
          "model_name": "HTMLModel",
          "model_module_version": "1.5.0",
          "state": {
            "_dom_classes": [],
            "_model_module": "@jupyter-widgets/controls",
            "_model_module_version": "1.5.0",
            "_model_name": "HTMLModel",
            "_view_count": null,
            "_view_module": "@jupyter-widgets/controls",
            "_view_module_version": "1.5.0",
            "_view_name": "HTMLView",
            "description": "",
            "description_tooltip": null,
            "layout": "IPY_MODEL_82f992cd338e4082b82d25a8dfc3df87",
            "placeholder": "​",
            "style": "IPY_MODEL_950cac7cb5ef435795bf97c633fce33b",
            "value": "model.safetensors: 100%"
          }
        },
        "731b7041df4845dbbe298551d93eae8a": {
          "model_module": "@jupyter-widgets/controls",
          "model_name": "FloatProgressModel",
          "model_module_version": "1.5.0",
          "state": {
            "_dom_classes": [],
            "_model_module": "@jupyter-widgets/controls",
            "_model_module_version": "1.5.0",
            "_model_name": "FloatProgressModel",
            "_view_count": null,
            "_view_module": "@jupyter-widgets/controls",
            "_view_module_version": "1.5.0",
            "_view_name": "ProgressView",
            "bar_style": "success",
            "description": "",
            "description_tooltip": null,
            "layout": "IPY_MODEL_732848e1fb5140e8ad7e09b258ac2506",
            "max": 193322802,
            "min": 0,
            "orientation": "horizontal",
            "style": "IPY_MODEL_cd50ac7e5d7d4cc680915125d479a481",
            "value": 193322802
          }
        },
        "de15cf2f72784ea894bf421d367e29d7": {
          "model_module": "@jupyter-widgets/controls",
          "model_name": "HTMLModel",
          "model_module_version": "1.5.0",
          "state": {
            "_dom_classes": [],
            "_model_module": "@jupyter-widgets/controls",
            "_model_module_version": "1.5.0",
            "_model_name": "HTMLModel",
            "_view_count": null,
            "_view_module": "@jupyter-widgets/controls",
            "_view_module_version": "1.5.0",
            "_view_name": "HTMLView",
            "description": "",
            "description_tooltip": null,
            "layout": "IPY_MODEL_b4da056f05474235907cc1871db143e0",
            "placeholder": "​",
            "style": "IPY_MODEL_b3a74b922b144a39889bd443bfff1589",
            "value": " 193M/193M [00:03&lt;00:00, 91.7MB/s]"
          }
        },
        "d5b46c4245b44515a7d69c4e3a626902": {
          "model_module": "@jupyter-widgets/base",
          "model_name": "LayoutModel",
          "model_module_version": "1.2.0",
          "state": {
            "_model_module": "@jupyter-widgets/base",
            "_model_module_version": "1.2.0",
            "_model_name": "LayoutModel",
            "_view_count": null,
            "_view_module": "@jupyter-widgets/base",
            "_view_module_version": "1.2.0",
            "_view_name": "LayoutView",
            "align_content": null,
            "align_items": null,
            "align_self": null,
            "border": null,
            "bottom": null,
            "display": null,
            "flex": null,
            "flex_flow": null,
            "grid_area": null,
            "grid_auto_columns": null,
            "grid_auto_flow": null,
            "grid_auto_rows": null,
            "grid_column": null,
            "grid_gap": null,
            "grid_row": null,
            "grid_template_areas": null,
            "grid_template_columns": null,
            "grid_template_rows": null,
            "height": null,
            "justify_content": null,
            "justify_items": null,
            "left": null,
            "margin": null,
            "max_height": null,
            "max_width": null,
            "min_height": null,
            "min_width": null,
            "object_fit": null,
            "object_position": null,
            "order": null,
            "overflow": null,
            "overflow_x": null,
            "overflow_y": null,
            "padding": null,
            "right": null,
            "top": null,
            "visibility": null,
            "width": null
          }
        },
        "82f992cd338e4082b82d25a8dfc3df87": {
          "model_module": "@jupyter-widgets/base",
          "model_name": "LayoutModel",
          "model_module_version": "1.2.0",
          "state": {
            "_model_module": "@jupyter-widgets/base",
            "_model_module_version": "1.2.0",
            "_model_name": "LayoutModel",
            "_view_count": null,
            "_view_module": "@jupyter-widgets/base",
            "_view_module_version": "1.2.0",
            "_view_name": "LayoutView",
            "align_content": null,
            "align_items": null,
            "align_self": null,
            "border": null,
            "bottom": null,
            "display": null,
            "flex": null,
            "flex_flow": null,
            "grid_area": null,
            "grid_auto_columns": null,
            "grid_auto_flow": null,
            "grid_auto_rows": null,
            "grid_column": null,
            "grid_gap": null,
            "grid_row": null,
            "grid_template_areas": null,
            "grid_template_columns": null,
            "grid_template_rows": null,
            "height": null,
            "justify_content": null,
            "justify_items": null,
            "left": null,
            "margin": null,
            "max_height": null,
            "max_width": null,
            "min_height": null,
            "min_width": null,
            "object_fit": null,
            "object_position": null,
            "order": null,
            "overflow": null,
            "overflow_x": null,
            "overflow_y": null,
            "padding": null,
            "right": null,
            "top": null,
            "visibility": null,
            "width": null
          }
        },
        "950cac7cb5ef435795bf97c633fce33b": {
          "model_module": "@jupyter-widgets/controls",
          "model_name": "DescriptionStyleModel",
          "model_module_version": "1.5.0",
          "state": {
            "_model_module": "@jupyter-widgets/controls",
            "_model_module_version": "1.5.0",
            "_model_name": "DescriptionStyleModel",
            "_view_count": null,
            "_view_module": "@jupyter-widgets/base",
            "_view_module_version": "1.2.0",
            "_view_name": "StyleView",
            "description_width": ""
          }
        },
        "732848e1fb5140e8ad7e09b258ac2506": {
          "model_module": "@jupyter-widgets/base",
          "model_name": "LayoutModel",
          "model_module_version": "1.2.0",
          "state": {
            "_model_module": "@jupyter-widgets/base",
            "_model_module_version": "1.2.0",
            "_model_name": "LayoutModel",
            "_view_count": null,
            "_view_module": "@jupyter-widgets/base",
            "_view_module_version": "1.2.0",
            "_view_name": "LayoutView",
            "align_content": null,
            "align_items": null,
            "align_self": null,
            "border": null,
            "bottom": null,
            "display": null,
            "flex": null,
            "flex_flow": null,
            "grid_area": null,
            "grid_auto_columns": null,
            "grid_auto_flow": null,
            "grid_auto_rows": null,
            "grid_column": null,
            "grid_gap": null,
            "grid_row": null,
            "grid_template_areas": null,
            "grid_template_columns": null,
            "grid_template_rows": null,
            "height": null,
            "justify_content": null,
            "justify_items": null,
            "left": null,
            "margin": null,
            "max_height": null,
            "max_width": null,
            "min_height": null,
            "min_width": null,
            "object_fit": null,
            "object_position": null,
            "order": null,
            "overflow": null,
            "overflow_x": null,
            "overflow_y": null,
            "padding": null,
            "right": null,
            "top": null,
            "visibility": null,
            "width": null
          }
        },
        "cd50ac7e5d7d4cc680915125d479a481": {
          "model_module": "@jupyter-widgets/controls",
          "model_name": "ProgressStyleModel",
          "model_module_version": "1.5.0",
          "state": {
            "_model_module": "@jupyter-widgets/controls",
            "_model_module_version": "1.5.0",
            "_model_name": "ProgressStyleModel",
            "_view_count": null,
            "_view_module": "@jupyter-widgets/base",
            "_view_module_version": "1.2.0",
            "_view_name": "StyleView",
            "bar_color": null,
            "description_width": ""
          }
        },
        "b4da056f05474235907cc1871db143e0": {
          "model_module": "@jupyter-widgets/base",
          "model_name": "LayoutModel",
          "model_module_version": "1.2.0",
          "state": {
            "_model_module": "@jupyter-widgets/base",
            "_model_module_version": "1.2.0",
            "_model_name": "LayoutModel",
            "_view_count": null,
            "_view_module": "@jupyter-widgets/base",
            "_view_module_version": "1.2.0",
            "_view_name": "LayoutView",
            "align_content": null,
            "align_items": null,
            "align_self": null,
            "border": null,
            "bottom": null,
            "display": null,
            "flex": null,
            "flex_flow": null,
            "grid_area": null,
            "grid_auto_columns": null,
            "grid_auto_flow": null,
            "grid_auto_rows": null,
            "grid_column": null,
            "grid_gap": null,
            "grid_row": null,
            "grid_template_areas": null,
            "grid_template_columns": null,
            "grid_template_rows": null,
            "height": null,
            "justify_content": null,
            "justify_items": null,
            "left": null,
            "margin": null,
            "max_height": null,
            "max_width": null,
            "min_height": null,
            "min_width": null,
            "object_fit": null,
            "object_position": null,
            "order": null,
            "overflow": null,
            "overflow_x": null,
            "overflow_y": null,
            "padding": null,
            "right": null,
            "top": null,
            "visibility": null,
            "width": null
          }
        },
        "b3a74b922b144a39889bd443bfff1589": {
          "model_module": "@jupyter-widgets/controls",
          "model_name": "DescriptionStyleModel",
          "model_module_version": "1.5.0",
          "state": {
            "_model_module": "@jupyter-widgets/controls",
            "_model_module_version": "1.5.0",
            "_model_name": "DescriptionStyleModel",
            "_view_count": null,
            "_view_module": "@jupyter-widgets/base",
            "_view_module_version": "1.2.0",
            "_view_name": "StyleView",
            "description_width": ""
          }
        },
        "e4fd3f2b953342f783624bfaed03753e": {
          "model_module": "@jupyter-widgets/controls",
          "model_name": "HBoxModel",
          "model_module_version": "1.5.0",
          "state": {
            "_dom_classes": [],
            "_model_module": "@jupyter-widgets/controls",
            "_model_module_version": "1.5.0",
            "_model_name": "HBoxModel",
            "_view_count": null,
            "_view_module": "@jupyter-widgets/controls",
            "_view_module_version": "1.5.0",
            "_view_name": "HBoxView",
            "box_style": "",
            "children": [
              "IPY_MODEL_8810e8f8d8b44c6e99307e03fd043928",
              "IPY_MODEL_3c4f4e7b0a9142d3889f9d9de8507e1c",
              "IPY_MODEL_4209f93af6a74abdb188b3a6770786cf"
            ],
            "layout": "IPY_MODEL_30b24039567e4dbe90bad44513f94137"
          }
        },
        "8810e8f8d8b44c6e99307e03fd043928": {
          "model_module": "@jupyter-widgets/controls",
          "model_name": "HTMLModel",
          "model_module_version": "1.5.0",
          "state": {
            "_dom_classes": [],
            "_model_module": "@jupyter-widgets/controls",
            "_model_module_version": "1.5.0",
            "_model_name": "HTMLModel",
            "_view_count": null,
            "_view_module": "@jupyter-widgets/controls",
            "_view_module_version": "1.5.0",
            "_view_name": "HTMLView",
            "description": "",
            "description_tooltip": null,
            "layout": "IPY_MODEL_db4804d2a14142b1b5d8f5632db9e149",
            "placeholder": "​",
            "style": "IPY_MODEL_d5a98a6feeb94dfaa5aff94c66089cea",
            "value": "model.safetensors: 100%"
          }
        },
        "3c4f4e7b0a9142d3889f9d9de8507e1c": {
          "model_module": "@jupyter-widgets/controls",
          "model_name": "FloatProgressModel",
          "model_module_version": "1.5.0",
          "state": {
            "_dom_classes": [],
            "_model_module": "@jupyter-widgets/controls",
            "_model_module_version": "1.5.0",
            "_model_name": "FloatProgressModel",
            "_view_count": null,
            "_view_module": "@jupyter-widgets/controls",
            "_view_module_version": "1.5.0",
            "_view_name": "ProgressView",
            "bar_style": "success",
            "description": "",
            "description_tooltip": null,
            "layout": "IPY_MODEL_918ae77302724c888d6153482c80ebfb",
            "max": 114374272,
            "min": 0,
            "orientation": "horizontal",
            "style": "IPY_MODEL_81614cc460684dfaa894c0f0ecc77c5f",
            "value": 114374272
          }
        },
        "4209f93af6a74abdb188b3a6770786cf": {
          "model_module": "@jupyter-widgets/controls",
          "model_name": "HTMLModel",
          "model_module_version": "1.5.0",
          "state": {
            "_dom_classes": [],
            "_model_module": "@jupyter-widgets/controls",
            "_model_module_version": "1.5.0",
            "_model_name": "HTMLModel",
            "_view_count": null,
            "_view_module": "@jupyter-widgets/controls",
            "_view_module_version": "1.5.0",
            "_view_name": "HTMLView",
            "description": "",
            "description_tooltip": null,
            "layout": "IPY_MODEL_85908da84f06477bb5cab940ab984cbf",
            "placeholder": "​",
            "style": "IPY_MODEL_9bc539e035814c85b61bd230a80d6ea5",
            "value": " 114M/114M [00:00&lt;00:00, 181MB/s]"
          }
        },
        "30b24039567e4dbe90bad44513f94137": {
          "model_module": "@jupyter-widgets/base",
          "model_name": "LayoutModel",
          "model_module_version": "1.2.0",
          "state": {
            "_model_module": "@jupyter-widgets/base",
            "_model_module_version": "1.2.0",
            "_model_name": "LayoutModel",
            "_view_count": null,
            "_view_module": "@jupyter-widgets/base",
            "_view_module_version": "1.2.0",
            "_view_name": "LayoutView",
            "align_content": null,
            "align_items": null,
            "align_self": null,
            "border": null,
            "bottom": null,
            "display": null,
            "flex": null,
            "flex_flow": null,
            "grid_area": null,
            "grid_auto_columns": null,
            "grid_auto_flow": null,
            "grid_auto_rows": null,
            "grid_column": null,
            "grid_gap": null,
            "grid_row": null,
            "grid_template_areas": null,
            "grid_template_columns": null,
            "grid_template_rows": null,
            "height": null,
            "justify_content": null,
            "justify_items": null,
            "left": null,
            "margin": null,
            "max_height": null,
            "max_width": null,
            "min_height": null,
            "min_width": null,
            "object_fit": null,
            "object_position": null,
            "order": null,
            "overflow": null,
            "overflow_x": null,
            "overflow_y": null,
            "padding": null,
            "right": null,
            "top": null,
            "visibility": null,
            "width": null
          }
        },
        "db4804d2a14142b1b5d8f5632db9e149": {
          "model_module": "@jupyter-widgets/base",
          "model_name": "LayoutModel",
          "model_module_version": "1.2.0",
          "state": {
            "_model_module": "@jupyter-widgets/base",
            "_model_module_version": "1.2.0",
            "_model_name": "LayoutModel",
            "_view_count": null,
            "_view_module": "@jupyter-widgets/base",
            "_view_module_version": "1.2.0",
            "_view_name": "LayoutView",
            "align_content": null,
            "align_items": null,
            "align_self": null,
            "border": null,
            "bottom": null,
            "display": null,
            "flex": null,
            "flex_flow": null,
            "grid_area": null,
            "grid_auto_columns": null,
            "grid_auto_flow": null,
            "grid_auto_rows": null,
            "grid_column": null,
            "grid_gap": null,
            "grid_row": null,
            "grid_template_areas": null,
            "grid_template_columns": null,
            "grid_template_rows": null,
            "height": null,
            "justify_content": null,
            "justify_items": null,
            "left": null,
            "margin": null,
            "max_height": null,
            "max_width": null,
            "min_height": null,
            "min_width": null,
            "object_fit": null,
            "object_position": null,
            "order": null,
            "overflow": null,
            "overflow_x": null,
            "overflow_y": null,
            "padding": null,
            "right": null,
            "top": null,
            "visibility": null,
            "width": null
          }
        },
        "d5a98a6feeb94dfaa5aff94c66089cea": {
          "model_module": "@jupyter-widgets/controls",
          "model_name": "DescriptionStyleModel",
          "model_module_version": "1.5.0",
          "state": {
            "_model_module": "@jupyter-widgets/controls",
            "_model_module_version": "1.5.0",
            "_model_name": "DescriptionStyleModel",
            "_view_count": null,
            "_view_module": "@jupyter-widgets/base",
            "_view_module_version": "1.2.0",
            "_view_name": "StyleView",
            "description_width": ""
          }
        },
        "918ae77302724c888d6153482c80ebfb": {
          "model_module": "@jupyter-widgets/base",
          "model_name": "LayoutModel",
          "model_module_version": "1.2.0",
          "state": {
            "_model_module": "@jupyter-widgets/base",
            "_model_module_version": "1.2.0",
            "_model_name": "LayoutModel",
            "_view_count": null,
            "_view_module": "@jupyter-widgets/base",
            "_view_module_version": "1.2.0",
            "_view_name": "LayoutView",
            "align_content": null,
            "align_items": null,
            "align_self": null,
            "border": null,
            "bottom": null,
            "display": null,
            "flex": null,
            "flex_flow": null,
            "grid_area": null,
            "grid_auto_columns": null,
            "grid_auto_flow": null,
            "grid_auto_rows": null,
            "grid_column": null,
            "grid_gap": null,
            "grid_row": null,
            "grid_template_areas": null,
            "grid_template_columns": null,
            "grid_template_rows": null,
            "height": null,
            "justify_content": null,
            "justify_items": null,
            "left": null,
            "margin": null,
            "max_height": null,
            "max_width": null,
            "min_height": null,
            "min_width": null,
            "object_fit": null,
            "object_position": null,
            "order": null,
            "overflow": null,
            "overflow_x": null,
            "overflow_y": null,
            "padding": null,
            "right": null,
            "top": null,
            "visibility": null,
            "width": null
          }
        },
        "81614cc460684dfaa894c0f0ecc77c5f": {
          "model_module": "@jupyter-widgets/controls",
          "model_name": "ProgressStyleModel",
          "model_module_version": "1.5.0",
          "state": {
            "_model_module": "@jupyter-widgets/controls",
            "_model_module_version": "1.5.0",
            "_model_name": "ProgressStyleModel",
            "_view_count": null,
            "_view_module": "@jupyter-widgets/base",
            "_view_module_version": "1.2.0",
            "_view_name": "StyleView",
            "bar_color": null,
            "description_width": ""
          }
        },
        "85908da84f06477bb5cab940ab984cbf": {
          "model_module": "@jupyter-widgets/base",
          "model_name": "LayoutModel",
          "model_module_version": "1.2.0",
          "state": {
            "_model_module": "@jupyter-widgets/base",
            "_model_module_version": "1.2.0",
            "_model_name": "LayoutModel",
            "_view_count": null,
            "_view_module": "@jupyter-widgets/base",
            "_view_module_version": "1.2.0",
            "_view_name": "LayoutView",
            "align_content": null,
            "align_items": null,
            "align_self": null,
            "border": null,
            "bottom": null,
            "display": null,
            "flex": null,
            "flex_flow": null,
            "grid_area": null,
            "grid_auto_columns": null,
            "grid_auto_flow": null,
            "grid_auto_rows": null,
            "grid_column": null,
            "grid_gap": null,
            "grid_row": null,
            "grid_template_areas": null,
            "grid_template_columns": null,
            "grid_template_rows": null,
            "height": null,
            "justify_content": null,
            "justify_items": null,
            "left": null,
            "margin": null,
            "max_height": null,
            "max_width": null,
            "min_height": null,
            "min_width": null,
            "object_fit": null,
            "object_position": null,
            "order": null,
            "overflow": null,
            "overflow_x": null,
            "overflow_y": null,
            "padding": null,
            "right": null,
            "top": null,
            "visibility": null,
            "width": null
          }
        },
        "9bc539e035814c85b61bd230a80d6ea5": {
          "model_module": "@jupyter-widgets/controls",
          "model_name": "DescriptionStyleModel",
          "model_module_version": "1.5.0",
          "state": {
            "_model_module": "@jupyter-widgets/controls",
            "_model_module_version": "1.5.0",
            "_model_name": "DescriptionStyleModel",
            "_view_count": null,
            "_view_module": "@jupyter-widgets/base",
            "_view_module_version": "1.2.0",
            "_view_name": "StyleView",
            "description_width": ""
          }
        }
      }
    }
  },
  "cells": [
    {
      "cell_type": "markdown",
      "metadata": {
        "id": "view-in-github",
        "colab_type": "text"
      },
      "source": [
        "<a href=\"https://colab.research.google.com/github/NahidurRahaman/Machine_Learning/blob/main/thesisupdate(KDEF).ipynb\" target=\"_parent\"><img src=\"https://colab.research.google.com/assets/colab-badge.svg\" alt=\"Open In Colab\"/></a>"
      ]
    },
    {
      "cell_type": "code",
      "execution_count": 1,
      "metadata": {
        "id": "lNLXIYuJ98-_"
      },
      "outputs": [],
      "source": [
        "import pandas as pd\n",
        "import numpy as np\n",
        "import cv2\n",
        "import torch\n",
        "from torch.utils.data import Dataset, DataLoader\n",
        "from torchvision import transforms\n",
        "from PIL import Image\n",
        "from sklearn.model_selection import train_test_split"
      ]
    },
    {
      "cell_type": "code",
      "source": [
        "# Mount Google Drive\n",
        "from google.colab import drive\n",
        "drive.mount('/content/drive')"
      ],
      "metadata": {
        "colab": {
          "base_uri": "https://localhost:8080/"
        },
        "id": "YgRwbAaa_OwO",
        "outputId": "01d30caa-286d-40e1-cb9d-f9a7bf52022a"
      },
      "execution_count": 2,
      "outputs": [
        {
          "output_type": "stream",
          "name": "stdout",
          "text": [
            "Mounted at /content/drive\n"
          ]
        }
      ]
    },
    {
      "cell_type": "code",
      "source": [
        "# Load FER2013 CSV\n",
        "csv_path = '/content/drive/MyDrive/FER2013/kdef_train_pixel.csv'  # update path if needed\n",
        "df = pd.read_csv(csv_path)"
      ],
      "metadata": {
        "id": "-SmW6aB5_c7G"
      },
      "execution_count": 3,
      "outputs": []
    },
    {
      "cell_type": "code",
      "source": [
        "# Define emotion classes\n",
        "emotion_labels = {\n",
        "    0: 'Angry', 1: 'Disgust', 2: 'Fear', 3: 'Happy',\n",
        "    4: 'Sad', 5: 'Surprise', 6: 'Neutral'\n",
        "}\n",
        "\n",
        "import csv # Import the csv module\n",
        "\n",
        "# Custom dataset from CSV\n",
        "class FER2013Dataset(Dataset):\n",
        "    def __init__(self, dataframe, transform=None):\n",
        "        self.df = dataframe\n",
        "        self.transform = transform\n",
        "\n",
        "    def __len__(self):\n",
        "        return len(self.df)\n",
        "\n",
        "    def __getitem__(self, idx):\n",
        "        pixels = list(map(int, self.df.iloc[idx][\"pixels\"].split()))\n",
        "        img = np.asarray(pixels).reshape(48, 48).astype(np.uint8)\n",
        "        img = Image.fromarray(img).convert(\"L\")\n",
        "        img = img.convert(\"RGB\")  # convert to 3-channel RGB\n",
        "\n",
        "        if self.transform:\n",
        "            img = self.transform(img)\n",
        "\n",
        "        label = int(self.df.iloc[idx][\"emotion\"])\n",
        "        return img, label"
      ],
      "metadata": {
        "id": "WPAScUxU_fee"
      },
      "execution_count": 4,
      "outputs": []
    },
    {
      "cell_type": "code",
      "source": [
        "train_transforms = transforms.Compose([\n",
        "    transforms.RandomRotation(40),                     # rotation_range=40\n",
        "    transforms.RandomAffine(\n",
        "        degrees=0,\n",
        "        translate=(0.25, 0.25),                        # width_shift, height_shift\n",
        "        shear=0.25,                                    # shear_range=0.25\n",
        "        scale=(0.75, 1.25),                            # zoom_range=±25%\n",
        "        fill=0                                         # fill_mode='nearest' (0 means black fill)\n",
        "    ),\n",
        "    transforms.RandomHorizontalFlip(p=0.5),            # horizontal_flip=True\n",
        "    transforms.ToTensor(),\n",
        "    transforms.Normalize(mean=[0.5, 0.5, 0.5],\n",
        "                         std=[0.5, 0.5, 0.5])\n",
        "])"
      ],
      "metadata": {
        "id": "Oh56y5O30jyu"
      },
      "execution_count": 5,
      "outputs": []
    },
    {
      "cell_type": "code",
      "source": [
        "import torch\n",
        "from torchvision import transforms, datasets\n",
        "from torch.utils.data import DataLoader\n",
        "\n",
        "# =========================\n",
        "# 1. Augmentation + Normalization\n",
        "# =========================\n",
        "\n",
        "# Training transformations\n",
        "train_transforms = transforms.Compose([\n",
        "    transforms.RandomResizedCrop(224, scale=(0.8, 1.0)),  # random zoom crop\n",
        "    transforms.RandomHorizontalFlip(),                    # flip\n",
        "    transforms.RandomRotation(15),                        # rotate\n",
        "    transforms.ColorJitter(brightness=0.2, contrast=0.2, saturation=0.2),\n",
        "    transforms.ToTensor(),\n",
        "    transforms.Normalize([0.5]*3, [0.5]*3)                # normalize\n",
        "])\n",
        "val_transforms = transforms.Compose([\n",
        "    transforms.Grayscale(num_output_channels=3), # Ensure 3 channels for validation as well\n",
        "    transforms.Resize((224, 224)),\n",
        "    transforms.ToTensor(),\n",
        "    transforms.Normalize(mean=[0.5, 0.5, 0.5],\n",
        "                         std=[0.5, 0.5, 0.5])\n",
        "])\n",
        "\n",
        "# =========================\n",
        "# 2. Load FER2013 dataset\n",
        "# =========================\n",
        "# Assuming you have FER2013 in 'data/FER2013' folder in csv or folder format\n",
        "# If folder format:\n",
        "train_dataset = datasets.ImageFolder(root='/content/drive/MyDrive/FER2013/train', transform=train_transforms)\n",
        "val_dataset = datasets.ImageFolder(root='/content/drive/MyDrive//FER2013/test', transform=val_transforms)\n",
        "\n",
        "# =========================\n",
        "# 3. DataLoaders\n",
        "# =========================\n",
        "train_loader = DataLoader(train_dataset, batch_size=16, shuffle=True, num_workers=4)\n",
        "val_loader = DataLoader(val_dataset, batch_size=16, shuffle=False, num_workers=4)\n",
        "\n",
        "# =========================\n",
        "# 4. Check one batch\n",
        "# =========================\n",
        "images, labels = next(iter(train_loader))\n",
        "print(\"Batch shape:\", images.shape)   # [batch_size, channels, height, width]\n",
        "print(\"Labels shape:\", labels.shape)"
      ],
      "metadata": {
        "id": "W7DkIsuCIj6X",
        "colab": {
          "base_uri": "https://localhost:8080/"
        },
        "outputId": "4a272f9c-0821-408a-b694-973298a2f930"
      },
      "execution_count": 6,
      "outputs": [
        {
          "output_type": "stream",
          "name": "stderr",
          "text": [
            "/usr/local/lib/python3.12/dist-packages/torch/utils/data/dataloader.py:627: UserWarning: This DataLoader will create 4 worker processes in total. Our suggested max number of worker in current system is 2, which is smaller than what this DataLoader is going to create. Please be aware that excessive worker creation might get DataLoader running slow or even freeze, lower the worker number to avoid potential slowness/freeze if necessary.\n",
            "  warnings.warn(\n"
          ]
        },
        {
          "output_type": "stream",
          "name": "stdout",
          "text": [
            "Batch shape: torch.Size([16, 3, 224, 224])\n",
            "Labels shape: torch.Size([16])\n"
          ]
        }
      ]
    },
    {
      "cell_type": "markdown",
      "metadata": {
        "id": "56690c88"
      },
      "source": [
        "Here is the code for the SRCNN model provided by the user. Note that this model is designed for super-resolution and takes a single-channel image as input and outputs a single-channel image."
      ]
    },
    {
      "cell_type": "code",
      "source": [
        "import torch.nn as nn\n",
        "import timm\n"
      ],
      "metadata": {
        "id": "VQ-zXTzlA8W3"
      },
      "execution_count": 7,
      "outputs": []
    },
    {
      "cell_type": "code",
      "source": [
        "class EfficientNetV2S_FeatureExtractor(nn.Module):\n",
        "    def __init__(self):\n",
        "        super(EfficientNetV2S_FeatureExtractor, self).__init__()\n",
        "        self.backbone = timm.create_model('tf_efficientnetv2_s.in21k', pretrained=True, features_only=True)\n",
        "\n",
        "    def forward(self, x):\n",
        "        features = self.backbone(x)\n",
        "        return features[-1]  # (B, 1280, 7, 7)"
      ],
      "metadata": {
        "id": "nZwqBT6GBu-_"
      },
      "execution_count": 8,
      "outputs": []
    },
    {
      "cell_type": "code",
      "source": [
        "%env CUDA_LAUNCH_BLOCKING=1"
      ],
      "metadata": {
        "id": "X4VfVtr2uDg6",
        "colab": {
          "base_uri": "https://localhost:8080/"
        },
        "outputId": "4e16ea19-5a4c-4f82-d1e2-20a5022d929a"
      },
      "execution_count": 9,
      "outputs": [
        {
          "output_type": "stream",
          "name": "stdout",
          "text": [
            "env: CUDA_LAUNCH_BLOCKING=1\n"
          ]
        }
      ]
    },
    {
      "cell_type": "code",
      "source": [
        "device = torch.device(\"cuda\" if torch.cuda.is_available() else \"cpu\")\n",
        "\n",
        "# Load model\n",
        "efficientnet_model = EfficientNetV2S_FeatureExtractor().to(device)\n",
        "efficientnet_model.eval()\n",
        "\n",
        "# Use first batch from train_loader\n",
        "for images, labels in train_loader:\n",
        "    images = images.to(device)  # shape: (B, 3, 224, 224)\n",
        "    labels = labels.to(device)\n",
        "\n",
        "    with torch.no_grad():\n",
        "        features = efficientnet_model(images)  # shape: (B, 1280, 7, 7)\n",
        "\n",
        "    print(\"Input shape:\", images.shape)\n",
        "    print(\"EfficientNetV2-S Output shape:\", features.shape)\n",
        "    break"
      ],
      "metadata": {
        "id": "MANXo_wqB2yG",
        "colab": {
          "base_uri": "https://localhost:8080/",
          "height": 260,
          "referenced_widgets": [
            "bd18b7c453254d04bdc4256953571dfe",
            "e9550c3fce6a4369bffc8e7087520cfc",
            "731b7041df4845dbbe298551d93eae8a",
            "de15cf2f72784ea894bf421d367e29d7",
            "d5b46c4245b44515a7d69c4e3a626902",
            "82f992cd338e4082b82d25a8dfc3df87",
            "950cac7cb5ef435795bf97c633fce33b",
            "732848e1fb5140e8ad7e09b258ac2506",
            "cd50ac7e5d7d4cc680915125d479a481",
            "b4da056f05474235907cc1871db143e0",
            "b3a74b922b144a39889bd443bfff1589"
          ]
        },
        "outputId": "02579f79-9081-4109-e172-515da06488a8"
      },
      "execution_count": 10,
      "outputs": [
        {
          "output_type": "stream",
          "name": "stderr",
          "text": [
            "/usr/local/lib/python3.12/dist-packages/huggingface_hub/utils/_auth.py:94: UserWarning: \n",
            "The secret `HF_TOKEN` does not exist in your Colab secrets.\n",
            "To authenticate with the Hugging Face Hub, create a token in your settings tab (https://huggingface.co/settings/tokens), set it as secret in your Google Colab and restart your session.\n",
            "You will be able to reuse this secret in all of your notebooks.\n",
            "Please note that authentication is recommended but still optional to access public models or datasets.\n",
            "  warnings.warn(\n"
          ]
        },
        {
          "output_type": "display_data",
          "data": {
            "text/plain": [
              "model.safetensors:   0%|          | 0.00/193M [00:00<?, ?B/s]"
            ],
            "application/vnd.jupyter.widget-view+json": {
              "version_major": 2,
              "version_minor": 0,
              "model_id": "bd18b7c453254d04bdc4256953571dfe"
            }
          },
          "metadata": {}
        },
        {
          "output_type": "stream",
          "name": "stderr",
          "text": [
            "WARNING:timm.models._builder:Unexpected keys (bn2.num_batches_tracked, bn2.bias, bn2.running_mean, bn2.running_var, bn2.weight, conv_head.weight) found while loading pretrained weights. This may be expected if model is being adapted.\n",
            "/usr/local/lib/python3.12/dist-packages/torch/utils/data/dataloader.py:627: UserWarning: This DataLoader will create 4 worker processes in total. Our suggested max number of worker in current system is 2, which is smaller than what this DataLoader is going to create. Please be aware that excessive worker creation might get DataLoader running slow or even freeze, lower the worker number to avoid potential slowness/freeze if necessary.\n",
            "  warnings.warn(\n"
          ]
        },
        {
          "output_type": "stream",
          "name": "stdout",
          "text": [
            "Input shape: torch.Size([16, 3, 224, 224])\n",
            "EfficientNetV2-S Output shape: torch.Size([16, 256, 7, 7])\n"
          ]
        }
      ]
    },
    {
      "cell_type": "code",
      "metadata": {
        "id": "40bf4f5c"
      },
      "source": [],
      "execution_count": 10,
      "outputs": []
    },
    {
      "cell_type": "code",
      "source": [
        "class ConvNeXtBlock(nn.Module):\n",
        "    def __init__(self, in_channels=256, out_channels=256):\n",
        "        super(ConvNeXtBlock, self).__init__()\n",
        "        self.convnext = timm.create_model('convnext_tiny', pretrained=True, features_only=True)\n",
        "        self.proj = nn.Conv2d(in_channels, out_channels, kernel_size=1)\n",
        "\n",
        "    def forward(self, x):\n",
        "        x = self.proj(x)  # Reduce 256 → 256 (no change)\n",
        "        return x  # shape: B × 256 × 7 × 7"
      ],
      "metadata": {
        "id": "xQ4v-xgvC7Xu"
      },
      "execution_count": 11,
      "outputs": []
    },
    {
      "cell_type": "code",
      "source": [
        "class SE_MBConvBlock(nn.Module):\n",
        "    def __init__(self, in_channels=256, out_channels=256):\n",
        "        super(SE_MBConvBlock, self).__init__()\n",
        "        self.expand = nn.Conv2d(in_channels, in_channels * 6, kernel_size=1)\n",
        "        self.depthwise = nn.Conv2d(in_channels * 6, in_channels * 6, kernel_size=3, padding=1, groups=in_channels * 6)\n",
        "        self.se = nn.Sequential(\n",
        "            nn.AdaptiveAvgPool2d(1),\n",
        "            nn.Conv2d(in_channels * 6, in_channels // 4, 1),\n",
        "            nn.ReLU(),\n",
        "            nn.Conv2d(in_channels // 4, in_channels * 6, 1),\n",
        "            nn.Sigmoid()\n",
        "        )\n",
        "        self.project = nn.Conv2d(in_channels * 6, out_channels, kernel_size=1)\n",
        "\n",
        "    def forward(self, x):\n",
        "        x = self.expand(x)\n",
        "        x = self.depthwise(x)\n",
        "        se_weight = self.se(x)\n",
        "        x = x * se_weight\n",
        "        x = self.project(x)\n",
        "        return x  # shape: B × 256 × 7 × 7"
      ],
      "metadata": {
        "id": "RjQjJCn1Dmku"
      },
      "execution_count": 12,
      "outputs": []
    },
    {
      "cell_type": "code",
      "source": [
        "adaptive_pool = nn.AdaptiveAvgPool2d((28, 28))\n"
      ],
      "metadata": {
        "id": "NgLnq-bkDrI-"
      },
      "execution_count": 13,
      "outputs": []
    },
    {
      "cell_type": "code",
      "source": [
        "class MultiBranchFeatureExtractor(nn.Module):\n",
        "    def __init__(self):\n",
        "        super(MultiBranchFeatureExtractor, self).__init__()\n",
        "        self.efficientnet = EfficientNetV2S_FeatureExtractor()\n",
        "        self.convnext_block = ConvNeXtBlock()\n",
        "        self.se_mbconv_block = SE_MBConvBlock()\n",
        "        self.pool = nn.AdaptiveAvgPool2d((28, 28))  # Resize to 28×28\n",
        "\n",
        "    def forward(self, x):\n",
        "        x = self.efficientnet(x)  # Output: B × 1280 × 7 × 7\n",
        "\n",
        "        convnext_feat = self.convnext_block(x)     # B × 256 × 7 × 7\n",
        "        senet_feat    = self.se_mbconv_block(x)    # B × 256 × 7 × 7\n",
        "\n",
        "        convnext_feat = self.pool(convnext_feat)   # B × 256 × 28 × 28\n",
        "        senet_feat    = self.pool(senet_feat)      # B × 256 × 28 × 28\n",
        "\n",
        "        return convnext_feat, senet_feat\n"
      ],
      "metadata": {
        "id": "MILCZ-6uDt-f"
      },
      "execution_count": 14,
      "outputs": []
    },
    {
      "cell_type": "code",
      "source": [
        "device = torch.device(\"cuda\" if torch.cuda.is_available() else \"cpu\")\n",
        "\n",
        "model = MultiBranchFeatureExtractor().to(device)\n",
        "model.eval()\n",
        "\n",
        "for images, labels in train_loader:\n",
        "    images = images.to(device)\n",
        "\n",
        "    with torch.no_grad():\n",
        "        conv_feat, se_feat = model(images)\n",
        "\n",
        "    print(\"ConvNeXt Output:\", conv_feat.shape)  # [B, 256, 28, 28]\n",
        "    print(\"SENet+MBConv Output:\", se_feat.shape)  # [B, 256, 28, 28]\n",
        "    break\n"
      ],
      "metadata": {
        "id": "8y6UhVCgD1Bm",
        "colab": {
          "base_uri": "https://localhost:8080/",
          "height": 121,
          "referenced_widgets": [
            "e4fd3f2b953342f783624bfaed03753e",
            "8810e8f8d8b44c6e99307e03fd043928",
            "3c4f4e7b0a9142d3889f9d9de8507e1c",
            "4209f93af6a74abdb188b3a6770786cf",
            "30b24039567e4dbe90bad44513f94137",
            "db4804d2a14142b1b5d8f5632db9e149",
            "d5a98a6feeb94dfaa5aff94c66089cea",
            "918ae77302724c888d6153482c80ebfb",
            "81614cc460684dfaa894c0f0ecc77c5f",
            "85908da84f06477bb5cab940ab984cbf",
            "9bc539e035814c85b61bd230a80d6ea5"
          ]
        },
        "outputId": "9ba310dd-7005-46ee-c2d2-05acff1a978e"
      },
      "execution_count": 15,
      "outputs": [
        {
          "output_type": "stream",
          "name": "stderr",
          "text": [
            "WARNING:timm.models._builder:Unexpected keys (bn2.num_batches_tracked, bn2.bias, bn2.running_mean, bn2.running_var, bn2.weight, conv_head.weight) found while loading pretrained weights. This may be expected if model is being adapted.\n"
          ]
        },
        {
          "output_type": "display_data",
          "data": {
            "text/plain": [
              "model.safetensors:   0%|          | 0.00/114M [00:00<?, ?B/s]"
            ],
            "application/vnd.jupyter.widget-view+json": {
              "version_major": 2,
              "version_minor": 0,
              "model_id": "e4fd3f2b953342f783624bfaed03753e"
            }
          },
          "metadata": {}
        },
        {
          "output_type": "stream",
          "name": "stdout",
          "text": [
            "ConvNeXt Output: torch.Size([16, 256, 28, 28])\n",
            "SENet+MBConv Output: torch.Size([16, 256, 28, 28])\n"
          ]
        }
      ]
    },
    {
      "cell_type": "code",
      "source": [
        "class CrossAttentionFusion(nn.Module):\n",
        "    def __init__(self, embed_dim=256, num_heads=4):\n",
        "        super(CrossAttentionFusion, self).__init__()\n",
        "        self.attn = nn.MultiheadAttention(embed_dim=embed_dim, num_heads=num_heads, batch_first=True)\n",
        "        self.norm = nn.LayerNorm(embed_dim)\n",
        "\n",
        "    def forward(self, feat_q, feat_kv):\n",
        "        # Input: B × 256 × 28 × 28\n",
        "        B, C, H, W = feat_q.shape\n",
        "\n",
        "        # Flatten to sequences: B × 784 × 256\n",
        "        q = feat_q.view(B, C, -1).permute(0, 2, 1)   # Q: (B, 784, 256)\n",
        "        kv = feat_kv.view(B, C, -1).permute(0, 2, 1) # K,V: (B, 784, 256)\n",
        "\n",
        "        # Cross-attention\n",
        "        attn_output, _ = self.attn(q, kv, kv)        # (B, 784, 256)\n",
        "        attn_output = self.norm(attn_output + q)     # Residual + Norm\n",
        "\n",
        "        # Reshape back to spatial map: (B, 256, 28, 28)\n",
        "        fused = attn_output.permute(0, 2, 1).view(B, C, H, W)\n",
        "\n",
        "        return fused  # Output: B × 256 × 28 × 28"
      ],
      "metadata": {
        "id": "zOAopRK4EG63"
      },
      "execution_count": 16,
      "outputs": []
    },
    {
      "cell_type": "code",
      "source": [
        "class FullFeatureFusionBlock(nn.Module):\n",
        "    def __init__(self):\n",
        "        super(FullFeatureFusionBlock, self).__init__()\n",
        "        self.backbone = MultiBranchFeatureExtractor()        # Gives conv_feat, se_feat\n",
        "        self.cross_attn = CrossAttentionFusion(embed_dim=256, num_heads=4)\n",
        "\n",
        "    def forward(self, x):\n",
        "        conv_feat, se_feat = self.backbone(x)               # B × 256 × 28 × 28\n",
        "\n",
        "        fused_feat = self.cross_attn(conv_feat, se_feat)    # B × 256 × 28 × 28\n",
        "\n",
        "        return fused_feat  # ready for concatenation with other branches if needed"
      ],
      "metadata": {
        "id": "7Nusj4diEa__"
      },
      "execution_count": 17,
      "outputs": []
    },
    {
      "cell_type": "code",
      "source": [
        "model = FullFeatureFusionBlock().to(device)\n",
        "model.eval()\n",
        "\n",
        "for images, _ in train_loader:\n",
        "    images = images.to(device)\n",
        "    with torch.no_grad():\n",
        "        fused_output = model(images)\n",
        "\n",
        "    print(\"Fused Output Shape:\", fused_output.shape)  # Expected: [B, 256, 28, 28]\n",
        "    break"
      ],
      "metadata": {
        "id": "rcAwQ4CeEe93",
        "colab": {
          "base_uri": "https://localhost:8080/"
        },
        "outputId": "840ec378-28ce-4810-8dc5-cd9b57309e91"
      },
      "execution_count": 18,
      "outputs": [
        {
          "output_type": "stream",
          "name": "stderr",
          "text": [
            "WARNING:timm.models._builder:Unexpected keys (bn2.num_batches_tracked, bn2.bias, bn2.running_mean, bn2.running_var, bn2.weight, conv_head.weight) found while loading pretrained weights. This may be expected if model is being adapted.\n"
          ]
        },
        {
          "output_type": "stream",
          "name": "stdout",
          "text": [
            "Fused Output Shape: torch.Size([16, 256, 28, 28])\n"
          ]
        }
      ]
    },
    {
      "cell_type": "code",
      "source": [
        "class GlobalContextBranch(nn.Module):\n",
        "    def __init__(self, in_channels=256, out_channels=64):\n",
        "        super(GlobalContextBranch, self).__init__()\n",
        "        self.global_pool = nn.AdaptiveAvgPool2d(1)\n",
        "        self.fc = nn.Sequential(\n",
        "            nn.Conv2d(in_channels, out_channels, 1),\n",
        "            nn.ReLU(),\n",
        "            nn.Upsample(size=(28, 28), mode='bilinear', align_corners=False)\n",
        "        )\n",
        "\n",
        "    def forward(self, x):\n",
        "        x = self.global_pool(x)   # [B, 256, 1, 1] after global pool, originally [B, 256, 7, 7]\n",
        "        x = self.fc(x)            # [B, 64, 28, 28]\n",
        "        return x"
      ],
      "metadata": {
        "id": "wWORSZAOElr2"
      },
      "execution_count": 19,
      "outputs": []
    },
    {
      "cell_type": "code",
      "source": [
        "class LocalDetailBranch(nn.Module):\n",
        "    def __init__(self, in_channels=256, out_channels=64):\n",
        "        super(LocalDetailBranch, self).__init__()\n",
        "        self.local_cnn = nn.Sequential(\n",
        "            nn.Conv2d(in_channels, out_channels, kernel_size=3, padding=2, dilation=2),\n",
        "            nn.BatchNorm2d(out_channels),\n",
        "            nn.ReLU(),\n",
        "            nn.Conv2d(out_channels, out_channels, kernel_size=3, padding=1),\n",
        "            nn.BatchNorm2d(out_channels),\n",
        "            nn.ReLU(),\n",
        "        )\n",
        "\n",
        "    def forward(self, x):\n",
        "        return self.local_cnn(x)  # [B, 64, 28, 28]"
      ],
      "metadata": {
        "id": "Q9ESnC7DFU2f"
      },
      "execution_count": 20,
      "outputs": []
    },
    {
      "cell_type": "code",
      "source": [
        "class MultiBranchFullFusion(nn.Module):\n",
        "    def __init__(self):\n",
        "        super(MultiBranchFullFusion, self).__init__()\n",
        "        self.feature_extractor = EfficientNetV2S_FeatureExtractor()\n",
        "\n",
        "        self.convnext_block = ConvNeXtBlock()\n",
        "        self.se_mbconv_block = SE_MBConvBlock()\n",
        "\n",
        "        self.pool = nn.AdaptiveAvgPool2d((28, 28))\n",
        "        self.cross_attn = CrossAttentionFusion(embed_dim=256)\n",
        "\n",
        "        self.global_context = GlobalContextBranch()\n",
        "        self.local_detail = LocalDetailBranch()\n",
        "\n",
        "        # Add pooling to ensure consistent spatial dimensions before concatenation\n",
        "        self.global_pool_out = nn.AdaptiveAvgPool2d((28, 28))\n",
        "        self.local_pool_out = nn.AdaptiveAvgPool2d((28, 28))\n",
        "\n",
        "\n",
        "    def forward(self, x):\n",
        "        feat = self.feature_extractor(x)                # [B, 256, 7, 7]\n",
        "\n",
        "        # ConvNeXt & SENet+MBConv\n",
        "        conv_feat = self.pool(self.convnext_block(feat))  # [B, 256, 28, 28]\n",
        "        se_feat   = self.pool(self.se_mbconv_block(feat)) # [B, 256, 28, 28]\n",
        "\n",
        "        # Cross-attention fused output\n",
        "        fused_attn = self.cross_attn(conv_feat, se_feat)  # [B, 256, 28, 28]\n",
        "\n",
        "        # Extra branches\n",
        "        global_feat = self.global_context(feat)           # Expected: [B, 64, 28, 28]\n",
        "        local_feat  = self.local_detail(feat)             # Expected: [B, 64, 28, 28]\n",
        "\n",
        "        # Ensure spatial dimensions are 28x28 before concatenation\n",
        "        global_feat_pooled = self.global_pool_out(global_feat)\n",
        "        local_feat_pooled = self.local_pool_out(local_feat)\n",
        "\n",
        "\n",
        "        # Concatenate all\n",
        "        final_feat = torch.cat([conv_feat, se_feat, fused_attn, global_feat_pooled, local_feat_pooled], dim=1)  # [B, 896, 28, 28]\n",
        "        return final_feat"
      ],
      "metadata": {
        "id": "oBV99odjFY5P"
      },
      "execution_count": 21,
      "outputs": []
    },
    {
      "cell_type": "code",
      "source": [
        "model = MultiBranchFullFusion().to(device)\n",
        "model.eval()\n",
        "\n",
        "for images, _ in train_loader:\n",
        "    images = images.to(device)\n",
        "    with torch.no_grad():\n",
        "        fusion_output = model(images)\n",
        "    print(\"Final Fused Feature Shape:\", fusion_output.shape)  # [B, 896, 28, 28]\n",
        "    break\n"
      ],
      "metadata": {
        "id": "0aTPzXArFfAX",
        "colab": {
          "base_uri": "https://localhost:8080/"
        },
        "outputId": "7783de88-d5a2-4ccf-9fe2-3851b65e7e40"
      },
      "execution_count": 22,
      "outputs": [
        {
          "output_type": "stream",
          "name": "stderr",
          "text": [
            "WARNING:timm.models._builder:Unexpected keys (bn2.num_batches_tracked, bn2.bias, bn2.running_mean, bn2.running_var, bn2.weight, conv_head.weight) found while loading pretrained weights. This may be expected if model is being adapted.\n"
          ]
        },
        {
          "output_type": "stream",
          "name": "stdout",
          "text": [
            "Final Fused Feature Shape: torch.Size([16, 896, 28, 28])\n"
          ]
        }
      ]
    },
    {
      "cell_type": "code",
      "source": [
        "class MobileViTBlock(nn.Module):\n",
        "    def __init__(self, in_channels, transformer_dim=128, patch_size=2, depth=2, heads=4):\n",
        "        super(MobileViTBlock, self).__init__()\n",
        "        self.patch_size = patch_size\n",
        "        ph, pw = patch_size, patch_size\n",
        "\n",
        "        self.local_rep = nn.Sequential(\n",
        "            nn.Conv2d(in_channels, in_channels, kernel_size=3, padding=1),\n",
        "            nn.BatchNorm2d(in_channels),\n",
        "            nn.ReLU()\n",
        "        )\n",
        "\n",
        "        self.unfold = nn.Unfold(kernel_size=patch_size, stride=patch_size)\n",
        "        self.fold = nn.Fold(output_size=(28, 28), kernel_size=patch_size, stride=patch_size)\n",
        "\n",
        "        self.conv_before_trans = nn.Conv2d(in_channels * ph * pw, transformer_dim, kernel_size=1)\n",
        "\n",
        "        encoder_layer = nn.TransformerEncoderLayer(\n",
        "            d_model=transformer_dim,\n",
        "            nhead=heads,\n",
        "            batch_first=True,\n",
        "            dim_feedforward=transformer_dim * 2,\n",
        "            dropout=0.1,\n",
        "            activation='gelu'\n",
        "        )\n",
        "        self.transformer = nn.TransformerEncoder(encoder_layer, num_layers=depth)\n",
        "\n",
        "        self.conv_after_trans = nn.Conv2d(transformer_dim, in_channels * ph * pw, kernel_size=1)\n",
        "\n",
        "\n",
        "        self.project = nn.Sequential(\n",
        "            nn.Conv2d(in_channels, in_channels, kernel_size=3, padding=1),\n",
        "            nn.BatchNorm2d(in_channels),\n",
        "            nn.ReLU()\n",
        "        )\n",
        "\n",
        "    def forward(self, x):\n",
        "        B, C, H, W = x.shape\n",
        "        ph, pw = self.patch_size, self.patch_size\n",
        "\n",
        "        identity = x # B × C × H × W\n",
        "\n",
        "        x = self.local_rep(x) # B × C × H × W\n",
        "\n",
        "        # Unfold, Conv, and flatten for Transformer\n",
        "        x = self.unfold(x) # B × (C*ph*pw) × (H*W / (ph*pw))\n",
        "        x = x.view(B, C, ph*pw, -1).permute(0, 3, 2, 1).contiguous().view(B, -1, C*ph*pw) # B × N × (C*ph*pw)\n",
        "        x = self.conv_before_trans(x.permute(0, 2, 1).view(B, C*ph*pw, H//ph, W//pw)).view(B, self.conv_before_trans.out_channels, -1).permute(0, 2, 1) # B × N × transformer_dim\n",
        "\n",
        "\n",
        "        # Transformer\n",
        "        x = self.transformer(x) # B × N × transformer_dim\n",
        "\n",
        "        # Project back and Fold\n",
        "        x = self.conv_after_trans(x.permute(0, 2, 1).view(B, self.conv_after_trans.in_channels, H//ph, W//pw)) # B × (C*ph*pw) × H/ph × W/pw\n",
        "        x = x.view(B, C*ph*pw, -1) # B × (C*ph*pw) × N\n",
        "        x = self.fold(x) # B × C × H × W\n",
        "\n",
        "        # Project and Residual Connection\n",
        "        x = self.project(x) # B × C × H × W\n",
        "        x = x + identity # Residual connection\n",
        "\n",
        "        return x # B × in_channels × H × W"
      ],
      "metadata": {
        "id": "7maz4TnEF5Rn"
      },
      "execution_count": 23,
      "outputs": []
    },
    {
      "cell_type": "code",
      "source": [
        "class FinalModelWithMobileViT(nn.Module):\n",
        "    def __init__(self):\n",
        "        super(FinalModelWithMobileViT, self).__init__()\n",
        "        self.fusion = MultiBranchFullFusion()\n",
        "        self.mobilevit = MobileViTBlock(in_channels=896, transformer_dim=128, patch_size=2, depth=2, heads=4)\n",
        "\n",
        "    def forward(self, x):\n",
        "        x = self.fusion(x)         # [B, 896, 28, 28]\n",
        "        x = self.mobilevit(x)      # [B, 896, 28, 28]\n",
        "        return x\n"
      ],
      "metadata": {
        "id": "Z9EhWEPlGXE3"
      },
      "execution_count": 24,
      "outputs": []
    },
    {
      "cell_type": "code",
      "source": [
        "class FinalModelWithMobileViT1(nn.Module):\n",
        "    def __init__(self):\n",
        "        super(FinalModelWithMobileViT1, self).__init__()\n",
        "        self.fusion = MultiBranchFullFusion()\n",
        "        self.mobilevit = MobileViTBlock(in_channels=896, transformer_dim=128, patch_size=(2,2), depth=2, heads=4)\n",
        "\n",
        "    def forward(self, x):\n",
        "        x = self.fusion(x)         # [B, 896, 28, 28]\n",
        "        x = self.mobilevit(x)      # [B, 896, 28, 28]\n",
        "        return x"
      ],
      "metadata": {
        "id": "UGnSyQWFGgWv"
      },
      "execution_count": 25,
      "outputs": []
    },
    {
      "cell_type": "code",
      "source": [
        "class FinalModelWithGAP(nn.Module):\n",
        "    def __init__(self):\n",
        "        super(FinalModelWithGAP, self).__init__()\n",
        "        self.fusion = MultiBranchFullFusion()\n",
        "        self.mobilevit = MobileViTBlock(in_channels=896, transformer_dim=128, patch_size=2, depth=2, heads=4)\n",
        "        self.gap = nn.AdaptiveAvgPool2d(1)  # Global Avg Pool → [B, 896, 1, 1]\n",
        "\n",
        "    def forward(self, x):\n",
        "        x = self.fusion(x)            # [B, 896, 28, 28]\n",
        "        x = self.mobilevit(x)         # [B, 896, 28, 28]\n",
        "        x = self.gap(x)               # [B, 896, 1, 1]\n",
        "        x = x.view(x.size(0), -1)     # Flatten → [B, 896]\n",
        "        return x\n"
      ],
      "metadata": {
        "id": "H7LFhDWwGsif"
      },
      "execution_count": 26,
      "outputs": []
    },
    {
      "cell_type": "code",
      "source": [
        "model = FinalModelWithGAP().to(device)\n",
        "model.eval()\n",
        "\n",
        "for images, _ in train_loader:\n",
        "    images = images.to(device)\n",
        "    with torch.no_grad():\n",
        "        features = model(images)\n",
        "\n",
        "    print(\"Final Feature Vector Shape:\", features.shape)  # [B, 896]\n",
        "    break"
      ],
      "metadata": {
        "id": "Ed-xEmLjHJdP",
        "colab": {
          "base_uri": "https://localhost:8080/"
        },
        "outputId": "f4d836bc-42f9-429d-bf45-4066e02bd3f8"
      },
      "execution_count": 27,
      "outputs": [
        {
          "output_type": "stream",
          "name": "stderr",
          "text": [
            "WARNING:timm.models._builder:Unexpected keys (bn2.num_batches_tracked, bn2.bias, bn2.running_mean, bn2.running_var, bn2.weight, conv_head.weight) found while loading pretrained weights. This may be expected if model is being adapted.\n"
          ]
        },
        {
          "output_type": "stream",
          "name": "stdout",
          "text": [
            "Final Feature Vector Shape: torch.Size([16, 896])\n"
          ]
        }
      ]
    },
    {
      "cell_type": "code",
      "source": [
        "class EmotionClassifier(nn.Module):\n",
        "    def __init__(self, dropout_rate=0.5):\n",
        "        super(EmotionClassifier, self).__init__()\n",
        "        self.fusion = MultiBranchFullFusion()\n",
        "        self.mobilevit = MobileViTBlock(in_channels=896, transformer_dim=128, patch_size=2, depth=2, heads=4)\n",
        "        self.gap = nn.AdaptiveAvgPool2d(1)\n",
        "        self.classifier = nn.Sequential(\n",
        "            nn.Flatten(),                 # [B, 896, 1, 1] → [B, 896]\n",
        "            nn.Dropout(dropout_rate),\n",
        "            nn.Linear(896, 7)            # 7 emotion classes\n",
        "        )\n",
        "\n",
        "    def forward(self, x):\n",
        "        x = self.fusion(x)            # [B, 896, 28, 28]\n",
        "        x = self.mobilevit(x)         # [B, 896, 28, 28]\n",
        "        x = self.gap(x)               # [B, 896, 1, 1]\n",
        "        x = self.classifier(x)        # [B, 7]\n",
        "        return x\n"
      ],
      "metadata": {
        "id": "5mfIw9KFHOn2"
      },
      "execution_count": 28,
      "outputs": []
    },
    {
      "cell_type": "code",
      "source": [
        "model = EmotionClassifier().to(device)\n",
        "model.eval()\n",
        "\n",
        "for images, _ in train_loader:\n",
        "    images = images.to(device)\n",
        "    with torch.no_grad():\n",
        "        logits = model(images)\n",
        "\n",
        "    print(\"Model Output Shape:\", logits.shape)  # [B, 7]\n",
        "    break\n"
      ],
      "metadata": {
        "id": "-Gtn-xXKIKnn",
        "colab": {
          "base_uri": "https://localhost:8080/"
        },
        "outputId": "15af9e53-4dc5-4720-ca80-11f8588d8408"
      },
      "execution_count": 29,
      "outputs": [
        {
          "output_type": "stream",
          "name": "stderr",
          "text": [
            "WARNING:timm.models._builder:Unexpected keys (bn2.num_batches_tracked, bn2.bias, bn2.running_mean, bn2.running_var, bn2.weight, conv_head.weight) found while loading pretrained weights. This may be expected if model is being adapted.\n"
          ]
        },
        {
          "output_type": "stream",
          "name": "stdout",
          "text": [
            "Model Output Shape: torch.Size([16, 7])\n"
          ]
        }
      ]
    },
    {
      "cell_type": "code",
      "source": [
        "def train_model(model, train_loader, val_loader, criterion, optimizer, scheduler, device, num_epochs=25, patience=5):\n",
        "    best_val_loss = float('inf')\n",
        "    best_epoch = 0\n",
        "    epochs_no_improve = 0\n",
        "    # Initialize history\n",
        "    history = {\n",
        "        'train_loss': [],\n",
        "        'train_acc': [],\n",
        "        'val_loss': [],\n",
        "        'val_acc': []\n",
        "    }\n",
        "\n",
        "    for epoch in range(num_epochs):\n",
        "        # Training phase\n",
        "        model.train()\n",
        "        train_loss, train_correct, total = 0, 0, 0\n",
        "        for images, labels in train_loader:\n",
        "            images, labels = images.to(device), labels.to(device)\n",
        "\n",
        "            optimizer.zero_grad()\n",
        "            outputs = model(images)\n",
        "            loss = criterion(outputs, labels)\n",
        "            loss.backward()\n",
        "            optimizer.step()\n",
        "\n",
        "            train_loss += loss.item() * images.size(0)\n",
        "            _, preds = torch.max(outputs, 1)\n",
        "            train_correct += (preds == labels).sum().item()\n",
        "            total += labels.size(0)\n",
        "\n",
        "        avg_train_loss = train_loss / total\n",
        "        train_acc = 100 * train_correct / total\n",
        "\n",
        "        # Validation phase\n",
        "        model.eval()\n",
        "        val_loss, val_correct, val_total = 0, 0, 0\n",
        "        with torch.no_grad():\n",
        "            for images, labels in val_loader:\n",
        "                images, labels = images.to(device), labels.to(device)\n",
        "                outputs = model(images)\n",
        "                loss = criterion(outputs, labels)\n",
        "\n",
        "                val_loss += loss.item() * images.size(0)\n",
        "                _, preds = torch.max(outputs, 1)\n",
        "                val_correct += (preds == labels).sum().item()\n",
        "                val_total += labels.size(0)\n",
        "\n",
        "        avg_val_loss = val_loss / val_total\n",
        "        val_acc = 100 * val_correct / val_total\n",
        "\n",
        "        # Step scheduler\n",
        "        scheduler.step(avg_val_loss)\n",
        "\n",
        "        print(f\"Epoch [{epoch+1}/{num_epochs}] | \"\n",
        "              f\"Train Loss: {avg_train_loss:.4f} | Train Acc: {train_acc:.2f}% | \"\n",
        "              f\"Val Loss: {avg_val_loss:.4f} | Val Acc: {val_acc:.2f}%\")\n",
        "\n",
        "        # Save best model\n",
        "        if avg_val_loss < best_val_loss:\n",
        "            best_val_loss = avg_val_loss\n",
        "            best_epoch = epoch + 1\n",
        "            epochs_no_improve = 0\n",
        "            torch.save(model.state_dict(), \"best_model.pth\")\n",
        "            print(\"✅ Saved Best Model\")\n",
        "        else:\n",
        "            epochs_no_improve += 1\n",
        "\n",
        "\n",
        "\n",
        "        # Append history\n",
        "        history['train_loss'].append(avg_train_loss)\n",
        "        history['val_loss'].append(avg_val_loss)\n",
        "        history['train_acc'].append(train_acc)\n",
        "        history['val_acc'].append(val_acc)\n",
        "\n",
        "\n",
        "    print(\"Training Complete!\")\n",
        "    return history"
      ],
      "metadata": {
        "id": "GVEwxYGKIxov"
      },
      "execution_count": 34,
      "outputs": []
    },
    {
      "cell_type": "code",
      "source": [
        "import torch.optim as optim\n",
        "\n",
        "# Loss function\n",
        "criterion = nn.CrossEntropyLoss(label_smoothing=0.1)\n",
        "\n",
        "# Optimizer with weight decay\n",
        "optimizer = optim.AdamW(model.parameters(), lr=1e-4, weight_decay=1e-4)\n",
        "scheduler = optim.lr_scheduler.ReduceLROnPlateau(optimizer, mode='min', patience=15, factor=0.5)"
      ],
      "metadata": {
        "id": "SlNOk4kpcZCV"
      },
      "execution_count": 35,
      "outputs": []
    },
    {
      "cell_type": "code",
      "source": [
        "num_epochs = 50  # or as needed\n",
        "history = train_model(\n",
        "    model,\n",
        "    train_loader,\n",
        "    val_loader,\n",
        "    criterion,\n",
        "    optimizer,\n",
        "    scheduler,\n",
        "    device,\n",
        "    num_epochs=50,\n",
        "\n",
        ")\n",
        "\n"
      ],
      "metadata": {
        "id": "y2HOOW2cI3IX",
        "colab": {
          "base_uri": "https://localhost:8080/"
        },
        "outputId": "d30007c0-bbda-4967-c7a1-316074d8d3ab"
      },
      "execution_count": 36,
      "outputs": [
        {
          "output_type": "stream",
          "name": "stdout",
          "text": [
            "Epoch [1/25] | Train Loss: 0.5116 | Train Acc: 98.38% | Val Loss: 0.7351 | Val Acc: 88.93%\n",
            "✅ Saved Best Model\n",
            "Epoch [2/25] | Train Loss: 0.5165 | Train Acc: 98.17% | Val Loss: 0.7272 | Val Acc: 86.88%\n",
            "✅ Saved Best Model\n",
            "Epoch [3/25] | Train Loss: 0.5121 | Train Acc: 98.30% | Val Loss: 0.7648 | Val Acc: 86.88%\n",
            "Epoch [4/25] | Train Loss: 0.4967 | Train Acc: 98.64% | Val Loss: 0.8618 | Val Acc: 82.62%\n",
            "Epoch [5/25] | Train Loss: 0.5034 | Train Acc: 98.26% | Val Loss: 0.8186 | Val Acc: 84.84%\n",
            "Epoch [6/25] | Train Loss: 0.4937 | Train Acc: 98.77% | Val Loss: 0.8043 | Val Acc: 83.30%\n",
            "Epoch [7/25] | Train Loss: 0.4882 | Train Acc: 98.81% | Val Loss: 0.8148 | Val Acc: 84.16%\n",
            "Epoch [8/25] | Train Loss: 0.4879 | Train Acc: 98.60% | Val Loss: 0.8587 | Val Acc: 82.28%\n",
            "Epoch [9/25] | Train Loss: 0.5055 | Train Acc: 98.09% | Val Loss: 0.7848 | Val Acc: 84.84%\n",
            "Epoch [10/25] | Train Loss: 0.4876 | Train Acc: 98.68% | Val Loss: 0.8621 | Val Acc: 82.28%\n",
            "Epoch [11/25] | Train Loss: 0.4860 | Train Acc: 98.94% | Val Loss: 0.8804 | Val Acc: 82.28%\n",
            "Epoch [12/25] | Train Loss: 0.4867 | Train Acc: 98.98% | Val Loss: 0.7978 | Val Acc: 85.35%\n",
            "Epoch [13/25] | Train Loss: 0.4692 | Train Acc: 99.66% | Val Loss: 0.9259 | Val Acc: 80.41%\n",
            "Epoch [14/25] | Train Loss: 0.4948 | Train Acc: 98.47% | Val Loss: 0.7818 | Val Acc: 85.35%\n",
            "Epoch [15/25] | Train Loss: 0.4866 | Train Acc: 98.77% | Val Loss: 0.7220 | Val Acc: 87.39%\n",
            "✅ Saved Best Model\n",
            "Epoch [16/25] | Train Loss: 0.4790 | Train Acc: 98.98% | Val Loss: 0.7807 | Val Acc: 87.56%\n",
            "Epoch [17/25] | Train Loss: 0.4760 | Train Acc: 99.28% | Val Loss: 0.7482 | Val Acc: 87.39%\n",
            "Epoch [18/25] | Train Loss: 0.4829 | Train Acc: 98.77% | Val Loss: 0.9122 | Val Acc: 80.58%\n",
            "Epoch [19/25] | Train Loss: 0.4822 | Train Acc: 98.64% | Val Loss: 0.7295 | Val Acc: 88.07%\n",
            "Epoch [20/25] | Train Loss: 0.4748 | Train Acc: 99.32% | Val Loss: 0.7207 | Val Acc: 87.56%\n",
            "✅ Saved Best Model\n",
            "Epoch [21/25] | Train Loss: 0.4757 | Train Acc: 99.11% | Val Loss: 0.7771 | Val Acc: 85.69%\n",
            "Epoch [22/25] | Train Loss: 0.4800 | Train Acc: 99.02% | Val Loss: 0.7667 | Val Acc: 85.86%\n",
            "Epoch [23/25] | Train Loss: 0.4723 | Train Acc: 99.36% | Val Loss: 0.7124 | Val Acc: 89.10%\n",
            "✅ Saved Best Model\n",
            "Epoch [24/25] | Train Loss: 0.4799 | Train Acc: 99.06% | Val Loss: 0.7116 | Val Acc: 89.10%\n",
            "✅ Saved Best Model\n",
            "Epoch [25/25] | Train Loss: 0.4674 | Train Acc: 99.40% | Val Loss: 0.7801 | Val Acc: 86.71%\n",
            "Training Complete!\n"
          ]
        }
      ]
    },
    {
      "cell_type": "code",
      "source": [
        "import matplotlib.pyplot as plt\n",
        "\n",
        "def plot_training(history):\n",
        "    epochs = range(1, len(history['train_loss']) + 1)\n",
        "\n",
        "    plt.figure(figsize=(14, 5))\n",
        "\n",
        "    # Loss Plot\n",
        "    plt.subplot(1, 2, 1)\n",
        "    plt.plot(epochs, history['train_loss'], label='Train Loss')\n",
        "    plt.plot(epochs, history['val_loss'], label='Val Loss')\n",
        "    plt.title('Loss Over Epochs')\n",
        "    plt.xlabel('Epoch')\n",
        "    plt.ylabel('Loss')\n",
        "    plt.legend()\n",
        "\n",
        "    # Accuracy Plot\n",
        "    plt.subplot(1, 2, 2)\n",
        "    plt.plot(epochs, history['train_acc'], label='Train Accuracy')\n",
        "    plt.plot(epochs, history['val_acc'], label='Val Accuracy')\n",
        "    plt.title('Accuracy Over Epochs')\n",
        "    plt.xlabel('Epoch')\n",
        "    plt.ylabel('Accuracy (%)')\n",
        "    plt.legend()\n",
        "\n",
        "    plt.tight_layout()\n",
        "    plt.show()\n"
      ],
      "metadata": {
        "id": "V-4V1uBQx97j"
      },
      "execution_count": 41,
      "outputs": []
    },
    {
      "cell_type": "code",
      "source": [
        "plot_training(history)"
      ],
      "metadata": {
        "id": "qNXw-Jf7uM-n",
        "colab": {
          "base_uri": "https://localhost:8080/",
          "height": 270
        },
        "outputId": "f5beabc9-7508-4390-9fd6-52fb53383fac"
      },
      "execution_count": 42,
      "outputs": [
        {
          "output_type": "display_data",
          "data": {
            "text/plain": [
              "<Figure size 1400x500 with 2 Axes>"
            ],
            "image/png": "[encoded data removed]"
          },
          "metadata": {}
        }
      ]
    },
    {
      "cell_type": "code",
      "source": [
        "from sklearn.metrics import classification_report, confusion_matrix, ConfusionMatrixDisplay\n",
        "import seaborn as sns\n",
        "\n",
        "def evaluate_on_test(model, train_loader, device, class_names=None):\n",
        "    model.eval()\n",
        "    all_preds, all_labels = [], []\n",
        "\n",
        "    with torch.no_grad():\n",
        "        for images, labels in train_loader:\n",
        "            images, labels = images.to(device), labels.to(device)\n",
        "            outputs = model(images)\n",
        "            _, preds = torch.max(outputs, 1)\n",
        "            all_preds.extend(preds.cpu().numpy())\n",
        "            all_labels.extend(labels.cpu().numpy())\n",
        "\n",
        "    # Define all possible labels (0 to 6 for FER2013)\n",
        "    all_possible_labels = list(range(len(class_names))) if class_names else sorted(list(set(all_labels + all_preds)))\n",
        "\n",
        "    print(\"\\n📊 Classification Report:\")\n",
        "    print(classification_report(all_labels, all_preds, target_names=class_names, labels=all_possible_labels, zero_division=0)) # Added labels and zero_division\n",
        "\n",
        "    # Plot Confusion Matrix\n",
        "    cm = confusion_matrix(all_labels, all_preds, labels=all_possible_labels) # Added labels\n",
        "    plt.figure(figsize=(8, 6))\n",
        "    sns.heatmap(cm, annot=True, fmt='d', cmap=\"Blues\",\n",
        "                xticklabels=class_names, yticklabels=class_names)\n",
        "    plt.xlabel('Predicted')\n",
        "    plt.ylabel('True')\n",
        "    plt.title('Confusion Matrix')\n",
        "    plt.show()"
      ],
      "metadata": {
        "id": "R2MYOFYlzyW7"
      },
      "execution_count": 43,
      "outputs": []
    },
    {
      "cell_type": "code",
      "source": [
        "class_names = ['Angry', 'Disgust', 'Fear','Happy', 'Sad', 'Surprise', 'Neutral']\n",
        "model.load_state_dict(torch.load(\"best_model.pth\"))\n",
        "evaluate_on_test(model, train_loader, device, class_names)\n"
      ],
      "metadata": {
        "id": "XaETHPknz3Dz",
        "colab": {
          "base_uri": "https://localhost:8080/",
          "height": 896
        },
        "outputId": "daad0a90-b93b-4356-a4e3-0364f5357919"
      },
      "execution_count": 44,
      "outputs": [
        {
          "output_type": "stream",
          "name": "stderr",
          "text": [
            "/usr/local/lib/python3.12/dist-packages/torch/utils/data/dataloader.py:627: UserWarning: This DataLoader will create 4 worker processes in total. Our suggested max number of worker in current system is 2, which is smaller than what this DataLoader is going to create. Please be aware that excessive worker creation might get DataLoader running slow or even freeze, lower the worker number to avoid potential slowness/freeze if necessary.\n",
            "  warnings.warn(\n"
          ]
        },
        {
          "output_type": "stream",
          "name": "stdout",
          "text": [
            "\n",
            "📊 Classification Report:\n",
            "              precision    recall  f1-score   support\n",
            "\n",
            "       Angry       0.99      1.00      0.99       332\n",
            "     Disgust       1.00      0.99      0.99       332\n",
            "        Fear       1.00      0.99      1.00       332\n",
            "       Happy       1.00      1.00      1.00       340\n",
            "         Sad       0.99      1.00      0.99       332\n",
            "    Surprise       1.00      1.00      1.00       352\n",
            "     Neutral       1.00      1.00      1.00       331\n",
            "\n",
            "    accuracy                           1.00      2351\n",
            "   macro avg       1.00      1.00      1.00      2351\n",
            "weighted avg       1.00      1.00      1.00      2351\n",
            "\n"
          ]
        },
        {
          "output_type": "display_data",
          "data": {
            "text/plain": [
              "<Figure size 800x600 with 2 Axes>"
            ],
            "image/png": "[encoded data removed]"
          },
          "metadata": {}
        }
      ]
    }
  ]
}