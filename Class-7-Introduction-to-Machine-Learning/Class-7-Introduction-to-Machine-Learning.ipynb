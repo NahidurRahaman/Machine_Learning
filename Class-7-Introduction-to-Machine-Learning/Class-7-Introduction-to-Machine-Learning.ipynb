{
 "cells": [
  {
   "cell_type": "code",
   "id": "initial_id",
   "metadata": {
    "collapsed": true,
    "ExecuteTime": {
     "end_time": "2025-08-04T10:33:02.813494Z",
     "start_time": "2025-08-04T10:32:59.890263Z"
    }
   },
   "source": [
    "\"\"\"\n",
    "Class 7. Introduction to Machine Learning\n",
    "\n",
    "Linear regression: predicts numbers from features\n",
    "\"\"\"\n",
    "\n",
    "import pandas as pd\n",
    "import seaborn as sns"
   ],
   "outputs": [],
   "execution_count": 2
  },
  {
   "metadata": {
    "ExecuteTime": {
     "end_time": "2025-08-04T10:33:05.275149Z",
     "start_time": "2025-08-04T10:33:05.269172Z"
    }
   },
   "cell_type": "code",
   "source": [
    "import os\n",
    "\n",
    "ROOT_DIR = \"C:\\\\Users\\\\Loccha kakko\\\\PyCharmMiscProject\\\\\"\n",
    "DATA_DIR = os.path.join(ROOT_DIR, \"data\")\n",
    "\n",
    "print(ROOT_DIR)\n",
    "print(DATA_DIR)"
   ],
   "id": "65812c45e5abf6fa",
   "outputs": [
    {
     "name": "stdout",
     "output_type": "stream",
     "text": [
      "E:\\ML\\\n",
      "E:\\ML\\data\n"
     ]
    }
   ],
   "execution_count": 3
  },
  {
   "metadata": {
    "ExecuteTime": {
     "end_time": "2025-06-15T16:42:48.821642Z",
     "start_time": "2025-06-15T16:42:48.802014Z"
    }
   },
   "cell_type": "code",
   "source": [
    "dataset_file = os.path.join(\n",
    "    DATA_DIR, \n",
    "    \"housing_single_feature.csv\"\n",
    ")\n",
    "\n",
    "print(dataset_file)"
   ],
   "id": "ecb1085b6e82c376",
   "outputs": [
    {
     "name": "stdout",
     "output_type": "stream",
     "text": [
      "E:\\PyCharmProjects\\pythonProject\\data\\housing_single_feature.csv\n"
     ]
    }
   ],
   "execution_count": 3
  },
  {
   "metadata": {
    "ExecuteTime": {
     "end_time": "2025-08-04T10:34:49.566119Z",
     "start_time": "2025-08-04T10:34:49.489476Z"
    }
   },
   "cell_type": "code",
   "source": [
    "house_df = pd.read_csv(\"housing_single_feature (1).csv\")\n",
    "house_df.head()"
   ],
   "id": "e99f9ee4be87025e",
   "outputs": [
    {
     "data": {
      "text/plain": [
       "   area     price\n",
       "0  7420  13300000\n",
       "1  8960  12250000\n",
       "2  9960  12250000\n",
       "3  7500  12215000\n",
       "4  7420  11410000"
      ],
      "text/html": [
       "<div>\n",
       "<style scoped>\n",
       "    .dataframe tbody tr th:only-of-type {\n",
       "        vertical-align: middle;\n",
       "    }\n",
       "\n",
       "    .dataframe tbody tr th {\n",
       "        vertical-align: top;\n",
       "    }\n",
       "\n",
       "    .dataframe thead th {\n",
       "        text-align: right;\n",
       "    }\n",
       "</style>\n",
       "<table border=\"1\" class=\"dataframe\">\n",
       "  <thead>\n",
       "    <tr style=\"text-align: right;\">\n",
       "      <th></th>\n",
       "      <th>area</th>\n",
       "      <th>price</th>\n",
       "    </tr>\n",
       "  </thead>\n",
       "  <tbody>\n",
       "    <tr>\n",
       "      <th>0</th>\n",
       "      <td>7420</td>\n",
       "      <td>13300000</td>\n",
       "    </tr>\n",
       "    <tr>\n",
       "      <th>1</th>\n",
       "      <td>8960</td>\n",
       "      <td>12250000</td>\n",
       "    </tr>\n",
       "    <tr>\n",
       "      <th>2</th>\n",
       "      <td>9960</td>\n",
       "      <td>12250000</td>\n",
       "    </tr>\n",
       "    <tr>\n",
       "      <th>3</th>\n",
       "      <td>7500</td>\n",
       "      <td>12215000</td>\n",
       "    </tr>\n",
       "    <tr>\n",
       "      <th>4</th>\n",
       "      <td>7420</td>\n",
       "      <td>11410000</td>\n",
       "    </tr>\n",
       "  </tbody>\n",
       "</table>\n",
       "</div>"
      ]
     },
     "execution_count": 4,
     "metadata": {},
     "output_type": "execute_result"
    }
   ],
   "execution_count": 4
  },
  {
   "metadata": {
    "ExecuteTime": {
     "end_time": "2025-08-04T10:35:01.633699Z",
     "start_time": "2025-08-04T10:35:01.627042Z"
    }
   },
   "cell_type": "code",
   "source": [
    "import numpy as np\n",
    "\n",
    "# Parameter and bias are generally termed as weights\n",
    "\n",
    "# Step 1. Weight initialization\n",
    "per_sft_price = np.random.randint(1, 1000000)\n",
    "registration_cost = np.random.randint(1, 1000000)\n",
    "\n",
    "print(per_sft_price)\n",
    "print(registration_cost)\n",
    "\n",
    "# Step 2. Define the ML Algorithm\n",
    "def get_house_price(area, per_sft_price, registration_cost):\n",
    "    estimated_price = per_sft_price * area + registration_cost\n",
    "    return estimated_price\n",
    "\n",
    "estimated_price = get_house_price(\n",
    "    area=7420,\n",
    "    per_sft_price=per_sft_price,\n",
    "    registration_cost=registration_cost,\n",
    ")\n",
    "\n",
    "print(\"estimated_price\",estimated_price)"
   ],
   "id": "ac1897b714d55618",
   "outputs": [
    {
     "name": "stdout",
     "output_type": "stream",
     "text": [
      "493807\n",
      "360843\n",
      "estimated_price 3664408783\n"
     ]
    }
   ],
   "execution_count": 6
  },
  {
   "metadata": {
    "ExecuteTime": {
     "end_time": "2025-08-04T10:35:10.530906Z",
     "start_time": "2025-08-04T10:35:10.517331Z"
    }
   },
   "cell_type": "code",
   "source": [
    "# Step 3. Predict the result\n",
    "house_df['estimated_price'] = [ \n",
    "    get_house_price(area, per_sft_price, registration_cost) for area in house_df['area']\n",
    "]\n",
    "\n",
    "house_df.head()"
   ],
   "id": "75185411fd29abb1",
   "outputs": [
    {
     "data": {
      "text/plain": [
       "   area     price  estimated_price\n",
       "0  7420  13300000       3664408783\n",
       "1  8960  12250000       4424871563\n",
       "2  9960  12250000       4918678563\n",
       "3  7500  12215000       3703913343\n",
       "4  7420  11410000       3664408783"
      ],
      "text/html": [
       "<div>\n",
       "<style scoped>\n",
       "    .dataframe tbody tr th:only-of-type {\n",
       "        vertical-align: middle;\n",
       "    }\n",
       "\n",
       "    .dataframe tbody tr th {\n",
       "        vertical-align: top;\n",
       "    }\n",
       "\n",
       "    .dataframe thead th {\n",
       "        text-align: right;\n",
       "    }\n",
       "</style>\n",
       "<table border=\"1\" class=\"dataframe\">\n",
       "  <thead>\n",
       "    <tr style=\"text-align: right;\">\n",
       "      <th></th>\n",
       "      <th>area</th>\n",
       "      <th>price</th>\n",
       "      <th>estimated_price</th>\n",
       "    </tr>\n",
       "  </thead>\n",
       "  <tbody>\n",
       "    <tr>\n",
       "      <th>0</th>\n",
       "      <td>7420</td>\n",
       "      <td>13300000</td>\n",
       "      <td>3664408783</td>\n",
       "    </tr>\n",
       "    <tr>\n",
       "      <th>1</th>\n",
       "      <td>8960</td>\n",
       "      <td>12250000</td>\n",
       "      <td>4424871563</td>\n",
       "    </tr>\n",
       "    <tr>\n",
       "      <th>2</th>\n",
       "      <td>9960</td>\n",
       "      <td>12250000</td>\n",
       "      <td>4918678563</td>\n",
       "    </tr>\n",
       "    <tr>\n",
       "      <th>3</th>\n",
       "      <td>7500</td>\n",
       "      <td>12215000</td>\n",
       "      <td>3703913343</td>\n",
       "    </tr>\n",
       "    <tr>\n",
       "      <th>4</th>\n",
       "      <td>7420</td>\n",
       "      <td>11410000</td>\n",
       "      <td>3664408783</td>\n",
       "    </tr>\n",
       "  </tbody>\n",
       "</table>\n",
       "</div>"
      ]
     },
     "execution_count": 7,
     "metadata": {},
     "output_type": "execute_result"
    }
   ],
   "execution_count": 7
  },
  {
   "metadata": {
    "ExecuteTime": {
     "end_time": "2025-08-04T10:35:16.117499Z",
     "start_time": "2025-08-04T10:35:16.013877Z"
    }
   },
   "cell_type": "code",
   "source": [
    "x = []\n",
    "y = []\n",
    "y_type = []\n",
    "\n",
    "for i in range(len(house_df)):\n",
    "    x.append(house_df.iloc[i][\"area\"])\n",
    "    y.append(house_df.iloc[i][\"price\"])\n",
    "    y_type.append(\"y_true\")\n",
    "    \n",
    "    x.append(house_df.iloc[i][\"area\"])\n",
    "    y.append(house_df.iloc[i][\"estimated_price\"])\n",
    "    y_type.append(\"y_pred\")\n",
    "    \n",
    "house_df = pd.DataFrame({\n",
    "    \"area\": np.array(x),\n",
    "    \"price\": np.array(y),\n",
    "    \"type\": np.array(y_type)\n",
    "})\n",
    "\n",
    "print(len(house_df))\n",
    "house_df.head()"
   ],
   "id": "ffffd833783de2d0",
   "outputs": [
    {
     "name": "stdout",
     "output_type": "stream",
     "text": [
      "1090\n"
     ]
    },
    {
     "data": {
      "text/plain": [
       "   area       price    type\n",
       "0  7420    13300000  y_true\n",
       "1  7420  3664408783  y_pred\n",
       "2  8960    12250000  y_true\n",
       "3  8960  4424871563  y_pred\n",
       "4  9960    12250000  y_true"
      ],
      "text/html": [
       "<div>\n",
       "<style scoped>\n",
       "    .dataframe tbody tr th:only-of-type {\n",
       "        vertical-align: middle;\n",
       "    }\n",
       "\n",
       "    .dataframe tbody tr th {\n",
       "        vertical-align: top;\n",
       "    }\n",
       "\n",
       "    .dataframe thead th {\n",
       "        text-align: right;\n",
       "    }\n",
       "</style>\n",
       "<table border=\"1\" class=\"dataframe\">\n",
       "  <thead>\n",
       "    <tr style=\"text-align: right;\">\n",
       "      <th></th>\n",
       "      <th>area</th>\n",
       "      <th>price</th>\n",
       "      <th>type</th>\n",
       "    </tr>\n",
       "  </thead>\n",
       "  <tbody>\n",
       "    <tr>\n",
       "      <th>0</th>\n",
       "      <td>7420</td>\n",
       "      <td>13300000</td>\n",
       "      <td>y_true</td>\n",
       "    </tr>\n",
       "    <tr>\n",
       "      <th>1</th>\n",
       "      <td>7420</td>\n",
       "      <td>3664408783</td>\n",
       "      <td>y_pred</td>\n",
       "    </tr>\n",
       "    <tr>\n",
       "      <th>2</th>\n",
       "      <td>8960</td>\n",
       "      <td>12250000</td>\n",
       "      <td>y_true</td>\n",
       "    </tr>\n",
       "    <tr>\n",
       "      <th>3</th>\n",
       "      <td>8960</td>\n",
       "      <td>4424871563</td>\n",
       "      <td>y_pred</td>\n",
       "    </tr>\n",
       "    <tr>\n",
       "      <th>4</th>\n",
       "      <td>9960</td>\n",
       "      <td>12250000</td>\n",
       "      <td>y_true</td>\n",
       "    </tr>\n",
       "  </tbody>\n",
       "</table>\n",
       "</div>"
      ]
     },
     "execution_count": 8,
     "metadata": {},
     "output_type": "execute_result"
    }
   ],
   "execution_count": 8
  },
  {
   "metadata": {
    "ExecuteTime": {
     "end_time": "2025-08-04T10:38:22.785762Z",
     "start_time": "2025-08-04T10:38:22.524576Z"
    }
   },
   "cell_type": "code",
   "source": [
    "\"\"\" Probability Distribution Function (PDF) for actual house price given in the dataset \"\"\"\n",
    "sns.displot(\n",
    "    data=house_df.query(\"type == 'y_true'\"),\n",
    "    x=\"price\",\n",
    "    kind='kde',\n",
    "    fill=True,\n",
    "\n",
    ")"
   ],
   "id": "e7d2f231060b718c",
   "outputs": [
    {
     "data": {
      "text/plain": [
       "<seaborn.axisgrid.FacetGrid at 0x2871289d590>"
      ]
     },
     "execution_count": 13,
     "metadata": {},
     "output_type": "execute_result"
    },
    {
     "data": {
      "text/plain": [
       "<Figure size 500x500 with 1 Axes>"
      ],
      "image/png": "[encoded data removed]"
     },
     "metadata": {},
     "output_type": "display_data"
    }
   ],
   "execution_count": 13
  },
  {
   "metadata": {
    "ExecuteTime": {
     "end_time": "2025-08-04T10:41:35.048165Z",
     "start_time": "2025-08-04T10:41:34.740680Z"
    }
   },
   "cell_type": "code",
   "source": [
    "sns.displot(\n",
    "    data=house_df.query(\"type == 'y_pred'\"),\n",
    "    x=\"price\",\n",
    "    kind='kde',\n",
    "    fill=True,\n",
    ")"
   ],
   "id": "f19be2dc4f303c2e",
   "outputs": [
    {
     "data": {
      "text/plain": [
       "<seaborn.axisgrid.FacetGrid at 0x28712903ed0>"
      ]
     },
     "execution_count": 14,
     "metadata": {},
     "output_type": "execute_result"
    },
    {
     "data": {
      "text/plain": [
       "<Figure size 500x500 with 1 Axes>"
      ],
      "image/png": "[encoded data removed]"
     },
     "metadata": {},
     "output_type": "display_data"
    }
   ],
   "execution_count": 14
  },
  {
   "metadata": {
    "ExecuteTime": {
     "end_time": "2025-08-04T10:41:45.707695Z",
     "start_time": "2025-08-04T10:41:45.689988Z"
    }
   },
   "cell_type": "code",
   "source": [
    "from scipy.stats import entropy\n",
    "\n",
    "def calculate_kl_divergence(df, epsilon=1e-10, max_divergence=1e6):\n",
    "    y_pred = df[df[\"type\"] == \"y_pred\"][\"price\"].values\n",
    "    y_true = df[df[\"type\"] == \"y_true\"][\"price\"].values\n",
    "    \n",
    "    y_pred_prob = y_pred / np.sum(y_pred)\n",
    "    y_true_prob = y_true / np.sum(y_true)\n",
    "    \n",
    "    y_pred_prob = np.clip(y_pred_prob, epsilon, 1)\n",
    "    y_true_prob = np.clip(y_true_prob, epsilon, 1)\n",
    "    \n",
    "    kl_div = entropy(y_true_prob, y_pred_prob)\n",
    "    \n",
    "    if np.isinf(kl_div):\n",
    "        kl_div = max_divergence\n",
    "    \n",
    "    return kl_div\n",
    "\n",
    "kl_divergence = calculate_kl_divergence(house_df)\n",
    "print(f\"KL Divergence: {kl_divergence}\")"
   ],
   "id": "889ea273f7ee861d",
   "outputs": [
    {
     "name": "stdout",
     "output_type": "stream",
     "text": [
      "KL Divergence: 0.06382493288817197\n"
     ]
    }
   ],
   "execution_count": 15
  },
  {
   "metadata": {},
   "cell_type": "code",
   "outputs": [],
   "execution_count": null,
   "source": [
    "\"\"\"\n",
    "Find the distribution dissimilarities between y_true_PDF and y_pred_PDF\n",
    "\n",
    "KL Divergence = D(y_true_PDF || y_pred_PDF)\n",
    "\n",
    "Objective of any Machine Learning\n",
    "---------------------------------\n",
    "\n",
    "- Increase Maximum likelihood estimation\n",
    "- Reduce dissimilarity between distributions (predicted vs true) \n",
    "- Reduce KL divergence\n",
    "- Minimize some error / loss / cost objective function\n",
    "\"\"\""
   ],
   "id": "65c63279a3281f1b"
  },
  {
   "metadata": {},
   "cell_type": "code",
   "outputs": [],
   "execution_count": null,
   "source": "",
   "id": "7901e334528e2cc"
  }
 ],
 "metadata": {
  "kernelspec": {
   "display_name": "Python 3",
   "language": "python",
   "name": "python3"
  },
  "language_info": {
   "codemirror_mode": {
    "name": "ipython",
    "version": 2
   },
   "file_extension": ".py",
   "mimetype": "text/x-python",
   "name": "python",
   "nbconvert_exporter": "python",
   "pygments_lexer": "ipython2",
   "version": "2.7.6"
  }
 },
 "nbformat": 4,
 "nbformat_minor": 5
}
